{
    "cells": [
        {
            "attachments": {},
            "cell_type": "markdown",
            "metadata": {},
            "source": [
                "![](fig/univ.png)\n",
                "\n",
                "# AI-2: Convolutional Neural Network\n",
                "## Homework 1: Artificial Neural Networks, Model Interpretation, and Regularization\n",
                "\n",
                "**AI2 Cohort 5**<br/>\n",
                "**Univ.AI**<br/>\n",
                "**Instructors**:Dr. Pavlos Protopapas<br />\n",
                "**Maximum Score**: 95 (+ 5 BONUS)\n",
                "\n",
                "<hr style=\"height:2.4pt\">"
            ]
        },
        {
            "cell_type": "code",
            "execution_count": 1,
            "metadata": {
                "scrolled": true
            },
            "outputs": [],
            "source": [
                "#RUN THIS CELL \n",
                "import requests\n",
                "from IPython.core.display import HTML"
            ]
        },
        {
            "cell_type": "code",
            "execution_count": 58,
            "metadata": {
                "collapsed": true
            },
            "outputs": [],
            "source": [
                "import random\n",
                "random.seed(112358)\n",
                "\n",
                "import os\n",
                "import sys\n",
                "\n",
                "import matplotlib.pyplot as plt\n",
                "import numpy as np\n",
                "import pandas as pd\n",
                "import seaborn as sns\n",
                "\n",
                "from sklearn.inspection import permutation_importance\n",
                "from sklearn.linear_model import LogisticRegression\n",
                "from sklearn.metrics import roc_auc_score, accuracy_score\n",
                "from sklearn.model_selection import train_test_split\n",
                "from sklearn.preprocessing import StandardScaler\n",
                "from sklearn.utils import resample\n",
                "\n",
                "# TensorFlow and tf.keras\n",
                "import tensorflow as tf\n",
                "\n",
                "%matplotlib inline"
            ]
        },
        {
            "attachments": {},
            "cell_type": "markdown",
            "metadata": {},
            "source": [
                "### INSTRUCTIONS\n",
                "\n",
                "\n",
                "- This homework is a jupyter notebook. Download and work on it on your local machine.\n",
                "\n",
                "- This homework should be submitted in pairs.\n",
                "\n",
                "- Homework should be submitted by only one student in a team of two. If both teammates submit, scores will be penalized.\n",
                "\n",
                "- Please restart the kernel and run the entire notebook again before you submit.\n",
                "\n",
                "- Running cells out of order is a common pitfall in Jupyter Notebooks. To make sure your code works restart the kernel and run the whole notebook again before you submit. \n",
                "\n",
                "- If you decide to submit a colab notebook, ensure you have given **complete edit access** to the staff while submitting. Also add any data that requires reviewing on google drive and submit the link.\n",
                "\n",
                "\n",
                "- To submit the homework, either one of you upload the working notebook on edStem and click the submit button on the bottom right corner.\n",
                "\n",
                "- Submit the homework well before the given deadline. Submissions after the deadline will not be graded.\n",
                "\n",
                "- We have tried to include all the libraries you may need to do the assignment in the imports statement at the top of this notebook. We strongly suggest that you use those and not others as we may not be familiar with them.\n",
                "\n",
                "- Comment your code well. This would help the graders in case there is any issue with the notebook while running. It is important to remember that the graders will not troubleshoot your code. \n",
                "\n",
                "- Please use .head() when viewing data. Do not submit a notebook that is **excessively long**. \n",
                "\n",
                "- In questions that require code to answer, such as \"calculate the $R^2$\", do not just output the value from a cell. Write a `print()` function that includes a reference to the calculated value, **not hardcoded**. For example: \n",
                "```\n",
                "print(f'The R^2 is {R:.4f}')\n",
                "```\n",
                "- Your plots should include clear labels for the $x$ and $y$ axes as well as a descriptive title (\"MSE plot\" is not a descriptive title; \"95 % confidence interval of coefficients of polynomial degree 5\" is).\n",
                "\n",
                "- **Ensure you make appropraite plots for all the questions it is applicable to, regardless of it being explicitly asked for.**\n",
                "\n",
                "- **IMPORTANT** : Do a final \"RUN\" and make sure your **outputs** are all visible for **each cell** at the time of submission. We will not be able to grade any cells without outputs.\n",
                "\n",
                "<span style=\"color:red\"> \n",
                "\n",
                "**IMPORTANT** \n",
                "\n",
                "- Plagiarism of code/blocks of text is not acceptable for any Univ.AI submissions.\n",
                "- You are allowed to refer to a publicly available source of information for a SMALL chunk of code  provided you cite it clearly. \n",
                "- Copying the code blatantly without attribution is not permitted in any case. \n",
                "- Sharing code between homework teams is strictly not allowed. In case of any confusion, you are advised to ask the staff on the Ed forum rather than assume the course of action needed.\n",
                "- If caught plagiarizing, you risk expulsion from the program.\n",
                "</span>\n",
                "\n",
                "<hr style=\"height:2pt\">"
            ]
        },
        {
            "attachments": {},
            "cell_type": "markdown",
            "metadata": {},
            "source": [
                "### Names of the people who worked on this homework together\n",
                "#### Hari Krishna"
            ]
        },
        {
            "attachments": {},
            "cell_type": "markdown",
            "metadata": {},
            "source": [
                "<a id=\"contents\"></a>\n",
                "\n",
                "## Notebook Contents\n",
                "\n",
                "- [**PART 1 [40 pts]: Model interpretation and predictive intervals in NN**](#part1)\n",
                "  - [Overview and Data Description](#part1intro)\n",
                "  - [Questions](#part1questions)\n",
                "  - [Solutions](#part1solutions)\n",
                "\n",
                "\n",
                "- [**PART 2.1 [30 pts]: Kannada MNIST Kaggle competition using ANNs**](#part2.1)\n",
                "  - [Problem Statement](#part2.1intro)\n",
                "  - [The Kannada MNIST Dataset](#part2.1about)\n",
                "  - [Downloading the Data Files](#part2.1data)\n",
                "  - [AI2-C2 Homework Kaggle Competition](#part2.1kaggle)\n",
                "  - [Questions](#part2.1questions)\n",
                "  - [Solutions](#part2.1solutions)\n",
                "\n",
                "- [**PART 2.2 [30 pts]: Kannada MNIST using CNNs**](#part2)\n",
                "  - [Questions](#part2.2questions)\n",
                "  - [Solutions](#part2.2solutions)\n"
            ]
        },
        {
            "attachments": {},
            "cell_type": "markdown",
            "metadata": {},
            "source": [
                "---"
            ]
        },
        {
            "attachments": {},
            "cell_type": "markdown",
            "metadata": {},
            "source": [
                "<div class=\"alert alert-block alert-danger\" style=\"color:black;background-color:#E7F4FA\">\n",
                "<h1> PART 1 [40 pts]: Model interpretation and predictive intervals in NN </h1> \n",
                "\n",
                "<a id=\"part1intro\"></a>\n",
                "\n",
                "<b> Overview and Data Description </b>\n",
                "\n",
                "In this problem, you will be building and interpreting models to predict whether a flight was delayed for its arrival based on features that could be measured as the flight takes off.  \n",
                "We will also estimate the predictive intervals of the model using bootstrapping. We will utilize those predictive intervals to build a new kind of model: a model that refrains from making a prediction when it is not confident.  \n",
                "\n",
                "The included variables are:\n",
                "\n",
                "**ARRIVAL_DELAY**: the difference between scheduled arrival and actual arrival, in minutes (positive is late, negative is early).\n",
                "\n",
                "**DISTANCE**: the distance between arrival and departure airports, in miles.\n",
                "\n",
                "**SCHEDULED_TIME**: the flight's scheduled travel time.\n",
                "\n",
                "**MONTH**: the month the flight took off, 1 = January, 2 = February, etc.\n",
                "\n",
                "**SCHED_DEP_HOUR**: the scheduled departure time (the hour of the day).\n",
                "\n",
                "**SCHED_ARR_HOUR**: the scheduled arrival time (the hour of the day).\n",
                "\n",
                "**FLIGHT_COUNT**: the number of flights flying out of that airport before noon on a typical day.\n",
                "\n",
                "**DAY_OF_WEEK**: the day of the week, 1 = Monday, 2 = Tuesday, etc.\n",
                "\n",
                "**ORIGIN_AIRPORT**: the airport the flight took off from.\n",
                "\n",
                "**DESTINATION_AIRPORT**: the airport the flight was scheduled to land at.\n",
                "\n",
                "For the airport codes, see: https://www.bts.gov/topics/airlines-and-airports/world-airport-codes\n",
                "\n",
                "To sucessfully complete this part, you will proceed by fitting a NN model, evaluating its accuracy, interpreting the predictors' importance, and finally evaluating the predictive intervals.\n",
                "\n",
                "**NOTE:** The observations were sampled so that roughly half of the observations were delayed and half of the observations were not delayed.\n",
                "\n",
                "</div> "
            ]
        },
        {
            "attachments": {},
            "cell_type": "markdown",
            "metadata": {},
            "source": [
                "<div class=\"alert alert-block alert-danger\" style=\"color:black;background-color:#E7F4FA\">\n",
                "\n",
                "\n",
                "<h2>PART 1: Questions</h2> \n",
                "\n",
                "[Return to contents](#contents)\n",
                "\n",
                "**1.1.1 [2 points]**  Read in the dataset `flights.csv`. Create a variable `DELAY_OR_NOT` that denotes whether `ARRIVAL_DELAY` is greater than or equal to 15 minutes (the FAA and BTS define a flight as delayed only if it arrives 15 minutes late or more). This is going to be the response variable for the rest of this question. \n",
                "\n",
                "Hint : Remember to drop the `ARRIVAL_DELAY` column.\n",
                "\n",
                "**1.1.2 [2 points]** Preprocess the data: one-hot-encode the non-numeric categorical variables and split the data into training and test sets (use an 80/20 split with `random_state=111`). Remember to scale your data and deal with missing values should you find any. Print the resulting shapes of your $X$ and $y$ dataframes for both your train and your test sets.\n",
                "\n",
                "**HINT**: When do you think you should scale the data? before or after splitting it?\n",
                "\n",
                "**1.2 [2 points]** Fit an artificial neural network model using all predictors (name this model `NN_model`).  Use a dense feed-forward network with two hidden layers with 15 nodes in each hidden layer. For this network, use appropriate activation functions for each layer, select an appropriate loss function and optimizer, specify a validation split of 0.2, train for an appropriate number of epochs based on the results of your training and validation accuracy plot, and feel free to use the default batch size while training. Plot the training accuracy and validation accuracy as a function of epochs from your `NN_model` training history. Evaluate the `NN_model` model on both train and test, and print out the resulting train and test accuracies.\n",
                "\n",
                "**1.3 [10 points]** To begin our interpretation of the resulting `NN_model`, we will first use a \"proxy model\" that we know how to interpret and train it on our `NN_model` training predictions.\n",
                "\n",
                "- **1.3.1** For this we need to modify our training set. First, generate a set of `NN_model` class predictions for the training set. These training predictions will be used to form a revised training dataset for our proxy model: (a) use all of the same $X$ values used by `NN_model` for our $X$ train and (b) replace the actual response values $y$ with the predicted $\\hat{y}$ values generated by the fitted `NN_model`.\n",
                "\n",
                "- **1.3.2** Next, fit a logistic regression model using your revised training dataset from 1.3.1 (name this model `logreg`). Use ridge-like regularization. Print the `logreg` test accuracy to confirm that it is similar to what we saw for our `NN_model` test accuracy in 1.2. You may need to adjust `C` in order to achieve a similar accuracy.\n",
                "\n",
                "- **1.3.3** Now use sklearn's `permutation_importance` class (already included in this notebook's imports) to compute the feature importance using the `logreg` model.\n",
                "\n",
                "  - Read the official documentation for `permutation_importance` [here](https://scikit-learn.org/stable/modules/permutation_importance.html#:~:text=The%20permutation%20feature%20importance%20is,model%20depends%20on%20the%20feature.) as well as [here](https://scikit-learn.org/stable/modules/generated/sklearn.inspection.permutation_importance.html#sklearn.inspection.permutation_importance) to learn how it works.\n",
                "\n",
                "  - You can use the default number of `n_repeats` and your estimator's default `scorer`. To speed up the time it takes to run your permutations, you can try setting `n_jobs=-1` to take full advantage of all of your available processor cores.\n",
                "\n",
                "  - Measure the **relative** variable importance (i.e. as a proportion of the variable importance of the most important variable identified by `permutation_importance`) and generate a barplot illustrating the relative variable importances for the top-10 most important predictors identified using `permutation_importance`.\n",
                "\n",
                "**1.4 [10 points]** Another way to interpret the  `NN_model` is by examining the response as a function of any of the predictors. Particularly, we will select from features often found most significant from the analysis above. **For all 1.4 plots below**, for ease of interpretation, **please be certain to** display all predictors on their original scales. \n",
                "\n",
                "   - **1.4.1** Set all predictors to their means/modes except for `SCHED_DEP_HOUR`. Predict the probability of delay and plot the predicted probabilities of delay vs. `SCHED_DEP_HOUR` on the data from the **training set**. Interpret what you see in 2-4 sentences.\n",
                "   - **1.4.2** Set all predictors to their means/modes except for `SCHED_DEP_HOUR` and `FLIGHT_COUNT`. Predict the probability of delay and plot the predicted probabilities of delay vs. `SCHED_DEP_HOUR` and `FLIGHT_COUNT` from the training set (see the question 1.4 \"HINT\" below).\n",
                "\n",
                "   - **1.4.3**   Set all predictors to their means/modes except for except for `SCHED_DEP_HOUR` and `SCHED_ARR_HOUR`. Predict the probability of delay and plot the predicted probabilities of delay vs. `SCHED_DEP_HOUR` and `SCHED_ARR_HOUR` from the training set.\n",
                "\n",
                "\n",
                "   - **1.4.4** Set all predictors to their means/modes except for except for `SCHED_DEP_HOUR` and `DISTANCE`. Predict the probability of delay and plot the predicted probabilities of delay vs. `SCHED_DEP_HOUR` and `DISTANCE` from the training set. \n",
                "  - **1.4.5** In 5-10 sentences, interpret what you have seen in 1.4.2, 1.4.3, and 1.4.4.\n",
                "  \n",
                "**HINT:** \n",
                "\n",
                ">(A) For 1.4.2, 1.4.3, and 1.4.4, when you include `SCHED_DEP_HOUR` on one axis and your second predictor on the other axis, you can color your datapoints based on their corresponding predicted probabilities by using  the `c` and `cmap` arguments in `plt.scatter`. You can also add a labeled colorbar to your plot to make clear what those colors mean. Please refer to the matplotlib documentation for examples. \n",
                "\n",
                ">(B) You may use the previously trained model from part 1.2 here. \n",
                "    \n",
                "**1.5 [2 points]**\n",
                "    \n",
                "In this part, we will attempt to do model inference. Neural Networks have too many parameters, and therefore inference on all the parameters is intractable and meaningless. \n",
                "\n",
                "Using the same network architecture as `NN_model` (layers, nodes, activations, etc.) and your scaled data from that model, create multiple training sets using bootstrapping and fit a separate neural network model to each bootstrapped set of data (a minimum of at least 50 bootstraps should be used). Predict the output on the test data for each model. Randomly select 8 test observations and on 8 subplots, plot the distribution of predicted probabilities (i.e. $n$ bootstrapped probabilites) with the 95% CI bounds clearly marked and reported in each subplot and the actual class of each observation included in each subplot's title for easy reference.\n",
                "\n",
                "Interpret what you see in 3-5 sentences.\n",
                "\n",
                "    \n",
                "**NOTE:** The code for this problem can take an extremely long time to execute. Please feel free to use the provided `progressbar` function below to visually track the progress of your bootstraps.\n",
                "    \n",
                "**1.6 [12 points]**\n",
                "    \n",
                "Using the probability distribution of the predictions obtained from the bootstrapped samples above, we can evaluate how \"significant\" our bagged (i.e. bootstrap-aggregated) prediction will be for each test observation.\n",
                "\n",
                "To accomplish this, you will first calculate the ratio of bootstrapped probabilities that cross the threshold value of $\\hat{p}=0.5$. Let's call this ratio the **Posterior Prediction Ratio (PPR)**. When a bagged prediction's $PPR=0$, all predictions are compatible (i.e. all bootstrapped probabilities for that test observation are on the same side of $\\hat{p}=0.5$). Likewise, when the $PPR=0.5$, half of the bootstrapped predictions for that test observation are $\\hat{y}=0$, and the other half are $\\hat{y}=1$. After calculating your $PPR$ values for all test observations, you should have $n=2000$ $PPR$ values (i.e. one for each test observation).\n",
                "\n",
                "Next, to get more accurate predictions, we can create an **abstain** model that will abstain from making a prediction for a particular observation if some defined threshold for significance (i.e. maximum $PPR$ value) is not met. (If you'd like to learn more about abstain models, you can read more [here](https://openreview.net/forum?id=rJxF73R9tX).)\n",
                "\n",
                "Let's explore how your resulting test accuracies might change by using your bootstrapped prediction results from question 1.5 for an **abstain bagging model** (i.e. a bootstrap aggregated model where some test observations are simply not predicted based on a given $PPR$ threshold). You can make your abstain model *stricter* by using smaller $PPR$ threshold values.\n",
                "\n",
                "- Print the test accuracy for your **bagging model** predictions from question 1.5 using predictions for all 2,000 of our test observations. \n",
                "\n",
                "- Plot the test accuracies for an **abstain bagging model** using your predictions from question 1.5 as a function of increasing $PPR$ thresholds.\n",
                "\n",
                "- Also, plot the proportion of test observations not abstained (i.e. the proportion of those predicted) for your **abstain bagging model** as a function of increasing $PPR$ thresholds.\n",
                "\n",
                "- Interpret what you see in 3-5 sentences.\n",
                "\n",
                "    \n",
                "**NOTE**: \n",
                ">You should observe that as $PPR$ decreases (more confident predictions), you must also compromise on the number of points that your abstain model predicts confidently. \n",
                ">Range of PPR Thresholds to consider will be 0 to 0.5.\n",
                "\n",
                "</div>"
            ]
        },
        {
            "attachments": {},
            "cell_type": "markdown",
            "metadata": {},
            "source": [
                "<a id=\"part1solutions\"></a>\n",
                "\n",
                "## PART 1: Solutions\n",
                "\n",
                "[Return to contents](#contents)\n"
            ]
        },
        {
            "attachments": {},
            "cell_type": "markdown",
            "metadata": {},
            "source": [
                "<div class='exercise-r'>  \n",
                "\n",
                "**1.1**\n",
                "\n",
                "</div>"
            ]
        },
        {
            "cell_type": "code",
            "execution_count": 71,
            "metadata": {
                "collapsed": true
            },
            "outputs": [],
            "source": [
                "# your code here \n",
                "df = pd.read_csv('data/flights.csv')\n"
            ]
        },
        {
            "cell_type": "code",
            "execution_count": 72,
            "metadata": {},
            "outputs": [
                {
                    "data": {
                        "text/html": [
                            "<div>\n",
                            "<style scoped>\n",
                            "    .dataframe tbody tr th:only-of-type {\n",
                            "        vertical-align: middle;\n",
                            "    }\n",
                            "\n",
                            "    .dataframe tbody tr th {\n",
                            "        vertical-align: top;\n",
                            "    }\n",
                            "\n",
                            "    .dataframe thead th {\n",
                            "        text-align: right;\n",
                            "    }\n",
                            "</style>\n",
                            "<table border=\"1\" class=\"dataframe\">\n",
                            "  <thead>\n",
                            "    <tr style=\"text-align: right;\">\n",
                            "      <th></th>\n",
                            "      <th>ARRIVAL_DELAY</th>\n",
                            "      <th>DISTANCE</th>\n",
                            "      <th>SCHEDULED_TIME</th>\n",
                            "      <th>MONTH</th>\n",
                            "      <th>SCHED_DEP_HOUR</th>\n",
                            "      <th>SCHED_ARR_HOUR</th>\n",
                            "      <th>FLIGHT_COUNT</th>\n",
                            "      <th>DAY_OF_WEEK</th>\n",
                            "      <th>ORIGIN_AIRPORT</th>\n",
                            "      <th>DESTINATION_AIRPORT</th>\n",
                            "    </tr>\n",
                            "  </thead>\n",
                            "  <tbody>\n",
                            "    <tr>\n",
                            "      <th>0</th>\n",
                            "      <td>23.0</td>\n",
                            "      <td>2586</td>\n",
                            "      <td>342.0</td>\n",
                            "      <td>9</td>\n",
                            "      <td>7</td>\n",
                            "      <td>15</td>\n",
                            "      <td>240</td>\n",
                            "      <td>3</td>\n",
                            "      <td>SFO</td>\n",
                            "      <td>JFK</td>\n",
                            "    </tr>\n",
                            "    <tr>\n",
                            "      <th>1</th>\n",
                            "      <td>10.0</td>\n",
                            "      <td>1235</td>\n",
                            "      <td>185.0</td>\n",
                            "      <td>5</td>\n",
                            "      <td>6</td>\n",
                            "      <td>11</td>\n",
                            "      <td>366</td>\n",
                            "      <td>4</td>\n",
                            "      <td>LAX</td>\n",
                            "      <td>DFW</td>\n",
                            "    </tr>\n",
                            "    <tr>\n",
                            "      <th>2</th>\n",
                            "      <td>-7.0</td>\n",
                            "      <td>184</td>\n",
                            "      <td>76.0</td>\n",
                            "      <td>4</td>\n",
                            "      <td>17</td>\n",
                            "      <td>18</td>\n",
                            "      <td>172</td>\n",
                            "      <td>7</td>\n",
                            "      <td>BOS</td>\n",
                            "      <td>LGA</td>\n",
                            "    </tr>\n",
                            "    <tr>\n",
                            "      <th>3</th>\n",
                            "      <td>68.0</td>\n",
                            "      <td>862</td>\n",
                            "      <td>148.0</td>\n",
                            "      <td>7</td>\n",
                            "      <td>19</td>\n",
                            "      <td>21</td>\n",
                            "      <td>260</td>\n",
                            "      <td>7</td>\n",
                            "      <td>IAH</td>\n",
                            "      <td>DEN</td>\n",
                            "    </tr>\n",
                            "    <tr>\n",
                            "      <th>4</th>\n",
                            "      <td>24.0</td>\n",
                            "      <td>236</td>\n",
                            "      <td>71.0</td>\n",
                            "      <td>3</td>\n",
                            "      <td>20</td>\n",
                            "      <td>21</td>\n",
                            "      <td>266</td>\n",
                            "      <td>2</td>\n",
                            "      <td>LAS</td>\n",
                            "      <td>LAX</td>\n",
                            "    </tr>\n",
                            "  </tbody>\n",
                            "</table>\n",
                            "</div>"
                        ],
                        "text/plain": [
                            "   ARRIVAL_DELAY  DISTANCE  SCHEDULED_TIME  MONTH  SCHED_DEP_HOUR  \\\n",
                            "0           23.0      2586           342.0      9               7   \n",
                            "1           10.0      1235           185.0      5               6   \n",
                            "2           -7.0       184            76.0      4              17   \n",
                            "3           68.0       862           148.0      7              19   \n",
                            "4           24.0       236            71.0      3              20   \n",
                            "\n",
                            "   SCHED_ARR_HOUR  FLIGHT_COUNT  DAY_OF_WEEK ORIGIN_AIRPORT  \\\n",
                            "0              15           240            3            SFO   \n",
                            "1              11           366            4            LAX   \n",
                            "2              18           172            7            BOS   \n",
                            "3              21           260            7            IAH   \n",
                            "4              21           266            2            LAS   \n",
                            "\n",
                            "  DESTINATION_AIRPORT  \n",
                            "0                 JFK  \n",
                            "1                 DFW  \n",
                            "2                 LGA  \n",
                            "3                 DEN  \n",
                            "4                 LAX  "
                        ]
                    },
                    "execution_count": 72,
                    "metadata": {},
                    "output_type": "execute_result"
                }
            ],
            "source": [
                "df.head()"
            ]
        },
        {
            "cell_type": "code",
            "execution_count": 73,
            "metadata": {},
            "outputs": [],
            "source": [
                "df['DELAY_OR_NOT'] = df['ARRIVAL_DELAY'] > 15"
            ]
        },
        {
            "cell_type": "code",
            "execution_count": 74,
            "metadata": {},
            "outputs": [],
            "source": [
                "df.drop('ARRIVAL_DELAY', inplace=True, axis=1)"
            ]
        },
        {
            "cell_type": "code",
            "execution_count": 75,
            "metadata": {},
            "outputs": [
                {
                    "data": {
                        "text/html": [
                            "<div>\n",
                            "<style scoped>\n",
                            "    .dataframe tbody tr th:only-of-type {\n",
                            "        vertical-align: middle;\n",
                            "    }\n",
                            "\n",
                            "    .dataframe tbody tr th {\n",
                            "        vertical-align: top;\n",
                            "    }\n",
                            "\n",
                            "    .dataframe thead th {\n",
                            "        text-align: right;\n",
                            "    }\n",
                            "</style>\n",
                            "<table border=\"1\" class=\"dataframe\">\n",
                            "  <thead>\n",
                            "    <tr style=\"text-align: right;\">\n",
                            "      <th></th>\n",
                            "      <th>DISTANCE</th>\n",
                            "      <th>SCHEDULED_TIME</th>\n",
                            "      <th>MONTH</th>\n",
                            "      <th>SCHED_DEP_HOUR</th>\n",
                            "      <th>SCHED_ARR_HOUR</th>\n",
                            "      <th>FLIGHT_COUNT</th>\n",
                            "      <th>DAY_OF_WEEK</th>\n",
                            "      <th>ORIGIN_AIRPORT</th>\n",
                            "      <th>DESTINATION_AIRPORT</th>\n",
                            "      <th>DELAY_OR_NOT</th>\n",
                            "    </tr>\n",
                            "  </thead>\n",
                            "  <tbody>\n",
                            "    <tr>\n",
                            "      <th>0</th>\n",
                            "      <td>2586</td>\n",
                            "      <td>342.0</td>\n",
                            "      <td>9</td>\n",
                            "      <td>7</td>\n",
                            "      <td>15</td>\n",
                            "      <td>240</td>\n",
                            "      <td>3</td>\n",
                            "      <td>SFO</td>\n",
                            "      <td>JFK</td>\n",
                            "      <td>True</td>\n",
                            "    </tr>\n",
                            "    <tr>\n",
                            "      <th>1</th>\n",
                            "      <td>1235</td>\n",
                            "      <td>185.0</td>\n",
                            "      <td>5</td>\n",
                            "      <td>6</td>\n",
                            "      <td>11</td>\n",
                            "      <td>366</td>\n",
                            "      <td>4</td>\n",
                            "      <td>LAX</td>\n",
                            "      <td>DFW</td>\n",
                            "      <td>False</td>\n",
                            "    </tr>\n",
                            "    <tr>\n",
                            "      <th>2</th>\n",
                            "      <td>184</td>\n",
                            "      <td>76.0</td>\n",
                            "      <td>4</td>\n",
                            "      <td>17</td>\n",
                            "      <td>18</td>\n",
                            "      <td>172</td>\n",
                            "      <td>7</td>\n",
                            "      <td>BOS</td>\n",
                            "      <td>LGA</td>\n",
                            "      <td>False</td>\n",
                            "    </tr>\n",
                            "    <tr>\n",
                            "      <th>3</th>\n",
                            "      <td>862</td>\n",
                            "      <td>148.0</td>\n",
                            "      <td>7</td>\n",
                            "      <td>19</td>\n",
                            "      <td>21</td>\n",
                            "      <td>260</td>\n",
                            "      <td>7</td>\n",
                            "      <td>IAH</td>\n",
                            "      <td>DEN</td>\n",
                            "      <td>True</td>\n",
                            "    </tr>\n",
                            "    <tr>\n",
                            "      <th>4</th>\n",
                            "      <td>236</td>\n",
                            "      <td>71.0</td>\n",
                            "      <td>3</td>\n",
                            "      <td>20</td>\n",
                            "      <td>21</td>\n",
                            "      <td>266</td>\n",
                            "      <td>2</td>\n",
                            "      <td>LAS</td>\n",
                            "      <td>LAX</td>\n",
                            "      <td>True</td>\n",
                            "    </tr>\n",
                            "  </tbody>\n",
                            "</table>\n",
                            "</div>"
                        ],
                        "text/plain": [
                            "   DISTANCE  SCHEDULED_TIME  MONTH  SCHED_DEP_HOUR  SCHED_ARR_HOUR  \\\n",
                            "0      2586           342.0      9               7              15   \n",
                            "1      1235           185.0      5               6              11   \n",
                            "2       184            76.0      4              17              18   \n",
                            "3       862           148.0      7              19              21   \n",
                            "4       236            71.0      3              20              21   \n",
                            "\n",
                            "   FLIGHT_COUNT  DAY_OF_WEEK ORIGIN_AIRPORT DESTINATION_AIRPORT  DELAY_OR_NOT  \n",
                            "0           240            3            SFO                 JFK          True  \n",
                            "1           366            4            LAX                 DFW         False  \n",
                            "2           172            7            BOS                 LGA         False  \n",
                            "3           260            7            IAH                 DEN          True  \n",
                            "4           266            2            LAS                 LAX          True  "
                        ]
                    },
                    "execution_count": 75,
                    "metadata": {},
                    "output_type": "execute_result"
                }
            ],
            "source": [
                "df.head()"
            ]
        },
        {
            "attachments": {},
            "cell_type": "markdown",
            "metadata": {},
            "source": [
                "<div class='exercise-r'>  \n",
                "\n",
                "**1.1.2**\n",
                "    \n",
                "</div>"
            ]
        },
        {
            "cell_type": "code",
            "execution_count": 76,
            "metadata": {
                "collapsed": true
            },
            "outputs": [],
            "source": [
                "# your code here\n",
                "ohe_cols = ['MONTH', 'SCHED_DEP_HOUR', 'SCHED_ARR_HOUR', 'DAY_OF_WEEK', 'ORIGIN_AIRPORT', 'DESTINATION_AIRPORT']\n",
                "# ohe_cols = ['MONTH', 'DAY_OF_WEEK', 'ORIGIN_AIRPORT', 'DESTINATION_AIRPORT']"
            ]
        },
        {
            "cell_type": "code",
            "execution_count": 77,
            "metadata": {},
            "outputs": [],
            "source": [
                "df = pd.get_dummies(df, columns = ohe_cols, drop_first=True)"
            ]
        },
        {
            "cell_type": "code",
            "execution_count": 14,
            "metadata": {},
            "outputs": [],
            "source": [
                "X_train, X_test, y_train, y_test = train_test_split(df.drop('DELAY_OR_NOT', axis=1), df['DELAY_OR_NOT'], test_size=0.2, random_state=111)"
            ]
        },
        {
            "cell_type": "code",
            "execution_count": 15,
            "metadata": {},
            "outputs": [],
            "source": [
                "#scale the x_train and x_test\n",
                "X_train = StandardScaler().fit_transform(X_train)\n",
                "X_test = StandardScaler().fit_transform(X_test)"
            ]
        },
        {
            "cell_type": "code",
            "execution_count": 22,
            "metadata": {},
            "outputs": [],
            "source": [
                "# deal with null values in X_train\n"
            ]
        },
        {
            "attachments": {},
            "cell_type": "markdown",
            "metadata": {},
            "source": [
                "<div class='exercise-r'>  \n",
                "    \n",
                "**1.2**\n",
                "    \n",
                "</div>"
            ]
        },
        {
            "cell_type": "code",
            "execution_count": 23,
            "metadata": {
                "collapsed": true
            },
            "outputs": [
                {
                    "name": "stderr",
                    "output_type": "stream",
                    "text": [
                        "2022-11-29 20:21:18.707191: I tensorflow/stream_executor/cuda/cuda_gpu_executor.cc:961] could not open file to read NUMA node: /sys/bus/pci/devices/0000:01:00.0/numa_node\n",
                        "Your kernel may have been built without NUMA support.\n",
                        "2022-11-29 20:21:19.170192: I tensorflow/stream_executor/cuda/cuda_gpu_executor.cc:961] could not open file to read NUMA node: /sys/bus/pci/devices/0000:01:00.0/numa_node\n",
                        "Your kernel may have been built without NUMA support.\n",
                        "2022-11-29 20:21:19.170459: I tensorflow/stream_executor/cuda/cuda_gpu_executor.cc:961] could not open file to read NUMA node: /sys/bus/pci/devices/0000:01:00.0/numa_node\n",
                        "Your kernel may have been built without NUMA support.\n",
                        "2022-11-29 20:21:19.205307: I tensorflow/core/platform/cpu_feature_guard.cc:193] This TensorFlow binary is optimized with oneAPI Deep Neural Network Library (oneDNN) to use the following CPU instructions in performance-critical operations:  AVX2 FMA\n",
                        "To enable them in other operations, rebuild TensorFlow with the appropriate compiler flags.\n",
                        "2022-11-29 20:21:19.225345: I tensorflow/stream_executor/cuda/cuda_gpu_executor.cc:961] could not open file to read NUMA node: /sys/bus/pci/devices/0000:01:00.0/numa_node\n",
                        "Your kernel may have been built without NUMA support.\n",
                        "2022-11-29 20:21:19.226104: I tensorflow/stream_executor/cuda/cuda_gpu_executor.cc:961] could not open file to read NUMA node: /sys/bus/pci/devices/0000:01:00.0/numa_node\n",
                        "Your kernel may have been built without NUMA support.\n",
                        "2022-11-29 20:21:19.226513: I tensorflow/stream_executor/cuda/cuda_gpu_executor.cc:961] could not open file to read NUMA node: /sys/bus/pci/devices/0000:01:00.0/numa_node\n",
                        "Your kernel may have been built without NUMA support.\n",
                        "2022-11-29 20:21:23.435101: I tensorflow/stream_executor/cuda/cuda_gpu_executor.cc:961] could not open file to read NUMA node: /sys/bus/pci/devices/0000:01:00.0/numa_node\n",
                        "Your kernel may have been built without NUMA support.\n",
                        "2022-11-29 20:21:23.438338: I tensorflow/stream_executor/cuda/cuda_gpu_executor.cc:961] could not open file to read NUMA node: /sys/bus/pci/devices/0000:01:00.0/numa_node\n",
                        "Your kernel may have been built without NUMA support.\n",
                        "2022-11-29 20:21:23.438534: I tensorflow/core/common_runtime/gpu/gpu_device.cc:1616] Could not identify NUMA node of platform GPU id 0, defaulting to 0.  Your kernel may not have been built with NUMA support.\n",
                        "2022-11-29 20:21:23.439800: I tensorflow/stream_executor/cuda/cuda_gpu_executor.cc:961] could not open file to read NUMA node: /sys/bus/pci/devices/0000:01:00.0/numa_node\n",
                        "Your kernel may have been built without NUMA support.\n",
                        "2022-11-29 20:21:23.443062: I tensorflow/core/common_runtime/gpu/gpu_device.cc:1532] Created device /job:localhost/replica:0/task:0/device:GPU:0 with 4604 MB memory:  -> device: 0, name: NVIDIA GeForce GTX 1060, pci bus id: 0000:01:00.0, compute capability: 6.1\n"
                    ]
                }
            ],
            "source": [
                "# build your NN \n",
                "# your code here\n",
                "#dense feed-forward network with two hidden layers with 15 nodes in each hidden layer\n",
                "NN_model = tf.keras.models.Sequential()\n",
                "NN_model.add(tf.keras.layers.Dense(15, input_dim=X_train.shape[1], activation='relu'))\n",
                "NN_model.add(tf.keras.layers.Dense(15, activation='relu'))\n",
                "NN_model.add(tf.keras.layers.Dense(1, activation='sigmoid'))\n"
            ]
        },
        {
            "cell_type": "code",
            "execution_count": 30,
            "metadata": {
                "collapsed": true
            },
            "outputs": [
                {
                    "name": "stdout",
                    "output_type": "stream",
                    "text": [
                        "Epoch 1/10\n",
                        "200/200 [==============================] - 10s 36ms/step - loss: 0.3241 - accuracy: 0.8636 - val_loss: 0.3409 - val_accuracy: 0.8438\n",
                        "Epoch 2/10\n",
                        "200/200 [==============================] - 4s 22ms/step - loss: 0.3023 - accuracy: 0.8717 - val_loss: 0.3724 - val_accuracy: 0.8275\n",
                        "Epoch 3/10\n",
                        "200/200 [==============================] - 5s 24ms/step - loss: 0.2875 - accuracy: 0.8784 - val_loss: 0.3994 - val_accuracy: 0.8175\n",
                        "Epoch 4/10\n",
                        "200/200 [==============================] - 3s 15ms/step - loss: 0.2752 - accuracy: 0.8852 - val_loss: 0.4172 - val_accuracy: 0.8163\n",
                        "Epoch 5/10\n",
                        "200/200 [==============================] - 4s 19ms/step - loss: 0.2630 - accuracy: 0.8905 - val_loss: 0.4471 - val_accuracy: 0.8069\n",
                        "Epoch 6/10\n",
                        "200/200 [==============================] - 4s 22ms/step - loss: 0.2530 - accuracy: 0.8961 - val_loss: 0.4635 - val_accuracy: 0.8019\n",
                        "Epoch 7/10\n",
                        "200/200 [==============================] - 4s 18ms/step - loss: 0.2418 - accuracy: 0.8991 - val_loss: 0.4850 - val_accuracy: 0.8000\n",
                        "Epoch 8/10\n",
                        "200/200 [==============================] - 3s 14ms/step - loss: 0.2317 - accuracy: 0.9047 - val_loss: 0.5033 - val_accuracy: 0.7956\n",
                        "Epoch 9/10\n",
                        "200/200 [==============================] - 3s 14ms/step - loss: 0.2225 - accuracy: 0.9100 - val_loss: 0.5355 - val_accuracy: 0.7831\n",
                        "Epoch 10/10\n",
                        "200/200 [==============================] - 3s 14ms/step - loss: 0.2132 - accuracy: 0.9153 - val_loss: 0.5583 - val_accuracy: 0.7825\n"
                    ]
                },
                {
                    "data": {
                        "text/plain": [
                            "<keras.callbacks.History at 0x7fe7e01325f0>"
                        ]
                    },
                    "execution_count": 30,
                    "metadata": {},
                    "output_type": "execute_result"
                }
            ],
            "source": [
                "# compile it and run it\n",
                "# your code here \n",
                "NN_model.compile(loss='binary_crossentropy', optimizer='adam', metrics=['accuracy'])\n",
                "NN_model.fit(X_train, y_train, epochs=10, batch_size=32, verbose=1, validation_split=0.2)\n"
            ]
        },
        {
            "cell_type": "code",
            "execution_count": 31,
            "metadata": {},
            "outputs": [
                {
                    "data": {
                        "text/plain": [
                            "dict_keys(['loss', 'accuracy', 'val_loss', 'val_accuracy'])"
                        ]
                    },
                    "execution_count": 31,
                    "metadata": {},
                    "output_type": "execute_result"
                }
            ],
            "source": [
                "NN_model.history.history.keys()"
            ]
        },
        {
            "cell_type": "code",
            "execution_count": 35,
            "metadata": {
                "collapsed": true
            },
            "outputs": [
                {
                    "data": {
                        "text/plain": [
                            "[<matplotlib.lines.Line2D at 0x7fe7ac1c9de0>]"
                        ]
                    },
                    "execution_count": 35,
                    "metadata": {},
                    "output_type": "execute_result"
                },
                {
                    "data": {
                        "image/png": "[encoded data removed]",
                        "text/plain": [
                            "<Figure size 432x288 with 1 Axes>"
                        ]
                    },
                    "metadata": {
                        "needs_background": "light"
                    },
                    "output_type": "display_data"
                }
            ],
            "source": [
                "# plot train and val acc as  a function of epochs\n",
                "# your code here\n",
                "plt.plot(NN_model.history.history['accuracy'])\n",
                "plt.plot(NN_model.history.history['val_accuracy'])"
            ]
        },
        {
            "cell_type": "code",
            "execution_count": 36,
            "metadata": {
                "collapsed": true
            },
            "outputs": [
                {
                    "name": "stdout",
                    "output_type": "stream",
                    "text": [
                        "250/250 [==============================] - 3s 10ms/step\n",
                        "NN_model_train_auc: 0.9582647021628873\n"
                    ]
                }
            ],
            "source": [
                "# primer to print: \n",
                "# print(\"NN_model_train_auc:\", roc_auc_score(y_train, y_hat))\n",
                "# your code here \n",
                "y_hat = NN_model.predict(X_train)\n",
                "print(\"NN_model_train_auc:\", roc_auc_score(y_train, y_hat))\n"
            ]
        },
        {
            "cell_type": "code",
            "execution_count": 37,
            "metadata": {
                "collapsed": true
            },
            "outputs": [
                {
                    "name": "stdout",
                    "output_type": "stream",
                    "text": [
                        "63/63 [==============================] - 1s 14ms/step\n",
                        "NN_model_test_auc: 0.7487853836138303\n"
                    ]
                }
            ],
            "source": [
                "# your code here\n",
                "y_fit = NN_model.predict(X_test)\n",
                "print(\"NN_model_test_auc:\", roc_auc_score(y_test, y_fit))\n"
            ]
        },
        {
            "attachments": {},
            "cell_type": "markdown",
            "metadata": {},
            "source": [
                "<div class='exercise-r'>\n",
                "\n",
                "**1.3**\n",
                "\n",
                "</div>"
            ]
        },
        {
            "cell_type": "code",
            "execution_count": 40,
            "metadata": {},
            "outputs": [],
            "source": [
                "DELAY_OR_NOT = y_hat > 0.5"
            ]
        },
        {
            "cell_type": "code",
            "execution_count": 41,
            "metadata": {
                "collapsed": true
            },
            "outputs": [
                {
                    "name": "stderr",
                    "output_type": "stream",
                    "text": [
                        "/home/munch/.local/lib/python3.10/site-packages/sklearn/utils/validation.py:1111: DataConversionWarning: A column-vector y was passed when a 1d array was expected. Please change the shape of y to (n_samples, ), for example using ravel().\n",
                        "  y = column_or_1d(y, warn=True)\n"
                    ]
                },
                {
                    "data": {
                        "text/plain": [
                            "0.7298849881853691"
                        ]
                    },
                    "execution_count": 41,
                    "metadata": {},
                    "output_type": "execute_result"
                }
            ],
            "source": [
                "# Fit the logistic regression model\n",
                "# your code here\n",
                "#use ridge  regression\n",
                "logreg = LogisticRegression(penalty='l2', C=1.0, solver='lbfgs', max_iter=1000)\n",
                "logreg.fit(X_train, DELAY_OR_NOT)\n",
                "y_p = logreg.predict(X_test)\n",
                "roc_auc_score(y_test, y_p)\n",
                "\n"
            ]
        },
        {
            "attachments": {},
            "cell_type": "markdown",
            "metadata": {},
            "source": [
                "<div class='exercise-r'>\n",
                "\n",
                "**1.4**    \n",
                "\n",
                "**1.4.1**\n",
                "\n",
                "</div>"
            ]
        },
        {
            "cell_type": "code",
            "execution_count": 42,
            "metadata": {
                "collapsed": true
            },
            "outputs": [],
            "source": [
                "# your code here\n",
                "#apply permutation importance to the model \n",
                "scores = permutation_importance(logreg, X_test, y_test, scoring='roc_auc')\n"
            ]
        },
        {
            "cell_type": "code",
            "execution_count": 47,
            "metadata": {},
            "outputs": [
                {
                    "data": {
                        "text/plain": [
                            "(2000, 866)"
                        ]
                    },
                    "execution_count": 47,
                    "metadata": {},
                    "output_type": "execute_result"
                }
            ],
            "source": [
                "X_test.shape"
            ]
        },
        {
            "cell_type": "code",
            "execution_count": 44,
            "metadata": {},
            "outputs": [
                {
                    "data": {
                        "text/plain": [
                            "[<matplotlib.lines.Line2D at 0x7fe78c16dd50>]"
                        ]
                    },
                    "execution_count": 44,
                    "metadata": {},
                    "output_type": "execute_result"
                },
                {
                    "data": {
                        "image/png": "[encoded data removed]",
                        "text/plain": [
                            "<Figure size 432x288 with 1 Axes>"
                        ]
                    },
                    "metadata": {
                        "needs_background": "light"
                    },
                    "output_type": "display_data"
                }
            ],
            "source": [
                "#plot the obtained permutation importance\n",
                "plt.plot(scores.importances_mean)"
            ]
        },
        {
            "cell_type": "code",
            "execution_count": 85,
            "metadata": {},
            "outputs": [],
            "source": [
                "# get the mosr important features\n",
                "imp_colimns = np.argsort(scores.importances_mean)[-20:]"
            ]
        },
        {
            "cell_type": "code",
            "execution_count": 86,
            "metadata": {},
            "outputs": [
                {
                    "data": {
                        "text/plain": [
                            "Index(['MONTH_5', 'SCHED_ARR_HOUR_23', 'SCHED_DEP_HOUR_7',\n",
                            "       'ORIGIN_AIRPORT_ONT', 'SCHED_DEP_HOUR_16', 'DESTINATION_AIRPORT_LFT',\n",
                            "       'DAY_OF_WEEK_6', 'DAY_OF_WEEK_5', 'MONTH_10', 'DISTANCE',\n",
                            "       'SCHED_DEP_HOUR_6', 'SCHED_DEP_HOUR_21', 'SCHEDULED_TIME',\n",
                            "       'SCHED_DEP_HOUR_17', 'MONTH_8', 'SCHED_DEP_HOUR_5', 'MONTH_9',\n",
                            "       'SCHED_DEP_HOUR_20', 'SCHED_DEP_HOUR_18', 'SCHED_DEP_HOUR_19'],\n",
                            "      dtype='object')"
                        ]
                    },
                    "execution_count": 86,
                    "metadata": {},
                    "output_type": "execute_result"
                }
            ],
            "source": [
                "df.columns[imp_colimns]"
            ]
        },
        {
            "attachments": {},
            "cell_type": "markdown",
            "metadata": {},
            "source": [
                "**INTERPRETATION:**"
            ]
        },
        {
            "attachments": {},
            "cell_type": "markdown",
            "metadata": {},
            "source": [
                "*Your answer here*"
            ]
        },
        {
            "attachments": {},
            "cell_type": "markdown",
            "metadata": {},
            "source": [
                "<div class='exercise-r'>\n",
                "\n",
                "**1.4.2**\n",
                "</div>"
            ]
        },
        {
            "cell_type": "code",
            "execution_count": 95,
            "metadata": {
                "collapsed": true
            },
            "outputs": [
                {
                    "data": {
                        "text/plain": [
                            "-4.758831255668108e-19"
                        ]
                    },
                    "execution_count": 95,
                    "metadata": {},
                    "output_type": "execute_result"
                }
            ],
            "source": [
                "# your code here\n",
                "# Replace all values in all columns of the training set with the column mean\n",
                "X_train\n"
            ]
        },
        {
            "attachments": {},
            "cell_type": "markdown",
            "metadata": {},
            "source": [
                "<div class='exercise-r'>\n",
                "\n",
                "**1.4.3**\n",
                "    \n",
                "</div>"
            ]
        },
        {
            "cell_type": "code",
            "execution_count": 13,
            "metadata": {
                "collapsed": true
            },
            "outputs": [],
            "source": [
                "# your code here\n"
            ]
        },
        {
            "attachments": {},
            "cell_type": "markdown",
            "metadata": {},
            "source": [
                "<div class='exercise-r'>\n",
                "\n",
                "**1.4.4**\n",
                "    \n",
                "</div>"
            ]
        },
        {
            "cell_type": "code",
            "execution_count": 14,
            "metadata": {
                "collapsed": true
            },
            "outputs": [],
            "source": [
                "# your code here\n"
            ]
        },
        {
            "attachments": {},
            "cell_type": "markdown",
            "metadata": {},
            "source": [
                "**INTERPRETATION:**"
            ]
        },
        {
            "attachments": {},
            "cell_type": "markdown",
            "metadata": {},
            "source": [
                "*your answer here*"
            ]
        },
        {
            "attachments": {},
            "cell_type": "markdown",
            "metadata": {},
            "source": [
                "<div class='exercise-r'>\n",
                "\n",
                "**1.5**\n",
                "\n",
                "</div>"
            ]
        },
        {
            "cell_type": "code",
            "execution_count": 15,
            "metadata": {
                "collapsed": true
            },
            "outputs": [],
            "source": [
                "def progressbar(n_step, n_total):\n",
                "    \"\"\"Prints self-updating progress bar to stdout to track for-loop progress\n",
                "    \n",
                "    There are entire 3rd-party libraries dedicated to custom progress-bars.\n",
                "    A simple function like this is often more than enough to get the job done.\n",
                "    \n",
                "    :param n_total: total number of expected for-loop iterations\n",
                "    :type n_total: int\n",
                "    :param n_step: current iteration number, starting at 0\n",
                "    :type n_step: int\n",
                "\n",
                "    .. example::\n",
                "    \n",
                "        for i in range(n_iterations):\n",
                "            progressbar(i, n_iterations)\n",
                "            \n",
                "    .. source:\n",
                "    \n",
                "        This function is a simplified version of code found here:\n",
                "        https://stackoverflow.com/questions/3160699/python-progress-bar/15860757#15860757\n",
                "    \"\"\"\n",
                "    n_step = n_step + 1\n",
                "    barlen = 50\n",
                "    progress = n_step / n_total\n",
                "    block = int(round(barlen * progress))\n",
                "    status = \"\"\n",
                "    if n_step == n_total:\n",
                "        status = \"Done...\\r\\n\\n\"\n",
                "    text = \"\\r [{0}] {1}/{2} {3}\".format(\n",
                "        \"=\" * block + \"-\" * (barlen - block),\n",
                "        n_step,\n",
                "        n_total,\n",
                "        status,\n",
                "    )\n",
                "    sys.stdout.write(text)\n",
                "    sys.stdout.flush()"
            ]
        },
        {
            "cell_type": "code",
            "execution_count": 16,
            "metadata": {},
            "outputs": [
                {
                    "name": "stdout",
                    "output_type": "stream",
                    "text": [
                        "CPU times: user 2 µs, sys: 1e+03 ns, total: 3 µs\n",
                        "Wall time: 5.01 µs\n"
                    ]
                }
            ],
            "source": [
                "%%time\n",
                "# Bootstrap and train your networks and get predictions on fixed X test\n",
                "# your code here\n"
            ]
        },
        {
            "cell_type": "code",
            "execution_count": 17,
            "metadata": {
                "collapsed": true
            },
            "outputs": [],
            "source": [
                "# generate your plot\n",
                "# your code here\n"
            ]
        },
        {
            "attachments": {},
            "cell_type": "markdown",
            "metadata": {},
            "source": [
                "**INTERPRETATION:**"
            ]
        },
        {
            "attachments": {},
            "cell_type": "markdown",
            "metadata": {},
            "source": [
                "*your answer here*"
            ]
        },
        {
            "attachments": {},
            "cell_type": "markdown",
            "metadata": {},
            "source": [
                "<div class='exercise-r'>\n",
                "\n",
                "**1.6**\n",
                "\n",
                "</div>"
            ]
        },
        {
            "cell_type": "code",
            "execution_count": 18,
            "metadata": {
                "collapsed": true
            },
            "outputs": [],
            "source": [
                "# your code here\n"
            ]
        },
        {
            "attachments": {},
            "cell_type": "markdown",
            "metadata": {},
            "source": [
                "**INTERPRETATION:**"
            ]
        },
        {
            "attachments": {},
            "cell_type": "markdown",
            "metadata": {},
            "source": [
                "*your answer here*"
            ]
        },
        {
            "attachments": {},
            "cell_type": "markdown",
            "metadata": {},
            "source": [
                "<div class=\"alert alert-block alert-danger\" style=\"color:black;background-color:#E7F4FA\">\n",
                "\n",
                "<h1>PART 2.1 [30 pts]: Kannada MNIST Kaggle competition using ANNs </h1>\n",
                "\n",
                "[Return to contents](#contents)\n",
                "\n",
                "\n",
                "<a id=\"part2.1intro\"></a>\n",
                "<h2> Problem Statement </h2>\n",
                "\n",
                "ANNs can be prone to overfitting, where they learn specific patterns present in the training data, but the patterns do not generalize to new data.\n",
                "\n",
                "There are several methods used to improve ANN generalization. \n",
                "\n",
                "One approach is to use an architecture just barely wide or deep enough to fit the data. The idea here is that smaller networks are less expressive and thus less able to overfit the data.\n",
                "\n",
                "However, it is difficult to know a priori the correct size of the ANN, and it is computationally costly to hunt for the correct size. Given this, other methodologies are used to prevent overfitting and improve ANNs' generalizability. These methodologies, like other techniques that combat overfitting, fall under the umbrella term of \"regularization\".\n",
                "\n",
                "In this problem, you are asked to regularize a network of a given architecture.\n",
                "\n",
                "<a id=\"part2.1about\"></a>\n",
                "\n",
                "<h3> The Kannada MNIST Dataset </h3>\n",
                "\n",
                "<img src=\"https://www.googleapis.com/download/storage/v1/b/kaggle-user-content/o/inbox%2F3630446%2F1e01bcc28b5ccb7ad38a4ffefb13cde0%2Fwondu.png?generation=1603204077179447&alt=media\" style=\"float:right\">\n",
                "\n",
                "For this problem, we will be working with a modified version of [Kannada MNIST dataset](https://arxiv.org/pdf/1908.01242.pdf) , which is a large database of handwritten digits in the indigenous language *Kannada*.\n",
                "\n",
                "This dataset consists of 60,000 28x28 grayscale images of the ten digits, along with a test set of 10,000 images. \n",
                "\n",
                "For this homework, we will simplify the problem by only use the digits labeled `0` and `1` owing to the similarity of the two symbols, and we want to use a total of 1200 samples for training (this includes the data you will use for validation).\n",
                "\n",
                "To understand the dataset better, we recommend this [article](https://towardsdatascience.com/a-new-handwritten-digits-dataset-in-ml-town-kannada-mnist-69df0f2d1456) by Vinay Prabhu, the curator of the dataset.\n",
                "\n",
                "<a id=\"part2data\"></a>\n",
                "\n",
                "<h3> Downloading the Data Files </h3>\n",
                "\n",
                "Please download all files from Kaggle. **The link will be given soon.**\n",
                "\n",
                "Here's a brief description of the available files:\n",
                "\n",
                "- `kmnist_train.csv` is our training dataset and the last column contains our response class. The 784 other columns correspond to the pixel values of the 28x28 dimension image.\n",
                "\n",
                "Class 0 means a sample is the handwritten digit `0` and class 1 means a sample is the handwritten digit `1` in the Kannada language.  \n",
                "\n",
                "- `kmnist_test.csv` has a structure similar to `kmnist_train.csv`, however the class label column is NOT included in with the test set. `kmnist_test.csv` has 2000 samples. \n",
                "\n",
                "Kaggle leaderboard scores are accuracy scores calculated by Kaggle when you upload your predictions on this test set.\n",
                "\n",
                "- `sample_submission.csv` is the format that kaggle will accept.\n",
                "\n",
                "<a id=\"part2.1kaggle\"></a>\n",
                "\n",
                "<h3> AI2-C2 Homework Kaggle Competition </h3>\n",
                "\n",
                "You need to create an account on Kaggle and join the competition. **The link is in the description.** \n",
                "\n",
                "**This is a limited participation competition. Please DO NOT share this link you will recieve.**\n",
                "\n",
                "For more information on the rules governing this Kaggle competition, **please [see question 2.1.3 below](#part2_3).**\n",
                "\n",
                "</div>"
            ]
        },
        {
            "attachments": {},
            "cell_type": "markdown",
            "metadata": {},
            "source": [
                "<div class=\"alert alert-block alert-danger\" style=\"color:black;background-color:#E7F4FA\">\n",
                "\n",
                "<h2>PART 2.1 Questions</h2>\n",
                "\n",
                "**2.1.1 [5 points]** **Get the data:**\n",
                "\n",
                "- Download data from the competition page.\n",
                "- We will utilize `kmnist_test.csv` in question 2.1.3.4 only. \n",
                "- Load the data and use the matplotlib function `imshow` to display a handwritten 0 and a handwritten 1.\n",
                "\n",
                "**2.1.2 [10 points]** **Overfit an ANN:** \n",
                "\n",
                "Build a fully-connected network (FCN) with the architecture given below using `tensorflow.keras` and assign it to a variable called `model_overfit`:\n",
                "\n",
                "- Number of hidden layers: 3\n",
                "- Nodes per hidden layer: 100, 100, 100\n",
                "- Activation function: ReLU \n",
                "- Loss function: binary_crossentropy\n",
                "- Output unit: Sigmoid \n",
                "- Optimizer: adam (use the defaults; no other tuning)\n",
                "- Epochs: no more than 2,000\n",
                "- Batch size: 128\n",
                "- Validation size: 0.3\n",
                "\n",
                "![](https://www.googleapis.com/download/storage/v1/b/kaggle-user-content/o/inbox%2F3630446%2F6a491ff8d4ff590dc8ded9a25461cd4b%2FScreenshot%202020-10-20%20at%209.42.36%20PM.png?generation=1603210420701577&alt=media) \n",
                "    \n",
                "This ANN, when trained on the dataset, will overfit to the training set. Plot the training accuracy and validation accuracy (the x-axis should represent the number of epochs, and the y-axis should represent the accuracy). Explain how you can tell the model is overfitting. \n",
                "\n",
                "<a id=\"part2_3\"></a>\n",
                "\n",
                "**2.1.3 [15 points]** **Regularize overfit network:**\n",
                "\n",
                "Create an ANN that doesn't overfit and compete on Kaggle.\n",
                "\n",
                "**DON'TS**\n",
                "\n",
                "**Don't change the architecture**. In other words, keep the number of layers, number of nodes, activation function,  loss function and output unit the same. **No CNNs/RNNs/enhancements allowed for the competition.**\n",
                "\n",
                "    \n",
                "**NOTE**: We strongly discourage you to use a different training set than the one provided to you (Data augmentation is allowed). If the test set accuracy of your model in this notebook is significantly different than your kaggle submission score, you will receive zero credit for this segment of the homework.\n",
                "\n",
                "    \n",
                "**DOS**\n",
                "\n",
                "You can change the number of epochs (max 2000), batch size, optimizer, and of course, add elements that can help to regularize (e.g., dropout, L2 norm, etc.). You **should** experiment with data augmentation. \n",
                "\n",
                "\n",
                "- **2.1.3.1** Display your model summary and your training and validation accuracy and loss.\n",
                "\n",
                "\n",
                "- **2.1.3.2** Print the difference between the training and validation accuracies and the difference between the training and validation losses for the final trained epoch used by your model.\n",
                "\n",
                "\n",
                "- **2.1.3.3** Plot the training accuracy and validation accuracy as a function of epochs.\n",
                "\n",
                "\n",
                "- **2.1.3.4** Generate your test set class predictions using your regularized model. Save those predictions to a `.csv` formatted file. Submit that `.csv` file to this Kaggle Competition for leaderboard scoring.\n",
                "\n",
                "\n",
                "- **2.1.3.5** **Specify your Kaggle name that you have used on the leaderboard**. *We can't give you credit without this.*\n",
                "\n",
                "\n",
                "    \n",
                "**IMPORTANT NOTES ABOUT SCORING**:\n",
                "\n",
                "- The **public leaderboard** on kaggle only displays your performance on 50% of the test set.\n",
                "\n",
                "\n",
                "- After the competition is complete, the **private leaderboard** will show your performance on the FULL test set.\n",
                "    \n",
                "Only the **top 5** competitors (as ranked on the hidden private leaderboard) will be eligible for full credit on question 2.1.3 (out of **15 points**). Remaining competitors will be scored out of **10 points** only for 2.1.3.\n",
                "\n",
                "\n",
                "**ADDITIONAL RULES:**\n",
                "\n",
                "- Multiple Kaggle submissions are permitted, **just note** that you will need to choose, on Kaggle, which submission shall be used for final scoring.\n",
                "\n",
                "\n",
                "- The version of your final notebook submitted on edStem **must contain the same model** used to generate to your chosen Kaggle submission.\n",
                "\n",
                "\n",
                "- **Please do not manually label your submissions.** In other words, the labels should only be the outcome of your model.\n",
                "\n",
                "\n",
                "- **No external data are allowed, please only use the KMNIST training data downloaded via the link above for training your model.**\n",
                "\n",
                "\n",
                "- **Do not** create multiple accounts on Kaggle.\n",
                "\n",
                "</div>"
            ]
        },
        {
            "attachments": {},
            "cell_type": "markdown",
            "metadata": {},
            "source": [
                "<a id=\"part2.1solutions\"></a>\n",
                "\n",
                "## PART 2.1 Solutions\n",
                "\n",
                "[Return to contents](#contents)\n",
                "\n",
                "\n"
            ]
        },
        {
            "attachments": {},
            "cell_type": "markdown",
            "metadata": {},
            "source": [
                "<div class='exercise-r'>\n",
                "\n",
                "**2.1.1** \n",
                "    \n",
                "</div>"
            ]
        },
        {
            "cell_type": "code",
            "execution_count": 98,
            "metadata": {
                "collapsed": true
            },
            "outputs": [],
            "source": [
                "# your code here \n",
                "#load the kmnist data\n",
                "df = pd.read_csv('kmnist_train.csv/kmnist_train.csv')"
            ]
        },
        {
            "cell_type": "code",
            "execution_count": 118,
            "metadata": {},
            "outputs": [
                {
                    "data": {
                        "text/plain": [
                            "<matplotlib.image.AxesImage at 0x7fe658f372b0>"
                        ]
                    },
                    "execution_count": 118,
                    "metadata": {},
                    "output_type": "execute_result"
                },
                {
                    "data": {
                        "image/png": "[encoded data removed]",
                        "text/plain": [
                            "<Figure size 432x288 with 1 Axes>"
                        ]
                    },
                    "metadata": {
                        "needs_background": "light"
                    },
                    "output_type": "display_data"
                }
            ],
            "source": [
                "#imshow the images\n",
                "plt.imshow(df.iloc[6,:-1].values.reshape(28,28))"
            ]
        },
        {
            "attachments": {},
            "cell_type": "markdown",
            "metadata": {},
            "source": [
                "<div class='exercise-r'>\n",
                "\n",
                "**2.1.2**\n",
                "    \n",
                "</div>"
            ]
        },
        {
            "cell_type": "code",
            "execution_count": 120,
            "metadata": {
                "collapsed": true
            },
            "outputs": [
                {
                    "name": "stdout",
                    "output_type": "stream",
                    "text": [
                        "Epoch 1/500\n",
                        "7/7 [==============================] - 2s 72ms/step - loss: 9.1060 - accuracy: 0.5131 - val_loss: 2.1429 - val_accuracy: 0.5889\n",
                        "Epoch 2/500\n",
                        "7/7 [==============================] - 0s 27ms/step - loss: 1.9582 - accuracy: 0.6333 - val_loss: 1.6614 - val_accuracy: 0.6583\n",
                        "Epoch 3/500\n",
                        "7/7 [==============================] - 0s 28ms/step - loss: 1.0485 - accuracy: 0.7048 - val_loss: 0.9597 - val_accuracy: 0.7306\n",
                        "Epoch 4/500\n",
                        "7/7 [==============================] - 0s 32ms/step - loss: 0.6413 - accuracy: 0.7774 - val_loss: 0.7320 - val_accuracy: 0.7806\n",
                        "Epoch 5/500\n",
                        "7/7 [==============================] - 0s 27ms/step - loss: 0.5440 - accuracy: 0.8310 - val_loss: 0.6197 - val_accuracy: 0.7806\n",
                        "Epoch 6/500\n",
                        "7/7 [==============================] - 0s 30ms/step - loss: 0.3246 - accuracy: 0.8845 - val_loss: 0.5694 - val_accuracy: 0.8222\n",
                        "Epoch 7/500\n",
                        "7/7 [==============================] - 0s 25ms/step - loss: 0.2416 - accuracy: 0.9250 - val_loss: 0.6245 - val_accuracy: 0.8167\n",
                        "Epoch 8/500\n",
                        "7/7 [==============================] - 0s 28ms/step - loss: 0.2208 - accuracy: 0.9131 - val_loss: 0.4748 - val_accuracy: 0.8250\n",
                        "Epoch 9/500\n",
                        "7/7 [==============================] - 0s 36ms/step - loss: 0.2171 - accuracy: 0.9131 - val_loss: 0.4983 - val_accuracy: 0.8306\n",
                        "Epoch 10/500\n",
                        "7/7 [==============================] - 0s 29ms/step - loss: 0.1229 - accuracy: 0.9464 - val_loss: 0.4192 - val_accuracy: 0.8583\n",
                        "Epoch 11/500\n",
                        "7/7 [==============================] - 0s 34ms/step - loss: 0.1079 - accuracy: 0.9631 - val_loss: 0.4352 - val_accuracy: 0.8528\n",
                        "Epoch 12/500\n",
                        "7/7 [==============================] - 0s 37ms/step - loss: 0.0688 - accuracy: 0.9774 - val_loss: 0.4577 - val_accuracy: 0.8556\n",
                        "Epoch 13/500\n",
                        "7/7 [==============================] - 0s 43ms/step - loss: 0.0577 - accuracy: 0.9821 - val_loss: 0.4615 - val_accuracy: 0.8611\n",
                        "Epoch 14/500\n",
                        "7/7 [==============================] - 0s 36ms/step - loss: 0.0364 - accuracy: 0.9917 - val_loss: 0.4110 - val_accuracy: 0.8694\n",
                        "Epoch 15/500\n",
                        "7/7 [==============================] - 0s 48ms/step - loss: 0.0240 - accuracy: 0.9976 - val_loss: 0.4175 - val_accuracy: 0.8583\n",
                        "Epoch 16/500\n",
                        "7/7 [==============================] - 0s 45ms/step - loss: 0.0238 - accuracy: 0.9976 - val_loss: 0.4226 - val_accuracy: 0.8611\n",
                        "Epoch 17/500\n",
                        "7/7 [==============================] - 0s 44ms/step - loss: 0.0183 - accuracy: 0.9988 - val_loss: 0.4343 - val_accuracy: 0.8667\n",
                        "Epoch 18/500\n",
                        "7/7 [==============================] - 0s 45ms/step - loss: 0.0143 - accuracy: 1.0000 - val_loss: 0.4262 - val_accuracy: 0.8694\n",
                        "Epoch 19/500\n",
                        "7/7 [==============================] - 0s 41ms/step - loss: 0.0112 - accuracy: 1.0000 - val_loss: 0.4114 - val_accuracy: 0.8639\n",
                        "Epoch 20/500\n",
                        "7/7 [==============================] - 0s 36ms/step - loss: 0.0107 - accuracy: 1.0000 - val_loss: 0.4319 - val_accuracy: 0.8722\n",
                        "Epoch 21/500\n",
                        "7/7 [==============================] - 0s 32ms/step - loss: 0.0088 - accuracy: 1.0000 - val_loss: 0.4330 - val_accuracy: 0.8778\n",
                        "Epoch 22/500\n",
                        "7/7 [==============================] - 0s 37ms/step - loss: 0.0077 - accuracy: 1.0000 - val_loss: 0.4203 - val_accuracy: 0.8694\n",
                        "Epoch 23/500\n",
                        "7/7 [==============================] - 0s 38ms/step - loss: 0.0070 - accuracy: 1.0000 - val_loss: 0.4378 - val_accuracy: 0.8750\n",
                        "Epoch 24/500\n",
                        "7/7 [==============================] - 0s 49ms/step - loss: 0.0058 - accuracy: 1.0000 - val_loss: 0.4205 - val_accuracy: 0.8750\n",
                        "Epoch 25/500\n",
                        "7/7 [==============================] - 0s 37ms/step - loss: 0.0054 - accuracy: 1.0000 - val_loss: 0.4389 - val_accuracy: 0.8694\n",
                        "Epoch 26/500\n",
                        "7/7 [==============================] - 0s 39ms/step - loss: 0.0051 - accuracy: 1.0000 - val_loss: 0.4192 - val_accuracy: 0.8778\n",
                        "Epoch 27/500\n",
                        "7/7 [==============================] - 0s 28ms/step - loss: 0.0046 - accuracy: 1.0000 - val_loss: 0.4313 - val_accuracy: 0.8750\n",
                        "Epoch 28/500\n",
                        "7/7 [==============================] - 0s 27ms/step - loss: 0.0044 - accuracy: 1.0000 - val_loss: 0.4231 - val_accuracy: 0.8833\n",
                        "Epoch 29/500\n",
                        "7/7 [==============================] - 0s 27ms/step - loss: 0.0040 - accuracy: 1.0000 - val_loss: 0.4264 - val_accuracy: 0.8861\n",
                        "Epoch 30/500\n",
                        "7/7 [==============================] - 0s 28ms/step - loss: 0.0038 - accuracy: 1.0000 - val_loss: 0.4269 - val_accuracy: 0.8833\n",
                        "Epoch 31/500\n",
                        "7/7 [==============================] - 0s 28ms/step - loss: 0.0036 - accuracy: 1.0000 - val_loss: 0.4311 - val_accuracy: 0.8833\n",
                        "Epoch 32/500\n",
                        "7/7 [==============================] - 0s 26ms/step - loss: 0.0033 - accuracy: 1.0000 - val_loss: 0.4257 - val_accuracy: 0.8833\n",
                        "Epoch 33/500\n",
                        "7/7 [==============================] - 0s 32ms/step - loss: 0.0032 - accuracy: 1.0000 - val_loss: 0.4298 - val_accuracy: 0.8833\n",
                        "Epoch 34/500\n",
                        "7/7 [==============================] - 0s 31ms/step - loss: 0.0030 - accuracy: 1.0000 - val_loss: 0.4267 - val_accuracy: 0.8861\n",
                        "Epoch 35/500\n",
                        "7/7 [==============================] - 0s 21ms/step - loss: 0.0028 - accuracy: 1.0000 - val_loss: 0.4313 - val_accuracy: 0.8861\n",
                        "Epoch 36/500\n",
                        "7/7 [==============================] - 0s 28ms/step - loss: 0.0027 - accuracy: 1.0000 - val_loss: 0.4278 - val_accuracy: 0.8861\n",
                        "Epoch 37/500\n",
                        "7/7 [==============================] - 0s 27ms/step - loss: 0.0026 - accuracy: 1.0000 - val_loss: 0.4329 - val_accuracy: 0.8861\n",
                        "Epoch 38/500\n",
                        "7/7 [==============================] - 0s 28ms/step - loss: 0.0025 - accuracy: 1.0000 - val_loss: 0.4285 - val_accuracy: 0.8861\n",
                        "Epoch 39/500\n",
                        "7/7 [==============================] - 0s 30ms/step - loss: 0.0023 - accuracy: 1.0000 - val_loss: 0.4302 - val_accuracy: 0.8861\n",
                        "Epoch 40/500\n",
                        "7/7 [==============================] - 0s 27ms/step - loss: 0.0022 - accuracy: 1.0000 - val_loss: 0.4321 - val_accuracy: 0.8861\n",
                        "Epoch 41/500\n",
                        "7/7 [==============================] - 0s 40ms/step - loss: 0.0021 - accuracy: 1.0000 - val_loss: 0.4335 - val_accuracy: 0.8861\n",
                        "Epoch 42/500\n",
                        "7/7 [==============================] - 0s 46ms/step - loss: 0.0020 - accuracy: 1.0000 - val_loss: 0.4337 - val_accuracy: 0.8861\n",
                        "Epoch 43/500\n",
                        "7/7 [==============================] - 0s 34ms/step - loss: 0.0020 - accuracy: 1.0000 - val_loss: 0.4370 - val_accuracy: 0.8861\n",
                        "Epoch 44/500\n",
                        "7/7 [==============================] - 0s 29ms/step - loss: 0.0018 - accuracy: 1.0000 - val_loss: 0.4341 - val_accuracy: 0.8861\n",
                        "Epoch 45/500\n",
                        "7/7 [==============================] - 0s 33ms/step - loss: 0.0018 - accuracy: 1.0000 - val_loss: 0.4358 - val_accuracy: 0.8861\n",
                        "Epoch 46/500\n",
                        "7/7 [==============================] - 0s 27ms/step - loss: 0.0017 - accuracy: 1.0000 - val_loss: 0.4386 - val_accuracy: 0.8861\n",
                        "Epoch 47/500\n",
                        "7/7 [==============================] - 0s 27ms/step - loss: 0.0016 - accuracy: 1.0000 - val_loss: 0.4374 - val_accuracy: 0.8861\n",
                        "Epoch 48/500\n",
                        "7/7 [==============================] - 0s 29ms/step - loss: 0.0016 - accuracy: 1.0000 - val_loss: 0.4391 - val_accuracy: 0.8861\n",
                        "Epoch 49/500\n",
                        "7/7 [==============================] - 0s 31ms/step - loss: 0.0016 - accuracy: 1.0000 - val_loss: 0.4345 - val_accuracy: 0.8861\n",
                        "Epoch 50/500\n",
                        "7/7 [==============================] - 0s 27ms/step - loss: 0.0016 - accuracy: 1.0000 - val_loss: 0.4386 - val_accuracy: 0.8861\n",
                        "Epoch 51/500\n",
                        "7/7 [==============================] - 0s 28ms/step - loss: 0.0015 - accuracy: 1.0000 - val_loss: 0.4347 - val_accuracy: 0.8861\n",
                        "Epoch 52/500\n",
                        "7/7 [==============================] - 0s 27ms/step - loss: 0.0014 - accuracy: 1.0000 - val_loss: 0.4353 - val_accuracy: 0.8861\n",
                        "Epoch 53/500\n",
                        "7/7 [==============================] - 0s 32ms/step - loss: 0.0013 - accuracy: 1.0000 - val_loss: 0.4483 - val_accuracy: 0.8806\n",
                        "Epoch 54/500\n",
                        "7/7 [==============================] - 0s 28ms/step - loss: 0.0013 - accuracy: 1.0000 - val_loss: 0.4399 - val_accuracy: 0.8861\n",
                        "Epoch 55/500\n",
                        "7/7 [==============================] - 0s 30ms/step - loss: 0.0012 - accuracy: 1.0000 - val_loss: 0.4496 - val_accuracy: 0.8806\n",
                        "Epoch 56/500\n",
                        "7/7 [==============================] - 0s 27ms/step - loss: 0.0011 - accuracy: 1.0000 - val_loss: 0.4449 - val_accuracy: 0.8806\n",
                        "Epoch 57/500\n",
                        "7/7 [==============================] - 0s 27ms/step - loss: 0.0011 - accuracy: 1.0000 - val_loss: 0.4474 - val_accuracy: 0.8806\n",
                        "Epoch 58/500\n",
                        "7/7 [==============================] - 0s 29ms/step - loss: 0.0011 - accuracy: 1.0000 - val_loss: 0.4481 - val_accuracy: 0.8806\n",
                        "Epoch 59/500\n",
                        "7/7 [==============================] - 0s 28ms/step - loss: 0.0010 - accuracy: 1.0000 - val_loss: 0.4492 - val_accuracy: 0.8806\n",
                        "Epoch 60/500\n",
                        "7/7 [==============================] - 0s 30ms/step - loss: 9.9783e-04 - accuracy: 1.0000 - val_loss: 0.4479 - val_accuracy: 0.8833\n",
                        "Epoch 61/500\n",
                        "7/7 [==============================] - 0s 27ms/step - loss: 9.7485e-04 - accuracy: 1.0000 - val_loss: 0.4501 - val_accuracy: 0.8833\n",
                        "Epoch 62/500\n",
                        "7/7 [==============================] - 0s 29ms/step - loss: 9.2721e-04 - accuracy: 1.0000 - val_loss: 0.4502 - val_accuracy: 0.8806\n",
                        "Epoch 63/500\n",
                        "7/7 [==============================] - 0s 28ms/step - loss: 9.0687e-04 - accuracy: 1.0000 - val_loss: 0.4559 - val_accuracy: 0.8806\n",
                        "Epoch 64/500\n",
                        "7/7 [==============================] - 0s 30ms/step - loss: 8.7514e-04 - accuracy: 1.0000 - val_loss: 0.4529 - val_accuracy: 0.8833\n",
                        "Epoch 65/500\n",
                        "7/7 [==============================] - 0s 31ms/step - loss: 8.5226e-04 - accuracy: 1.0000 - val_loss: 0.4577 - val_accuracy: 0.8806\n",
                        "Epoch 66/500\n",
                        "7/7 [==============================] - 0s 35ms/step - loss: 8.2500e-04 - accuracy: 1.0000 - val_loss: 0.4508 - val_accuracy: 0.8833\n",
                        "Epoch 67/500\n",
                        "7/7 [==============================] - 0s 33ms/step - loss: 8.2066e-04 - accuracy: 1.0000 - val_loss: 0.4536 - val_accuracy: 0.8833\n",
                        "Epoch 68/500\n",
                        "7/7 [==============================] - 0s 34ms/step - loss: 7.8125e-04 - accuracy: 1.0000 - val_loss: 0.4724 - val_accuracy: 0.8778\n",
                        "Epoch 69/500\n",
                        "7/7 [==============================] - 0s 27ms/step - loss: 7.7113e-04 - accuracy: 1.0000 - val_loss: 0.4555 - val_accuracy: 0.8861\n",
                        "Epoch 70/500\n",
                        "7/7 [==============================] - 0s 30ms/step - loss: 7.5067e-04 - accuracy: 1.0000 - val_loss: 0.4632 - val_accuracy: 0.8806\n",
                        "Epoch 71/500\n",
                        "7/7 [==============================] - 0s 29ms/step - loss: 7.0744e-04 - accuracy: 1.0000 - val_loss: 0.4783 - val_accuracy: 0.8778\n",
                        "Epoch 72/500\n",
                        "7/7 [==============================] - 0s 32ms/step - loss: 6.8034e-04 - accuracy: 1.0000 - val_loss: 0.4569 - val_accuracy: 0.8833\n",
                        "Epoch 73/500\n",
                        "7/7 [==============================] - 0s 29ms/step - loss: 6.9232e-04 - accuracy: 1.0000 - val_loss: 0.4606 - val_accuracy: 0.8861\n",
                        "Epoch 74/500\n",
                        "7/7 [==============================] - 0s 28ms/step - loss: 6.7281e-04 - accuracy: 1.0000 - val_loss: 0.4706 - val_accuracy: 0.8806\n",
                        "Epoch 75/500\n",
                        "7/7 [==============================] - 0s 31ms/step - loss: 6.1783e-04 - accuracy: 1.0000 - val_loss: 0.4768 - val_accuracy: 0.8778\n",
                        "Epoch 76/500\n",
                        "7/7 [==============================] - 0s 51ms/step - loss: 6.0424e-04 - accuracy: 1.0000 - val_loss: 0.4906 - val_accuracy: 0.8722\n",
                        "Epoch 77/500\n",
                        "7/7 [==============================] - 0s 40ms/step - loss: 5.7251e-04 - accuracy: 1.0000 - val_loss: 0.4867 - val_accuracy: 0.8778\n",
                        "Epoch 78/500\n",
                        "7/7 [==============================] - 0s 44ms/step - loss: 5.5037e-04 - accuracy: 1.0000 - val_loss: 0.4850 - val_accuracy: 0.8778\n",
                        "Epoch 79/500\n",
                        "7/7 [==============================] - 0s 32ms/step - loss: 5.3228e-04 - accuracy: 1.0000 - val_loss: 0.4947 - val_accuracy: 0.8750\n",
                        "Epoch 80/500\n",
                        "7/7 [==============================] - 0s 35ms/step - loss: 5.1031e-04 - accuracy: 1.0000 - val_loss: 0.5038 - val_accuracy: 0.8750\n",
                        "Epoch 81/500\n",
                        "7/7 [==============================] - 0s 33ms/step - loss: 4.9474e-04 - accuracy: 1.0000 - val_loss: 0.4889 - val_accuracy: 0.8778\n",
                        "Epoch 82/500\n",
                        "7/7 [==============================] - 0s 34ms/step - loss: 4.8732e-04 - accuracy: 1.0000 - val_loss: 0.5028 - val_accuracy: 0.8750\n",
                        "Epoch 83/500\n",
                        "7/7 [==============================] - 0s 29ms/step - loss: 4.6849e-04 - accuracy: 1.0000 - val_loss: 0.4944 - val_accuracy: 0.8750\n",
                        "Epoch 84/500\n",
                        "7/7 [==============================] - 0s 30ms/step - loss: 4.4809e-04 - accuracy: 1.0000 - val_loss: 0.5118 - val_accuracy: 0.8750\n",
                        "Epoch 85/500\n",
                        "7/7 [==============================] - 0s 31ms/step - loss: 4.3235e-04 - accuracy: 1.0000 - val_loss: 0.4955 - val_accuracy: 0.8750\n",
                        "Epoch 86/500\n",
                        "7/7 [==============================] - 0s 35ms/step - loss: 4.2337e-04 - accuracy: 1.0000 - val_loss: 0.5188 - val_accuracy: 0.8750\n",
                        "Epoch 87/500\n",
                        "7/7 [==============================] - 0s 30ms/step - loss: 4.0662e-04 - accuracy: 1.0000 - val_loss: 0.5142 - val_accuracy: 0.8750\n",
                        "Epoch 88/500\n",
                        "7/7 [==============================] - 0s 30ms/step - loss: 3.9732e-04 - accuracy: 1.0000 - val_loss: 0.5019 - val_accuracy: 0.8778\n",
                        "Epoch 89/500\n",
                        "7/7 [==============================] - 0s 32ms/step - loss: 3.9006e-04 - accuracy: 1.0000 - val_loss: 0.5152 - val_accuracy: 0.8750\n",
                        "Epoch 90/500\n",
                        "7/7 [==============================] - 0s 30ms/step - loss: 3.7505e-04 - accuracy: 1.0000 - val_loss: 0.5176 - val_accuracy: 0.8778\n",
                        "Epoch 91/500\n",
                        "7/7 [==============================] - 0s 28ms/step - loss: 3.6588e-04 - accuracy: 1.0000 - val_loss: 0.5226 - val_accuracy: 0.8806\n",
                        "Epoch 92/500\n",
                        "7/7 [==============================] - 0s 32ms/step - loss: 3.5780e-04 - accuracy: 1.0000 - val_loss: 0.5235 - val_accuracy: 0.8778\n",
                        "Epoch 93/500\n",
                        "7/7 [==============================] - 0s 44ms/step - loss: 3.4756e-04 - accuracy: 1.0000 - val_loss: 0.5235 - val_accuracy: 0.8778\n",
                        "Epoch 94/500\n",
                        "7/7 [==============================] - 0s 30ms/step - loss: 3.3843e-04 - accuracy: 1.0000 - val_loss: 0.5204 - val_accuracy: 0.8806\n",
                        "Epoch 95/500\n",
                        "7/7 [==============================] - 0s 29ms/step - loss: 3.3352e-04 - accuracy: 1.0000 - val_loss: 0.5273 - val_accuracy: 0.8806\n",
                        "Epoch 96/500\n",
                        "7/7 [==============================] - 0s 29ms/step - loss: 3.2510e-04 - accuracy: 1.0000 - val_loss: 0.5292 - val_accuracy: 0.8806\n",
                        "Epoch 97/500\n",
                        "7/7 [==============================] - 0s 29ms/step - loss: 3.1836e-04 - accuracy: 1.0000 - val_loss: 0.5201 - val_accuracy: 0.8806\n",
                        "Epoch 98/500\n",
                        "7/7 [==============================] - 0s 29ms/step - loss: 3.1235e-04 - accuracy: 1.0000 - val_loss: 0.5377 - val_accuracy: 0.8833\n",
                        "Epoch 99/500\n",
                        "7/7 [==============================] - 0s 28ms/step - loss: 3.0411e-04 - accuracy: 1.0000 - val_loss: 0.5190 - val_accuracy: 0.8806\n",
                        "Epoch 100/500\n",
                        "7/7 [==============================] - 0s 29ms/step - loss: 3.0485e-04 - accuracy: 1.0000 - val_loss: 0.5284 - val_accuracy: 0.8806\n",
                        "Epoch 101/500\n",
                        "7/7 [==============================] - 0s 26ms/step - loss: 2.9261e-04 - accuracy: 1.0000 - val_loss: 0.5312 - val_accuracy: 0.8861\n",
                        "Epoch 102/500\n",
                        "7/7 [==============================] - 0s 30ms/step - loss: 2.8584e-04 - accuracy: 1.0000 - val_loss: 0.5469 - val_accuracy: 0.8861\n",
                        "Epoch 103/500\n",
                        "7/7 [==============================] - 0s 30ms/step - loss: 2.7639e-04 - accuracy: 1.0000 - val_loss: 0.5422 - val_accuracy: 0.8833\n",
                        "Epoch 104/500\n",
                        "7/7 [==============================] - 0s 40ms/step - loss: 2.7066e-04 - accuracy: 1.0000 - val_loss: 0.5527 - val_accuracy: 0.8861\n",
                        "Epoch 105/500\n",
                        "7/7 [==============================] - 0s 32ms/step - loss: 2.6417e-04 - accuracy: 1.0000 - val_loss: 0.5421 - val_accuracy: 0.8833\n",
                        "Epoch 106/500\n",
                        "7/7 [==============================] - 0s 33ms/step - loss: 2.6033e-04 - accuracy: 1.0000 - val_loss: 0.5438 - val_accuracy: 0.8833\n",
                        "Epoch 107/500\n",
                        "7/7 [==============================] - 0s 33ms/step - loss: 2.5462e-04 - accuracy: 1.0000 - val_loss: 0.5505 - val_accuracy: 0.8861\n",
                        "Epoch 108/500\n",
                        "7/7 [==============================] - 0s 31ms/step - loss: 2.5034e-04 - accuracy: 1.0000 - val_loss: 0.5439 - val_accuracy: 0.8833\n",
                        "Epoch 109/500\n",
                        "7/7 [==============================] - 0s 31ms/step - loss: 2.4415e-04 - accuracy: 1.0000 - val_loss: 0.5575 - val_accuracy: 0.8861\n",
                        "Epoch 110/500\n",
                        "7/7 [==============================] - 0s 48ms/step - loss: 2.3964e-04 - accuracy: 1.0000 - val_loss: 0.5557 - val_accuracy: 0.8889\n",
                        "Epoch 111/500\n",
                        "7/7 [==============================] - 0s 35ms/step - loss: 2.3313e-04 - accuracy: 1.0000 - val_loss: 0.5491 - val_accuracy: 0.8833\n",
                        "Epoch 112/500\n",
                        "7/7 [==============================] - 0s 37ms/step - loss: 2.3388e-04 - accuracy: 1.0000 - val_loss: 0.5376 - val_accuracy: 0.8806\n",
                        "Epoch 113/500\n",
                        "7/7 [==============================] - 0s 32ms/step - loss: 2.2739e-04 - accuracy: 1.0000 - val_loss: 0.5732 - val_accuracy: 0.8861\n",
                        "Epoch 114/500\n",
                        "7/7 [==============================] - 0s 28ms/step - loss: 2.2296e-04 - accuracy: 1.0000 - val_loss: 0.5307 - val_accuracy: 0.8806\n",
                        "Epoch 115/500\n",
                        "7/7 [==============================] - 0s 30ms/step - loss: 2.2224e-04 - accuracy: 1.0000 - val_loss: 0.5711 - val_accuracy: 0.8861\n",
                        "Epoch 116/500\n",
                        "7/7 [==============================] - 0s 27ms/step - loss: 2.1247e-04 - accuracy: 1.0000 - val_loss: 0.5600 - val_accuracy: 0.8833\n",
                        "Epoch 117/500\n",
                        "7/7 [==============================] - 0s 27ms/step - loss: 2.0712e-04 - accuracy: 1.0000 - val_loss: 0.5703 - val_accuracy: 0.8861\n",
                        "Epoch 118/500\n",
                        "7/7 [==============================] - 0s 30ms/step - loss: 2.0273e-04 - accuracy: 1.0000 - val_loss: 0.5665 - val_accuracy: 0.8833\n",
                        "Epoch 119/500\n",
                        "7/7 [==============================] - 0s 33ms/step - loss: 1.9889e-04 - accuracy: 1.0000 - val_loss: 0.5486 - val_accuracy: 0.8833\n",
                        "Epoch 120/500\n",
                        "7/7 [==============================] - 0s 33ms/step - loss: 1.9724e-04 - accuracy: 1.0000 - val_loss: 0.5720 - val_accuracy: 0.8833\n",
                        "Epoch 121/500\n",
                        "7/7 [==============================] - 0s 28ms/step - loss: 1.9392e-04 - accuracy: 1.0000 - val_loss: 0.5351 - val_accuracy: 0.8833\n",
                        "Epoch 122/500\n",
                        "7/7 [==============================] - 0s 41ms/step - loss: 1.9919e-04 - accuracy: 1.0000 - val_loss: 0.5483 - val_accuracy: 0.8806\n",
                        "Epoch 123/500\n",
                        "7/7 [==============================] - 0s 27ms/step - loss: 1.8700e-04 - accuracy: 1.0000 - val_loss: 0.5610 - val_accuracy: 0.8833\n",
                        "Epoch 124/500\n",
                        "7/7 [==============================] - 0s 34ms/step - loss: 1.8690e-04 - accuracy: 1.0000 - val_loss: 0.5444 - val_accuracy: 0.8806\n",
                        "Epoch 125/500\n",
                        "7/7 [==============================] - 0s 30ms/step - loss: 1.7990e-04 - accuracy: 1.0000 - val_loss: 0.5972 - val_accuracy: 0.8806\n",
                        "Epoch 126/500\n",
                        "7/7 [==============================] - 0s 26ms/step - loss: 1.7726e-04 - accuracy: 1.0000 - val_loss: 0.5436 - val_accuracy: 0.8806\n",
                        "Epoch 127/500\n",
                        "7/7 [==============================] - 0s 26ms/step - loss: 1.7612e-04 - accuracy: 1.0000 - val_loss: 0.5712 - val_accuracy: 0.8833\n",
                        "Epoch 128/500\n",
                        "7/7 [==============================] - 0s 27ms/step - loss: 1.7213e-04 - accuracy: 1.0000 - val_loss: 0.5571 - val_accuracy: 0.8833\n",
                        "Epoch 129/500\n",
                        "7/7 [==============================] - 0s 27ms/step - loss: 1.7182e-04 - accuracy: 1.0000 - val_loss: 0.5477 - val_accuracy: 0.8806\n",
                        "Epoch 130/500\n",
                        "7/7 [==============================] - 0s 28ms/step - loss: 1.6410e-04 - accuracy: 1.0000 - val_loss: 0.5887 - val_accuracy: 0.8778\n",
                        "Epoch 131/500\n",
                        "7/7 [==============================] - 0s 23ms/step - loss: 1.6075e-04 - accuracy: 1.0000 - val_loss: 0.5652 - val_accuracy: 0.8833\n",
                        "Epoch 132/500\n",
                        "7/7 [==============================] - 0s 27ms/step - loss: 1.5721e-04 - accuracy: 1.0000 - val_loss: 0.5825 - val_accuracy: 0.8806\n",
                        "Epoch 133/500\n",
                        "7/7 [==============================] - 0s 27ms/step - loss: 1.5474e-04 - accuracy: 1.0000 - val_loss: 0.5707 - val_accuracy: 0.8833\n",
                        "Epoch 134/500\n",
                        "7/7 [==============================] - 0s 27ms/step - loss: 1.5340e-04 - accuracy: 1.0000 - val_loss: 0.5652 - val_accuracy: 0.8833\n",
                        "Epoch 135/500\n",
                        "7/7 [==============================] - 0s 30ms/step - loss: 1.5218e-04 - accuracy: 1.0000 - val_loss: 0.5623 - val_accuracy: 0.8833\n",
                        "Epoch 136/500\n",
                        "7/7 [==============================] - 0s 31ms/step - loss: 1.4793e-04 - accuracy: 1.0000 - val_loss: 0.5742 - val_accuracy: 0.8833\n",
                        "Epoch 137/500\n",
                        "7/7 [==============================] - 0s 37ms/step - loss: 1.4564e-04 - accuracy: 1.0000 - val_loss: 0.5633 - val_accuracy: 0.8833\n",
                        "Epoch 138/500\n",
                        "7/7 [==============================] - 0s 35ms/step - loss: 1.4256e-04 - accuracy: 1.0000 - val_loss: 0.5855 - val_accuracy: 0.8806\n",
                        "Epoch 139/500\n",
                        "7/7 [==============================] - 0s 29ms/step - loss: 1.4009e-04 - accuracy: 1.0000 - val_loss: 0.5738 - val_accuracy: 0.8833\n",
                        "Epoch 140/500\n",
                        "7/7 [==============================] - 0s 32ms/step - loss: 1.3785e-04 - accuracy: 1.0000 - val_loss: 0.5882 - val_accuracy: 0.8806\n",
                        "Epoch 141/500\n",
                        "7/7 [==============================] - 0s 28ms/step - loss: 1.3590e-04 - accuracy: 1.0000 - val_loss: 0.5769 - val_accuracy: 0.8833\n",
                        "Epoch 142/500\n",
                        "7/7 [==============================] - 0s 27ms/step - loss: 1.3383e-04 - accuracy: 1.0000 - val_loss: 0.5929 - val_accuracy: 0.8806\n",
                        "Epoch 143/500\n",
                        "7/7 [==============================] - 0s 29ms/step - loss: 1.3155e-04 - accuracy: 1.0000 - val_loss: 0.5748 - val_accuracy: 0.8833\n",
                        "Epoch 144/500\n",
                        "7/7 [==============================] - 0s 33ms/step - loss: 1.2974e-04 - accuracy: 1.0000 - val_loss: 0.5852 - val_accuracy: 0.8806\n",
                        "Epoch 145/500\n",
                        "7/7 [==============================] - 0s 29ms/step - loss: 1.2735e-04 - accuracy: 1.0000 - val_loss: 0.5859 - val_accuracy: 0.8806\n",
                        "Epoch 146/500\n",
                        "7/7 [==============================] - 0s 30ms/step - loss: 1.2543e-04 - accuracy: 1.0000 - val_loss: 0.5835 - val_accuracy: 0.8806\n",
                        "Epoch 147/500\n",
                        "7/7 [==============================] - 0s 26ms/step - loss: 1.2384e-04 - accuracy: 1.0000 - val_loss: 0.5823 - val_accuracy: 0.8806\n",
                        "Epoch 148/500\n",
                        "7/7 [==============================] - 0s 27ms/step - loss: 1.2232e-04 - accuracy: 1.0000 - val_loss: 0.5893 - val_accuracy: 0.8806\n",
                        "Epoch 149/500\n",
                        "7/7 [==============================] - 0s 46ms/step - loss: 1.2043e-04 - accuracy: 1.0000 - val_loss: 0.5811 - val_accuracy: 0.8806\n",
                        "Epoch 150/500\n",
                        "7/7 [==============================] - 0s 52ms/step - loss: 1.1924e-04 - accuracy: 1.0000 - val_loss: 0.5842 - val_accuracy: 0.8806\n",
                        "Epoch 151/500\n",
                        "7/7 [==============================] - 0s 55ms/step - loss: 1.1750e-04 - accuracy: 1.0000 - val_loss: 0.5884 - val_accuracy: 0.8806\n",
                        "Epoch 152/500\n",
                        "7/7 [==============================] - 0s 55ms/step - loss: 1.1578e-04 - accuracy: 1.0000 - val_loss: 0.5865 - val_accuracy: 0.8806\n",
                        "Epoch 153/500\n",
                        "7/7 [==============================] - 0s 46ms/step - loss: 1.1462e-04 - accuracy: 1.0000 - val_loss: 0.5880 - val_accuracy: 0.8806\n",
                        "Epoch 154/500\n",
                        "7/7 [==============================] - 0s 39ms/step - loss: 1.1253e-04 - accuracy: 1.0000 - val_loss: 0.5891 - val_accuracy: 0.8806\n",
                        "Epoch 155/500\n",
                        "7/7 [==============================] - 0s 31ms/step - loss: 1.1148e-04 - accuracy: 1.0000 - val_loss: 0.5920 - val_accuracy: 0.8806\n",
                        "Epoch 156/500\n",
                        "7/7 [==============================] - 0s 33ms/step - loss: 1.0983e-04 - accuracy: 1.0000 - val_loss: 0.5890 - val_accuracy: 0.8806\n",
                        "Epoch 157/500\n",
                        "7/7 [==============================] - 0s 26ms/step - loss: 1.0866e-04 - accuracy: 1.0000 - val_loss: 0.5906 - val_accuracy: 0.8806\n",
                        "Epoch 158/500\n",
                        "7/7 [==============================] - 0s 28ms/step - loss: 1.0713e-04 - accuracy: 1.0000 - val_loss: 0.5880 - val_accuracy: 0.8806\n",
                        "Epoch 159/500\n",
                        "7/7 [==============================] - 0s 37ms/step - loss: 1.0574e-04 - accuracy: 1.0000 - val_loss: 0.5921 - val_accuracy: 0.8806\n",
                        "Epoch 160/500\n",
                        "7/7 [==============================] - 0s 34ms/step - loss: 1.0444e-04 - accuracy: 1.0000 - val_loss: 0.5921 - val_accuracy: 0.8806\n",
                        "Epoch 161/500\n",
                        "7/7 [==============================] - 0s 32ms/step - loss: 1.0327e-04 - accuracy: 1.0000 - val_loss: 0.5840 - val_accuracy: 0.8806\n",
                        "Epoch 162/500\n",
                        "7/7 [==============================] - 0s 26ms/step - loss: 1.0226e-04 - accuracy: 1.0000 - val_loss: 0.5948 - val_accuracy: 0.8806\n",
                        "Epoch 163/500\n",
                        "7/7 [==============================] - 0s 29ms/step - loss: 1.0085e-04 - accuracy: 1.0000 - val_loss: 0.5855 - val_accuracy: 0.8806\n",
                        "Epoch 164/500\n",
                        "7/7 [==============================] - 0s 42ms/step - loss: 9.9489e-05 - accuracy: 1.0000 - val_loss: 0.5936 - val_accuracy: 0.8806\n",
                        "Epoch 165/500\n",
                        "7/7 [==============================] - 0s 26ms/step - loss: 9.8344e-05 - accuracy: 1.0000 - val_loss: 0.5887 - val_accuracy: 0.8806\n",
                        "Epoch 166/500\n",
                        "7/7 [==============================] - 0s 36ms/step - loss: 9.7661e-05 - accuracy: 1.0000 - val_loss: 0.5834 - val_accuracy: 0.8861\n",
                        "Epoch 167/500\n",
                        "7/7 [==============================] - 0s 34ms/step - loss: 9.6330e-05 - accuracy: 1.0000 - val_loss: 0.5888 - val_accuracy: 0.8806\n",
                        "Epoch 168/500\n",
                        "7/7 [==============================] - 0s 35ms/step - loss: 9.6030e-05 - accuracy: 1.0000 - val_loss: 0.5631 - val_accuracy: 0.8861\n",
                        "Epoch 169/500\n",
                        "7/7 [==============================] - 0s 34ms/step - loss: 9.4909e-05 - accuracy: 1.0000 - val_loss: 0.5896 - val_accuracy: 0.8806\n",
                        "Epoch 170/500\n",
                        "7/7 [==============================] - 0s 35ms/step - loss: 9.2768e-05 - accuracy: 1.0000 - val_loss: 0.5957 - val_accuracy: 0.8806\n",
                        "Epoch 171/500\n",
                        "7/7 [==============================] - 0s 27ms/step - loss: 9.1536e-05 - accuracy: 1.0000 - val_loss: 0.5913 - val_accuracy: 0.8806\n",
                        "Epoch 172/500\n",
                        "7/7 [==============================] - 0s 33ms/step - loss: 9.0325e-05 - accuracy: 1.0000 - val_loss: 0.5975 - val_accuracy: 0.8806\n",
                        "Epoch 173/500\n",
                        "7/7 [==============================] - 0s 29ms/step - loss: 8.9244e-05 - accuracy: 1.0000 - val_loss: 0.5942 - val_accuracy: 0.8806\n",
                        "Epoch 174/500\n",
                        "7/7 [==============================] - 0s 33ms/step - loss: 8.8845e-05 - accuracy: 1.0000 - val_loss: 0.5987 - val_accuracy: 0.8806\n",
                        "Epoch 175/500\n",
                        "7/7 [==============================] - 0s 25ms/step - loss: 8.8238e-05 - accuracy: 1.0000 - val_loss: 0.5948 - val_accuracy: 0.8806\n",
                        "Epoch 176/500\n",
                        "7/7 [==============================] - 0s 30ms/step - loss: 8.6423e-05 - accuracy: 1.0000 - val_loss: 0.5893 - val_accuracy: 0.8833\n",
                        "Epoch 177/500\n",
                        "7/7 [==============================] - 0s 32ms/step - loss: 8.5459e-05 - accuracy: 1.0000 - val_loss: 0.5876 - val_accuracy: 0.8861\n",
                        "Epoch 178/500\n",
                        "7/7 [==============================] - 0s 49ms/step - loss: 8.4508e-05 - accuracy: 1.0000 - val_loss: 0.6003 - val_accuracy: 0.8806\n",
                        "Epoch 179/500\n",
                        "7/7 [==============================] - 0s 42ms/step - loss: 8.3363e-05 - accuracy: 1.0000 - val_loss: 0.5957 - val_accuracy: 0.8806\n",
                        "Epoch 180/500\n",
                        "7/7 [==============================] - 0s 33ms/step - loss: 8.2653e-05 - accuracy: 1.0000 - val_loss: 0.5969 - val_accuracy: 0.8806\n",
                        "Epoch 181/500\n",
                        "7/7 [==============================] - 0s 28ms/step - loss: 8.1494e-05 - accuracy: 1.0000 - val_loss: 0.5981 - val_accuracy: 0.8806\n",
                        "Epoch 182/500\n",
                        "7/7 [==============================] - 0s 29ms/step - loss: 8.0485e-05 - accuracy: 1.0000 - val_loss: 0.5968 - val_accuracy: 0.8806\n",
                        "Epoch 183/500\n",
                        "7/7 [==============================] - 0s 36ms/step - loss: 7.9647e-05 - accuracy: 1.0000 - val_loss: 0.5989 - val_accuracy: 0.8806\n",
                        "Epoch 184/500\n",
                        "7/7 [==============================] - 0s 30ms/step - loss: 7.8767e-05 - accuracy: 1.0000 - val_loss: 0.5986 - val_accuracy: 0.8806\n",
                        "Epoch 185/500\n",
                        "7/7 [==============================] - 0s 33ms/step - loss: 7.7705e-05 - accuracy: 1.0000 - val_loss: 0.6023 - val_accuracy: 0.8806\n",
                        "Epoch 186/500\n",
                        "7/7 [==============================] - 0s 28ms/step - loss: 7.6685e-05 - accuracy: 1.0000 - val_loss: 0.6013 - val_accuracy: 0.8806\n",
                        "Epoch 187/500\n",
                        "7/7 [==============================] - 0s 26ms/step - loss: 7.6250e-05 - accuracy: 1.0000 - val_loss: 0.5958 - val_accuracy: 0.8833\n",
                        "Epoch 188/500\n",
                        "7/7 [==============================] - 0s 27ms/step - loss: 7.5592e-05 - accuracy: 1.0000 - val_loss: 0.5854 - val_accuracy: 0.8861\n",
                        "Epoch 189/500\n",
                        "7/7 [==============================] - 0s 31ms/step - loss: 7.4757e-05 - accuracy: 1.0000 - val_loss: 0.5980 - val_accuracy: 0.8806\n",
                        "Epoch 190/500\n",
                        "7/7 [==============================] - 0s 26ms/step - loss: 7.3681e-05 - accuracy: 1.0000 - val_loss: 0.5981 - val_accuracy: 0.8806\n",
                        "Epoch 191/500\n",
                        "7/7 [==============================] - 0s 27ms/step - loss: 7.3073e-05 - accuracy: 1.0000 - val_loss: 0.5852 - val_accuracy: 0.8861\n",
                        "Epoch 192/500\n",
                        "7/7 [==============================] - 0s 37ms/step - loss: 7.2468e-05 - accuracy: 1.0000 - val_loss: 0.5981 - val_accuracy: 0.8833\n",
                        "Epoch 193/500\n",
                        "7/7 [==============================] - 0s 33ms/step - loss: 7.1287e-05 - accuracy: 1.0000 - val_loss: 0.5959 - val_accuracy: 0.8833\n",
                        "Epoch 194/500\n",
                        "7/7 [==============================] - 0s 35ms/step - loss: 7.0737e-05 - accuracy: 1.0000 - val_loss: 0.5879 - val_accuracy: 0.8861\n",
                        "Epoch 195/500\n",
                        "7/7 [==============================] - 0s 34ms/step - loss: 6.9618e-05 - accuracy: 1.0000 - val_loss: 0.6037 - val_accuracy: 0.8806\n",
                        "Epoch 196/500\n",
                        "7/7 [==============================] - 0s 28ms/step - loss: 6.8545e-05 - accuracy: 1.0000 - val_loss: 0.6045 - val_accuracy: 0.8806\n",
                        "Epoch 197/500\n",
                        "7/7 [==============================] - 0s 27ms/step - loss: 6.7718e-05 - accuracy: 1.0000 - val_loss: 0.6037 - val_accuracy: 0.8806\n",
                        "Epoch 198/500\n",
                        "7/7 [==============================] - 0s 28ms/step - loss: 6.6878e-05 - accuracy: 1.0000 - val_loss: 0.6072 - val_accuracy: 0.8806\n",
                        "Epoch 199/500\n",
                        "7/7 [==============================] - 0s 32ms/step - loss: 6.5996e-05 - accuracy: 1.0000 - val_loss: 0.6041 - val_accuracy: 0.8806\n",
                        "Epoch 200/500\n",
                        "7/7 [==============================] - 0s 42ms/step - loss: 6.5196e-05 - accuracy: 1.0000 - val_loss: 0.6044 - val_accuracy: 0.8806\n",
                        "Epoch 201/500\n",
                        "7/7 [==============================] - 0s 38ms/step - loss: 6.4439e-05 - accuracy: 1.0000 - val_loss: 0.6027 - val_accuracy: 0.8806\n",
                        "Epoch 202/500\n",
                        "7/7 [==============================] - 0s 39ms/step - loss: 6.3906e-05 - accuracy: 1.0000 - val_loss: 0.6002 - val_accuracy: 0.8833\n",
                        "Epoch 203/500\n",
                        "7/7 [==============================] - 0s 35ms/step - loss: 6.2911e-05 - accuracy: 1.0000 - val_loss: 0.6074 - val_accuracy: 0.8806\n",
                        "Epoch 204/500\n",
                        "7/7 [==============================] - 0s 35ms/step - loss: 6.2198e-05 - accuracy: 1.0000 - val_loss: 0.6043 - val_accuracy: 0.8806\n",
                        "Epoch 205/500\n",
                        "7/7 [==============================] - 0s 46ms/step - loss: 6.1444e-05 - accuracy: 1.0000 - val_loss: 0.6079 - val_accuracy: 0.8806\n",
                        "Epoch 206/500\n",
                        "7/7 [==============================] - 0s 30ms/step - loss: 6.0795e-05 - accuracy: 1.0000 - val_loss: 0.6069 - val_accuracy: 0.8806\n",
                        "Epoch 207/500\n",
                        "7/7 [==============================] - 0s 37ms/step - loss: 6.0112e-05 - accuracy: 1.0000 - val_loss: 0.6082 - val_accuracy: 0.8806\n",
                        "Epoch 208/500\n",
                        "7/7 [==============================] - 0s 29ms/step - loss: 5.9449e-05 - accuracy: 1.0000 - val_loss: 0.6073 - val_accuracy: 0.8806\n",
                        "Epoch 209/500\n",
                        "7/7 [==============================] - 0s 29ms/step - loss: 5.8763e-05 - accuracy: 1.0000 - val_loss: 0.6097 - val_accuracy: 0.8806\n",
                        "Epoch 210/500\n",
                        "7/7 [==============================] - 0s 34ms/step - loss: 5.8145e-05 - accuracy: 1.0000 - val_loss: 0.5987 - val_accuracy: 0.8833\n",
                        "Epoch 211/500\n",
                        "7/7 [==============================] - 0s 41ms/step - loss: 5.7734e-05 - accuracy: 1.0000 - val_loss: 0.6030 - val_accuracy: 0.8833\n",
                        "Epoch 212/500\n",
                        "7/7 [==============================] - 0s 37ms/step - loss: 5.6924e-05 - accuracy: 1.0000 - val_loss: 0.6132 - val_accuracy: 0.8806\n",
                        "Epoch 213/500\n",
                        "7/7 [==============================] - 0s 34ms/step - loss: 5.6430e-05 - accuracy: 1.0000 - val_loss: 0.6090 - val_accuracy: 0.8806\n",
                        "Epoch 214/500\n",
                        "7/7 [==============================] - 0s 36ms/step - loss: 5.5774e-05 - accuracy: 1.0000 - val_loss: 0.6122 - val_accuracy: 0.8806\n",
                        "Epoch 215/500\n",
                        "7/7 [==============================] - 0s 28ms/step - loss: 5.5276e-05 - accuracy: 1.0000 - val_loss: 0.6068 - val_accuracy: 0.8833\n",
                        "Epoch 216/500\n",
                        "7/7 [==============================] - 0s 34ms/step - loss: 5.4726e-05 - accuracy: 1.0000 - val_loss: 0.6067 - val_accuracy: 0.8833\n",
                        "Epoch 217/500\n",
                        "7/7 [==============================] - 0s 28ms/step - loss: 5.4170e-05 - accuracy: 1.0000 - val_loss: 0.6089 - val_accuracy: 0.8833\n",
                        "Epoch 218/500\n",
                        "7/7 [==============================] - 0s 29ms/step - loss: 5.3484e-05 - accuracy: 1.0000 - val_loss: 0.6123 - val_accuracy: 0.8833\n",
                        "Epoch 219/500\n",
                        "7/7 [==============================] - 0s 29ms/step - loss: 5.3093e-05 - accuracy: 1.0000 - val_loss: 0.6007 - val_accuracy: 0.8861\n",
                        "Epoch 220/500\n",
                        "7/7 [==============================] - 0s 33ms/step - loss: 5.3172e-05 - accuracy: 1.0000 - val_loss: 0.5854 - val_accuracy: 0.8917\n",
                        "Epoch 221/500\n",
                        "7/7 [==============================] - 0s 35ms/step - loss: 5.2716e-05 - accuracy: 1.0000 - val_loss: 0.6040 - val_accuracy: 0.8861\n",
                        "Epoch 222/500\n",
                        "7/7 [==============================] - 0s 36ms/step - loss: 5.1564e-05 - accuracy: 1.0000 - val_loss: 0.6128 - val_accuracy: 0.8833\n",
                        "Epoch 223/500\n",
                        "7/7 [==============================] - 0s 29ms/step - loss: 5.1210e-05 - accuracy: 1.0000 - val_loss: 0.5930 - val_accuracy: 0.8917\n",
                        "Epoch 224/500\n",
                        "7/7 [==============================] - 0s 30ms/step - loss: 5.0817e-05 - accuracy: 1.0000 - val_loss: 0.6036 - val_accuracy: 0.8861\n",
                        "Epoch 225/500\n",
                        "7/7 [==============================] - 0s 30ms/step - loss: 4.9951e-05 - accuracy: 1.0000 - val_loss: 0.6210 - val_accuracy: 0.8833\n",
                        "Epoch 226/500\n",
                        "7/7 [==============================] - 0s 29ms/step - loss: 4.9637e-05 - accuracy: 1.0000 - val_loss: 0.6044 - val_accuracy: 0.8861\n",
                        "Epoch 227/500\n",
                        "7/7 [==============================] - 0s 29ms/step - loss: 4.9220e-05 - accuracy: 1.0000 - val_loss: 0.6055 - val_accuracy: 0.8861\n",
                        "Epoch 228/500\n",
                        "7/7 [==============================] - 0s 33ms/step - loss: 4.8750e-05 - accuracy: 1.0000 - val_loss: 0.6136 - val_accuracy: 0.8833\n",
                        "Epoch 229/500\n",
                        "7/7 [==============================] - 0s 43ms/step - loss: 4.8399e-05 - accuracy: 1.0000 - val_loss: 0.6176 - val_accuracy: 0.8833\n",
                        "Epoch 230/500\n",
                        "7/7 [==============================] - 0s 32ms/step - loss: 4.7664e-05 - accuracy: 1.0000 - val_loss: 0.6125 - val_accuracy: 0.8861\n",
                        "Epoch 231/500\n",
                        "7/7 [==============================] - 0s 29ms/step - loss: 4.7230e-05 - accuracy: 1.0000 - val_loss: 0.6191 - val_accuracy: 0.8833\n",
                        "Epoch 232/500\n",
                        "7/7 [==============================] - 0s 31ms/step - loss: 4.6500e-05 - accuracy: 1.0000 - val_loss: 0.6131 - val_accuracy: 0.8861\n",
                        "Epoch 233/500\n",
                        "7/7 [==============================] - 0s 39ms/step - loss: 4.6430e-05 - accuracy: 1.0000 - val_loss: 0.6057 - val_accuracy: 0.8861\n",
                        "Epoch 234/500\n",
                        "7/7 [==============================] - 0s 39ms/step - loss: 4.5837e-05 - accuracy: 1.0000 - val_loss: 0.6179 - val_accuracy: 0.8833\n",
                        "Epoch 235/500\n",
                        "7/7 [==============================] - 0s 40ms/step - loss: 4.5318e-05 - accuracy: 1.0000 - val_loss: 0.6188 - val_accuracy: 0.8833\n",
                        "Epoch 236/500\n",
                        "7/7 [==============================] - 0s 43ms/step - loss: 4.4784e-05 - accuracy: 1.0000 - val_loss: 0.6173 - val_accuracy: 0.8833\n",
                        "Epoch 237/500\n",
                        "7/7 [==============================] - 0s 34ms/step - loss: 4.4357e-05 - accuracy: 1.0000 - val_loss: 0.6199 - val_accuracy: 0.8833\n",
                        "Epoch 238/500\n",
                        "7/7 [==============================] - 0s 42ms/step - loss: 4.3893e-05 - accuracy: 1.0000 - val_loss: 0.6188 - val_accuracy: 0.8833\n",
                        "Epoch 239/500\n",
                        "7/7 [==============================] - 0s 43ms/step - loss: 4.3518e-05 - accuracy: 1.0000 - val_loss: 0.6201 - val_accuracy: 0.8833\n",
                        "Epoch 240/500\n",
                        "7/7 [==============================] - 0s 50ms/step - loss: 4.3193e-05 - accuracy: 1.0000 - val_loss: 0.6207 - val_accuracy: 0.8833\n",
                        "Epoch 241/500\n",
                        "7/7 [==============================] - 0s 40ms/step - loss: 4.3027e-05 - accuracy: 1.0000 - val_loss: 0.6198 - val_accuracy: 0.8833\n",
                        "Epoch 242/500\n",
                        "7/7 [==============================] - 0s 46ms/step - loss: 4.2488e-05 - accuracy: 1.0000 - val_loss: 0.6192 - val_accuracy: 0.8833\n",
                        "Epoch 243/500\n",
                        "7/7 [==============================] - 0s 42ms/step - loss: 4.1955e-05 - accuracy: 1.0000 - val_loss: 0.6153 - val_accuracy: 0.8861\n",
                        "Epoch 244/500\n",
                        "7/7 [==============================] - 0s 30ms/step - loss: 4.1530e-05 - accuracy: 1.0000 - val_loss: 0.6209 - val_accuracy: 0.8833\n",
                        "Epoch 245/500\n",
                        "7/7 [==============================] - 0s 32ms/step - loss: 4.1334e-05 - accuracy: 1.0000 - val_loss: 0.6109 - val_accuracy: 0.8861\n",
                        "Epoch 246/500\n",
                        "7/7 [==============================] - 0s 41ms/step - loss: 4.0989e-05 - accuracy: 1.0000 - val_loss: 0.6071 - val_accuracy: 0.8889\n",
                        "Epoch 247/500\n",
                        "7/7 [==============================] - 0s 46ms/step - loss: 4.0573e-05 - accuracy: 1.0000 - val_loss: 0.6216 - val_accuracy: 0.8861\n",
                        "Epoch 248/500\n",
                        "7/7 [==============================] - 0s 56ms/step - loss: 3.9977e-05 - accuracy: 1.0000 - val_loss: 0.6156 - val_accuracy: 0.8861\n",
                        "Epoch 249/500\n",
                        "7/7 [==============================] - 0s 60ms/step - loss: 3.9816e-05 - accuracy: 1.0000 - val_loss: 0.6074 - val_accuracy: 0.8889\n",
                        "Epoch 250/500\n",
                        "7/7 [==============================] - 0s 53ms/step - loss: 3.9389e-05 - accuracy: 1.0000 - val_loss: 0.6160 - val_accuracy: 0.8861\n",
                        "Epoch 251/500\n",
                        "7/7 [==============================] - 0s 38ms/step - loss: 3.8840e-05 - accuracy: 1.0000 - val_loss: 0.6265 - val_accuracy: 0.8833\n",
                        "Epoch 252/500\n",
                        "7/7 [==============================] - 0s 36ms/step - loss: 3.8582e-05 - accuracy: 1.0000 - val_loss: 0.6126 - val_accuracy: 0.8861\n",
                        "Epoch 253/500\n",
                        "7/7 [==============================] - 0s 36ms/step - loss: 3.8097e-05 - accuracy: 1.0000 - val_loss: 0.6269 - val_accuracy: 0.8833\n",
                        "Epoch 254/500\n",
                        "7/7 [==============================] - 0s 29ms/step - loss: 3.7751e-05 - accuracy: 1.0000 - val_loss: 0.6107 - val_accuracy: 0.8889\n",
                        "Epoch 255/500\n",
                        "7/7 [==============================] - 0s 21ms/step - loss: 3.7792e-05 - accuracy: 1.0000 - val_loss: 0.6033 - val_accuracy: 0.8889\n",
                        "Epoch 256/500\n",
                        "7/7 [==============================] - 0s 34ms/step - loss: 3.7326e-05 - accuracy: 1.0000 - val_loss: 0.6204 - val_accuracy: 0.8861\n",
                        "Epoch 257/500\n",
                        "7/7 [==============================] - 0s 36ms/step - loss: 3.6474e-05 - accuracy: 1.0000 - val_loss: 0.6296 - val_accuracy: 0.8833\n",
                        "Epoch 258/500\n",
                        "7/7 [==============================] - 0s 33ms/step - loss: 3.6061e-05 - accuracy: 1.0000 - val_loss: 0.6229 - val_accuracy: 0.8861\n",
                        "Epoch 259/500\n",
                        "7/7 [==============================] - 0s 49ms/step - loss: 3.5742e-05 - accuracy: 1.0000 - val_loss: 0.6325 - val_accuracy: 0.8833\n",
                        "Epoch 260/500\n",
                        "7/7 [==============================] - 0s 37ms/step - loss: 3.5288e-05 - accuracy: 1.0000 - val_loss: 0.6270 - val_accuracy: 0.8861\n",
                        "Epoch 261/500\n",
                        "7/7 [==============================] - 0s 32ms/step - loss: 3.4956e-05 - accuracy: 1.0000 - val_loss: 0.6283 - val_accuracy: 0.8861\n",
                        "Epoch 262/500\n",
                        "7/7 [==============================] - 0s 41ms/step - loss: 3.4583e-05 - accuracy: 1.0000 - val_loss: 0.6313 - val_accuracy: 0.8833\n",
                        "Epoch 263/500\n",
                        "7/7 [==============================] - 0s 56ms/step - loss: 3.4237e-05 - accuracy: 1.0000 - val_loss: 0.6314 - val_accuracy: 0.8833\n",
                        "Epoch 264/500\n",
                        "7/7 [==============================] - 0s 55ms/step - loss: 3.3931e-05 - accuracy: 1.0000 - val_loss: 0.6312 - val_accuracy: 0.8833\n",
                        "Epoch 265/500\n",
                        "7/7 [==============================] - 0s 54ms/step - loss: 3.3558e-05 - accuracy: 1.0000 - val_loss: 0.6324 - val_accuracy: 0.8833\n",
                        "Epoch 266/500\n",
                        "7/7 [==============================] - 0s 59ms/step - loss: 3.3258e-05 - accuracy: 1.0000 - val_loss: 0.6258 - val_accuracy: 0.8861\n",
                        "Epoch 267/500\n",
                        "7/7 [==============================] - 0s 48ms/step - loss: 3.3124e-05 - accuracy: 1.0000 - val_loss: 0.6182 - val_accuracy: 0.8861\n",
                        "Epoch 268/500\n",
                        "7/7 [==============================] - 0s 69ms/step - loss: 3.2786e-05 - accuracy: 1.0000 - val_loss: 0.6283 - val_accuracy: 0.8861\n",
                        "Epoch 269/500\n",
                        "7/7 [==============================] - 0s 39ms/step - loss: 3.2372e-05 - accuracy: 1.0000 - val_loss: 0.6314 - val_accuracy: 0.8861\n",
                        "Epoch 270/500\n",
                        "7/7 [==============================] - 0s 42ms/step - loss: 3.2126e-05 - accuracy: 1.0000 - val_loss: 0.6287 - val_accuracy: 0.8861\n",
                        "Epoch 271/500\n",
                        "7/7 [==============================] - 0s 56ms/step - loss: 3.1862e-05 - accuracy: 1.0000 - val_loss: 0.6347 - val_accuracy: 0.8833\n",
                        "Epoch 272/500\n",
                        "7/7 [==============================] - 0s 28ms/step - loss: 3.1521e-05 - accuracy: 1.0000 - val_loss: 0.6357 - val_accuracy: 0.8833\n",
                        "Epoch 273/500\n",
                        "7/7 [==============================] - 0s 35ms/step - loss: 3.1241e-05 - accuracy: 1.0000 - val_loss: 0.6322 - val_accuracy: 0.8861\n",
                        "Epoch 274/500\n",
                        "7/7 [==============================] - 0s 29ms/step - loss: 3.0991e-05 - accuracy: 1.0000 - val_loss: 0.6359 - val_accuracy: 0.8833\n",
                        "Epoch 275/500\n",
                        "7/7 [==============================] - 0s 31ms/step - loss: 3.0694e-05 - accuracy: 1.0000 - val_loss: 0.6322 - val_accuracy: 0.8861\n",
                        "Epoch 276/500\n",
                        "7/7 [==============================] - 0s 29ms/step - loss: 3.0625e-05 - accuracy: 1.0000 - val_loss: 0.6138 - val_accuracy: 0.8889\n",
                        "Epoch 277/500\n",
                        "7/7 [==============================] - 0s 27ms/step - loss: 3.0524e-05 - accuracy: 1.0000 - val_loss: 0.6213 - val_accuracy: 0.8861\n",
                        "Epoch 278/500\n",
                        "7/7 [==============================] - 0s 40ms/step - loss: 3.0029e-05 - accuracy: 1.0000 - val_loss: 0.6394 - val_accuracy: 0.8806\n",
                        "Epoch 279/500\n",
                        "7/7 [==============================] - 0s 43ms/step - loss: 2.9763e-05 - accuracy: 1.0000 - val_loss: 0.6325 - val_accuracy: 0.8861\n",
                        "Epoch 280/500\n",
                        "7/7 [==============================] - 0s 40ms/step - loss: 2.9553e-05 - accuracy: 1.0000 - val_loss: 0.6255 - val_accuracy: 0.8861\n",
                        "Epoch 281/500\n",
                        "7/7 [==============================] - 0s 42ms/step - loss: 2.9201e-05 - accuracy: 1.0000 - val_loss: 0.6336 - val_accuracy: 0.8861\n",
                        "Epoch 282/500\n",
                        "7/7 [==============================] - 0s 36ms/step - loss: 2.9071e-05 - accuracy: 1.0000 - val_loss: 0.6402 - val_accuracy: 0.8833\n",
                        "Epoch 283/500\n",
                        "7/7 [==============================] - 0s 30ms/step - loss: 2.8697e-05 - accuracy: 1.0000 - val_loss: 0.6267 - val_accuracy: 0.8861\n",
                        "Epoch 284/500\n",
                        "7/7 [==============================] - 0s 38ms/step - loss: 2.8575e-05 - accuracy: 1.0000 - val_loss: 0.6311 - val_accuracy: 0.8861\n",
                        "Epoch 285/500\n",
                        "7/7 [==============================] - 0s 38ms/step - loss: 2.8136e-05 - accuracy: 1.0000 - val_loss: 0.6424 - val_accuracy: 0.8806\n",
                        "Epoch 286/500\n",
                        "7/7 [==============================] - 0s 37ms/step - loss: 2.7895e-05 - accuracy: 1.0000 - val_loss: 0.6347 - val_accuracy: 0.8861\n",
                        "Epoch 287/500\n",
                        "7/7 [==============================] - 0s 53ms/step - loss: 2.7656e-05 - accuracy: 1.0000 - val_loss: 0.6371 - val_accuracy: 0.8861\n",
                        "Epoch 288/500\n",
                        "7/7 [==============================] - 0s 34ms/step - loss: 2.7370e-05 - accuracy: 1.0000 - val_loss: 0.6423 - val_accuracy: 0.8806\n",
                        "Epoch 289/500\n",
                        "7/7 [==============================] - 0s 40ms/step - loss: 2.7061e-05 - accuracy: 1.0000 - val_loss: 0.6403 - val_accuracy: 0.8833\n",
                        "Epoch 290/500\n",
                        "7/7 [==============================] - 0s 35ms/step - loss: 2.6821e-05 - accuracy: 1.0000 - val_loss: 0.6409 - val_accuracy: 0.8833\n",
                        "Epoch 291/500\n",
                        "7/7 [==============================] - 0s 30ms/step - loss: 2.6650e-05 - accuracy: 1.0000 - val_loss: 0.6364 - val_accuracy: 0.8833\n",
                        "Epoch 292/500\n",
                        "7/7 [==============================] - 0s 35ms/step - loss: 2.6559e-05 - accuracy: 1.0000 - val_loss: 0.6226 - val_accuracy: 0.8861\n",
                        "Epoch 293/500\n",
                        "7/7 [==============================] - 0s 30ms/step - loss: 2.6407e-05 - accuracy: 1.0000 - val_loss: 0.6292 - val_accuracy: 0.8833\n",
                        "Epoch 294/500\n",
                        "7/7 [==============================] - 0s 32ms/step - loss: 2.6035e-05 - accuracy: 1.0000 - val_loss: 0.6473 - val_accuracy: 0.8806\n",
                        "Epoch 295/500\n",
                        "7/7 [==============================] - 0s 32ms/step - loss: 2.5837e-05 - accuracy: 1.0000 - val_loss: 0.6380 - val_accuracy: 0.8833\n",
                        "Epoch 296/500\n",
                        "7/7 [==============================] - 0s 47ms/step - loss: 2.5549e-05 - accuracy: 1.0000 - val_loss: 0.6414 - val_accuracy: 0.8861\n",
                        "Epoch 297/500\n",
                        "7/7 [==============================] - 0s 31ms/step - loss: 2.5314e-05 - accuracy: 1.0000 - val_loss: 0.6411 - val_accuracy: 0.8861\n",
                        "Epoch 298/500\n",
                        "7/7 [==============================] - 0s 29ms/step - loss: 2.5166e-05 - accuracy: 1.0000 - val_loss: 0.6293 - val_accuracy: 0.8833\n",
                        "Epoch 299/500\n",
                        "7/7 [==============================] - 0s 32ms/step - loss: 2.5012e-05 - accuracy: 1.0000 - val_loss: 0.6351 - val_accuracy: 0.8833\n",
                        "Epoch 300/500\n",
                        "7/7 [==============================] - 0s 30ms/step - loss: 2.4718e-05 - accuracy: 1.0000 - val_loss: 0.6467 - val_accuracy: 0.8778\n",
                        "Epoch 301/500\n",
                        "7/7 [==============================] - 0s 34ms/step - loss: 2.4528e-05 - accuracy: 1.0000 - val_loss: 0.6413 - val_accuracy: 0.8833\n",
                        "Epoch 302/500\n",
                        "7/7 [==============================] - 0s 41ms/step - loss: 2.4332e-05 - accuracy: 1.0000 - val_loss: 0.6406 - val_accuracy: 0.8833\n",
                        "Epoch 303/500\n",
                        "7/7 [==============================] - 0s 33ms/step - loss: 2.4132e-05 - accuracy: 1.0000 - val_loss: 0.6458 - val_accuracy: 0.8806\n",
                        "Epoch 304/500\n",
                        "7/7 [==============================] - 0s 38ms/step - loss: 2.3934e-05 - accuracy: 1.0000 - val_loss: 0.6445 - val_accuracy: 0.8806\n",
                        "Epoch 305/500\n",
                        "7/7 [==============================] - 0s 44ms/step - loss: 2.3748e-05 - accuracy: 1.0000 - val_loss: 0.6444 - val_accuracy: 0.8833\n",
                        "Epoch 306/500\n",
                        "7/7 [==============================] - 0s 39ms/step - loss: 2.3609e-05 - accuracy: 1.0000 - val_loss: 0.6449 - val_accuracy: 0.8806\n",
                        "Epoch 307/500\n",
                        "7/7 [==============================] - 0s 31ms/step - loss: 2.3397e-05 - accuracy: 1.0000 - val_loss: 0.6455 - val_accuracy: 0.8806\n",
                        "Epoch 308/500\n",
                        "7/7 [==============================] - 0s 35ms/step - loss: 2.3200e-05 - accuracy: 1.0000 - val_loss: 0.6444 - val_accuracy: 0.8833\n",
                        "Epoch 309/500\n",
                        "7/7 [==============================] - 0s 57ms/step - loss: 2.3044e-05 - accuracy: 1.0000 - val_loss: 0.6465 - val_accuracy: 0.8806\n",
                        "Epoch 310/500\n",
                        "7/7 [==============================] - 0s 55ms/step - loss: 2.2856e-05 - accuracy: 1.0000 - val_loss: 0.6437 - val_accuracy: 0.8833\n",
                        "Epoch 311/500\n",
                        "7/7 [==============================] - 0s 46ms/step - loss: 2.2722e-05 - accuracy: 1.0000 - val_loss: 0.6450 - val_accuracy: 0.8833\n",
                        "Epoch 312/500\n",
                        "7/7 [==============================] - 0s 45ms/step - loss: 2.2520e-05 - accuracy: 1.0000 - val_loss: 0.6479 - val_accuracy: 0.8833\n",
                        "Epoch 313/500\n",
                        "7/7 [==============================] - 0s 36ms/step - loss: 2.2337e-05 - accuracy: 1.0000 - val_loss: 0.6462 - val_accuracy: 0.8833\n",
                        "Epoch 314/500\n",
                        "7/7 [==============================] - 0s 42ms/step - loss: 2.2177e-05 - accuracy: 1.0000 - val_loss: 0.6469 - val_accuracy: 0.8861\n",
                        "Epoch 315/500\n",
                        "7/7 [==============================] - 0s 35ms/step - loss: 2.2023e-05 - accuracy: 1.0000 - val_loss: 0.6475 - val_accuracy: 0.8861\n",
                        "Epoch 316/500\n",
                        "7/7 [==============================] - 0s 31ms/step - loss: 2.1849e-05 - accuracy: 1.0000 - val_loss: 0.6484 - val_accuracy: 0.8861\n",
                        "Epoch 317/500\n",
                        "7/7 [==============================] - 0s 34ms/step - loss: 2.1685e-05 - accuracy: 1.0000 - val_loss: 0.6482 - val_accuracy: 0.8861\n",
                        "Epoch 318/500\n",
                        "7/7 [==============================] - 0s 28ms/step - loss: 2.1531e-05 - accuracy: 1.0000 - val_loss: 0.6496 - val_accuracy: 0.8833\n",
                        "Epoch 319/500\n",
                        "7/7 [==============================] - 0s 28ms/step - loss: 2.1396e-05 - accuracy: 1.0000 - val_loss: 0.6461 - val_accuracy: 0.8833\n",
                        "Epoch 320/500\n",
                        "7/7 [==============================] - 0s 33ms/step - loss: 2.1196e-05 - accuracy: 1.0000 - val_loss: 0.6497 - val_accuracy: 0.8861\n",
                        "Epoch 321/500\n",
                        "7/7 [==============================] - 0s 36ms/step - loss: 2.1070e-05 - accuracy: 1.0000 - val_loss: 0.6351 - val_accuracy: 0.8833\n",
                        "Epoch 322/500\n",
                        "7/7 [==============================] - 0s 41ms/step - loss: 2.1040e-05 - accuracy: 1.0000 - val_loss: 0.6346 - val_accuracy: 0.8833\n",
                        "Epoch 323/500\n",
                        "7/7 [==============================] - 0s 38ms/step - loss: 2.0800e-05 - accuracy: 1.0000 - val_loss: 0.6431 - val_accuracy: 0.8833\n",
                        "Epoch 324/500\n",
                        "7/7 [==============================] - 0s 30ms/step - loss: 2.0570e-05 - accuracy: 1.0000 - val_loss: 0.6533 - val_accuracy: 0.8833\n",
                        "Epoch 325/500\n",
                        "7/7 [==============================] - 0s 37ms/step - loss: 2.0423e-05 - accuracy: 1.0000 - val_loss: 0.6485 - val_accuracy: 0.8833\n",
                        "Epoch 326/500\n",
                        "7/7 [==============================] - 0s 32ms/step - loss: 2.0292e-05 - accuracy: 1.0000 - val_loss: 0.6491 - val_accuracy: 0.8833\n",
                        "Epoch 327/500\n",
                        "7/7 [==============================] - 0s 34ms/step - loss: 2.0165e-05 - accuracy: 1.0000 - val_loss: 0.6527 - val_accuracy: 0.8861\n",
                        "Epoch 328/500\n",
                        "7/7 [==============================] - 0s 41ms/step - loss: 1.9968e-05 - accuracy: 1.0000 - val_loss: 0.6519 - val_accuracy: 0.8861\n",
                        "Epoch 329/500\n",
                        "7/7 [==============================] - 0s 46ms/step - loss: 1.9823e-05 - accuracy: 1.0000 - val_loss: 0.6486 - val_accuracy: 0.8833\n",
                        "Epoch 330/500\n",
                        "7/7 [==============================] - 1s 82ms/step - loss: 1.9695e-05 - accuracy: 1.0000 - val_loss: 0.6514 - val_accuracy: 0.8833\n",
                        "Epoch 331/500\n",
                        "7/7 [==============================] - 0s 45ms/step - loss: 1.9541e-05 - accuracy: 1.0000 - val_loss: 0.6542 - val_accuracy: 0.8861\n",
                        "Epoch 332/500\n",
                        "7/7 [==============================] - 0s 46ms/step - loss: 1.9554e-05 - accuracy: 1.0000 - val_loss: 0.6542 - val_accuracy: 0.8889\n",
                        "Epoch 333/500\n",
                        "7/7 [==============================] - 0s 39ms/step - loss: 1.9300e-05 - accuracy: 1.0000 - val_loss: 0.6537 - val_accuracy: 0.8861\n",
                        "Epoch 334/500\n",
                        "7/7 [==============================] - 0s 33ms/step - loss: 1.9144e-05 - accuracy: 1.0000 - val_loss: 0.6539 - val_accuracy: 0.8861\n",
                        "Epoch 335/500\n",
                        "7/7 [==============================] - 0s 44ms/step - loss: 1.9011e-05 - accuracy: 1.0000 - val_loss: 0.6543 - val_accuracy: 0.8861\n",
                        "Epoch 336/500\n",
                        "7/7 [==============================] - 0s 40ms/step - loss: 1.8829e-05 - accuracy: 1.0000 - val_loss: 0.6568 - val_accuracy: 0.8917\n",
                        "Epoch 337/500\n",
                        "7/7 [==============================] - 0s 45ms/step - loss: 1.8658e-05 - accuracy: 1.0000 - val_loss: 0.6548 - val_accuracy: 0.8861\n",
                        "Epoch 338/500\n",
                        "7/7 [==============================] - 0s 43ms/step - loss: 1.8545e-05 - accuracy: 1.0000 - val_loss: 0.6563 - val_accuracy: 0.8889\n",
                        "Epoch 339/500\n",
                        "7/7 [==============================] - 0s 28ms/step - loss: 1.8392e-05 - accuracy: 1.0000 - val_loss: 0.6572 - val_accuracy: 0.8917\n",
                        "Epoch 340/500\n",
                        "7/7 [==============================] - 0s 32ms/step - loss: 1.8242e-05 - accuracy: 1.0000 - val_loss: 0.6581 - val_accuracy: 0.8917\n",
                        "Epoch 341/500\n",
                        "7/7 [==============================] - 0s 29ms/step - loss: 1.8123e-05 - accuracy: 1.0000 - val_loss: 0.6572 - val_accuracy: 0.8861\n",
                        "Epoch 342/500\n",
                        "7/7 [==============================] - 0s 30ms/step - loss: 1.7971e-05 - accuracy: 1.0000 - val_loss: 0.6596 - val_accuracy: 0.8917\n",
                        "Epoch 343/500\n",
                        "7/7 [==============================] - 0s 33ms/step - loss: 1.7858e-05 - accuracy: 1.0000 - val_loss: 0.6514 - val_accuracy: 0.8833\n",
                        "Epoch 344/500\n",
                        "7/7 [==============================] - 0s 35ms/step - loss: 1.7742e-05 - accuracy: 1.0000 - val_loss: 0.6525 - val_accuracy: 0.8833\n",
                        "Epoch 345/500\n",
                        "7/7 [==============================] - 0s 51ms/step - loss: 1.7577e-05 - accuracy: 1.0000 - val_loss: 0.6581 - val_accuracy: 0.8861\n",
                        "Epoch 346/500\n",
                        "7/7 [==============================] - 0s 28ms/step - loss: 1.7440e-05 - accuracy: 1.0000 - val_loss: 0.6612 - val_accuracy: 0.8889\n",
                        "Epoch 347/500\n",
                        "7/7 [==============================] - 0s 35ms/step - loss: 1.7343e-05 - accuracy: 1.0000 - val_loss: 0.6579 - val_accuracy: 0.8833\n",
                        "Epoch 348/500\n",
                        "7/7 [==============================] - 0s 55ms/step - loss: 1.7178e-05 - accuracy: 1.0000 - val_loss: 0.6598 - val_accuracy: 0.8861\n",
                        "Epoch 349/500\n",
                        "7/7 [==============================] - 0s 54ms/step - loss: 1.7083e-05 - accuracy: 1.0000 - val_loss: 0.6594 - val_accuracy: 0.8861\n",
                        "Epoch 350/500\n",
                        "7/7 [==============================] - 0s 59ms/step - loss: 1.6943e-05 - accuracy: 1.0000 - val_loss: 0.6556 - val_accuracy: 0.8833\n",
                        "Epoch 351/500\n",
                        "7/7 [==============================] - 0s 37ms/step - loss: 1.6808e-05 - accuracy: 1.0000 - val_loss: 0.6589 - val_accuracy: 0.8833\n",
                        "Epoch 352/500\n",
                        "7/7 [==============================] - 0s 46ms/step - loss: 1.6692e-05 - accuracy: 1.0000 - val_loss: 0.6628 - val_accuracy: 0.8861\n",
                        "Epoch 353/500\n",
                        "7/7 [==============================] - 0s 38ms/step - loss: 1.6545e-05 - accuracy: 1.0000 - val_loss: 0.6635 - val_accuracy: 0.8889\n",
                        "Epoch 354/500\n",
                        "7/7 [==============================] - 0s 42ms/step - loss: 1.6399e-05 - accuracy: 1.0000 - val_loss: 0.6633 - val_accuracy: 0.8861\n",
                        "Epoch 355/500\n",
                        "7/7 [==============================] - 0s 42ms/step - loss: 1.6267e-05 - accuracy: 1.0000 - val_loss: 0.6639 - val_accuracy: 0.8889\n",
                        "Epoch 356/500\n",
                        "7/7 [==============================] - 0s 40ms/step - loss: 1.6135e-05 - accuracy: 1.0000 - val_loss: 0.6631 - val_accuracy: 0.8861\n",
                        "Epoch 357/500\n",
                        "7/7 [==============================] - 0s 37ms/step - loss: 1.6020e-05 - accuracy: 1.0000 - val_loss: 0.6659 - val_accuracy: 0.8889\n",
                        "Epoch 358/500\n",
                        "7/7 [==============================] - 0s 35ms/step - loss: 1.5890e-05 - accuracy: 1.0000 - val_loss: 0.6631 - val_accuracy: 0.8861\n",
                        "Epoch 359/500\n",
                        "7/7 [==============================] - 0s 56ms/step - loss: 1.5771e-05 - accuracy: 1.0000 - val_loss: 0.6636 - val_accuracy: 0.8861\n",
                        "Epoch 360/500\n",
                        "7/7 [==============================] - 0s 38ms/step - loss: 1.5725e-05 - accuracy: 1.0000 - val_loss: 0.6664 - val_accuracy: 0.8889\n",
                        "Epoch 361/500\n",
                        "7/7 [==============================] - 0s 30ms/step - loss: 1.5561e-05 - accuracy: 1.0000 - val_loss: 0.6670 - val_accuracy: 0.8889\n",
                        "Epoch 362/500\n",
                        "7/7 [==============================] - 0s 33ms/step - loss: 1.5441e-05 - accuracy: 1.0000 - val_loss: 0.6665 - val_accuracy: 0.8889\n",
                        "Epoch 363/500\n",
                        "7/7 [==============================] - 0s 35ms/step - loss: 1.5321e-05 - accuracy: 1.0000 - val_loss: 0.6667 - val_accuracy: 0.8861\n",
                        "Epoch 364/500\n",
                        "7/7 [==============================] - 0s 37ms/step - loss: 1.5217e-05 - accuracy: 1.0000 - val_loss: 0.6665 - val_accuracy: 0.8861\n",
                        "Epoch 365/500\n",
                        "7/7 [==============================] - 0s 55ms/step - loss: 1.5114e-05 - accuracy: 1.0000 - val_loss: 0.6669 - val_accuracy: 0.8861\n",
                        "Epoch 366/500\n",
                        "7/7 [==============================] - 0s 39ms/step - loss: 1.5039e-05 - accuracy: 1.0000 - val_loss: 0.6694 - val_accuracy: 0.8889\n",
                        "Epoch 367/500\n",
                        "7/7 [==============================] - 0s 39ms/step - loss: 1.4907e-05 - accuracy: 1.0000 - val_loss: 0.6682 - val_accuracy: 0.8861\n",
                        "Epoch 368/500\n",
                        "7/7 [==============================] - 0s 41ms/step - loss: 1.4793e-05 - accuracy: 1.0000 - val_loss: 0.6675 - val_accuracy: 0.8861\n",
                        "Epoch 369/500\n",
                        "7/7 [==============================] - 0s 34ms/step - loss: 1.4664e-05 - accuracy: 1.0000 - val_loss: 0.6711 - val_accuracy: 0.8889\n",
                        "Epoch 370/500\n",
                        "7/7 [==============================] - 0s 30ms/step - loss: 1.4581e-05 - accuracy: 1.0000 - val_loss: 0.6666 - val_accuracy: 0.8861\n",
                        "Epoch 371/500\n",
                        "7/7 [==============================] - 0s 37ms/step - loss: 1.4471e-05 - accuracy: 1.0000 - val_loss: 0.6624 - val_accuracy: 0.8833\n",
                        "Epoch 372/500\n",
                        "7/7 [==============================] - 0s 53ms/step - loss: 1.4379e-05 - accuracy: 1.0000 - val_loss: 0.6660 - val_accuracy: 0.8833\n",
                        "Epoch 373/500\n",
                        "7/7 [==============================] - 0s 44ms/step - loss: 1.4276e-05 - accuracy: 1.0000 - val_loss: 0.6757 - val_accuracy: 0.8861\n",
                        "Epoch 374/500\n",
                        "7/7 [==============================] - 0s 32ms/step - loss: 1.4228e-05 - accuracy: 1.0000 - val_loss: 0.6579 - val_accuracy: 0.8861\n",
                        "Epoch 375/500\n",
                        "7/7 [==============================] - 0s 41ms/step - loss: 1.4125e-05 - accuracy: 1.0000 - val_loss: 0.6561 - val_accuracy: 0.8861\n",
                        "Epoch 376/500\n",
                        "7/7 [==============================] - 0s 42ms/step - loss: 1.4019e-05 - accuracy: 1.0000 - val_loss: 0.6630 - val_accuracy: 0.8833\n",
                        "Epoch 377/500\n",
                        "7/7 [==============================] - 0s 43ms/step - loss: 1.3844e-05 - accuracy: 1.0000 - val_loss: 0.6812 - val_accuracy: 0.8833\n",
                        "Epoch 378/500\n",
                        "7/7 [==============================] - 0s 39ms/step - loss: 1.3893e-05 - accuracy: 1.0000 - val_loss: 0.6521 - val_accuracy: 0.8889\n",
                        "Epoch 379/500\n",
                        "7/7 [==============================] - 0s 43ms/step - loss: 1.3857e-05 - accuracy: 1.0000 - val_loss: 0.6486 - val_accuracy: 0.8889\n",
                        "Epoch 380/500\n",
                        "7/7 [==============================] - 0s 29ms/step - loss: 1.3734e-05 - accuracy: 1.0000 - val_loss: 0.6567 - val_accuracy: 0.8861\n",
                        "Epoch 381/500\n",
                        "7/7 [==============================] - 0s 29ms/step - loss: 1.3540e-05 - accuracy: 1.0000 - val_loss: 0.6686 - val_accuracy: 0.8833\n",
                        "Epoch 382/500\n",
                        "7/7 [==============================] - 0s 30ms/step - loss: 1.3361e-05 - accuracy: 1.0000 - val_loss: 0.6751 - val_accuracy: 0.8861\n",
                        "Epoch 383/500\n",
                        "7/7 [==============================] - 0s 30ms/step - loss: 1.3234e-05 - accuracy: 1.0000 - val_loss: 0.6758 - val_accuracy: 0.8861\n",
                        "Epoch 384/500\n",
                        "7/7 [==============================] - 0s 30ms/step - loss: 1.3105e-05 - accuracy: 1.0000 - val_loss: 0.6774 - val_accuracy: 0.8889\n",
                        "Epoch 385/500\n",
                        "7/7 [==============================] - 0s 35ms/step - loss: 1.3018e-05 - accuracy: 1.0000 - val_loss: 0.6746 - val_accuracy: 0.8861\n",
                        "Epoch 386/500\n",
                        "7/7 [==============================] - 0s 35ms/step - loss: 1.2912e-05 - accuracy: 1.0000 - val_loss: 0.6771 - val_accuracy: 0.8889\n",
                        "Epoch 387/500\n",
                        "7/7 [==============================] - 0s 41ms/step - loss: 1.2825e-05 - accuracy: 1.0000 - val_loss: 0.6764 - val_accuracy: 0.8861\n",
                        "Epoch 388/500\n",
                        "7/7 [==============================] - 0s 51ms/step - loss: 1.2720e-05 - accuracy: 1.0000 - val_loss: 0.6775 - val_accuracy: 0.8889\n",
                        "Epoch 389/500\n",
                        "7/7 [==============================] - 0s 44ms/step - loss: 1.2646e-05 - accuracy: 1.0000 - val_loss: 0.6776 - val_accuracy: 0.8889\n",
                        "Epoch 390/500\n",
                        "7/7 [==============================] - 0s 40ms/step - loss: 1.2575e-05 - accuracy: 1.0000 - val_loss: 0.6780 - val_accuracy: 0.8889\n",
                        "Epoch 391/500\n",
                        "7/7 [==============================] - 0s 42ms/step - loss: 1.2442e-05 - accuracy: 1.0000 - val_loss: 0.6774 - val_accuracy: 0.8889\n",
                        "Epoch 392/500\n",
                        "7/7 [==============================] - 0s 34ms/step - loss: 1.2367e-05 - accuracy: 1.0000 - val_loss: 0.6789 - val_accuracy: 0.8889\n",
                        "Epoch 393/500\n",
                        "7/7 [==============================] - 0s 46ms/step - loss: 1.2276e-05 - accuracy: 1.0000 - val_loss: 0.6791 - val_accuracy: 0.8889\n",
                        "Epoch 394/500\n",
                        "7/7 [==============================] - 0s 34ms/step - loss: 1.2193e-05 - accuracy: 1.0000 - val_loss: 0.6788 - val_accuracy: 0.8889\n",
                        "Epoch 395/500\n",
                        "7/7 [==============================] - 0s 32ms/step - loss: 1.2114e-05 - accuracy: 1.0000 - val_loss: 0.6798 - val_accuracy: 0.8889\n",
                        "Epoch 396/500\n",
                        "7/7 [==============================] - 0s 34ms/step - loss: 1.2041e-05 - accuracy: 1.0000 - val_loss: 0.6782 - val_accuracy: 0.8889\n",
                        "Epoch 397/500\n",
                        "7/7 [==============================] - 0s 37ms/step - loss: 1.1989e-05 - accuracy: 1.0000 - val_loss: 0.6758 - val_accuracy: 0.8861\n",
                        "Epoch 398/500\n",
                        "7/7 [==============================] - 0s 44ms/step - loss: 1.1875e-05 - accuracy: 1.0000 - val_loss: 0.6766 - val_accuracy: 0.8861\n",
                        "Epoch 399/500\n",
                        "7/7 [==============================] - 0s 59ms/step - loss: 1.1792e-05 - accuracy: 1.0000 - val_loss: 0.6809 - val_accuracy: 0.8889\n",
                        "Epoch 400/500\n",
                        "7/7 [==============================] - 0s 52ms/step - loss: 1.1708e-05 - accuracy: 1.0000 - val_loss: 0.6725 - val_accuracy: 0.8833\n",
                        "Epoch 401/500\n",
                        "7/7 [==============================] - 0s 34ms/step - loss: 1.1664e-05 - accuracy: 1.0000 - val_loss: 0.6704 - val_accuracy: 0.8833\n",
                        "Epoch 402/500\n",
                        "7/7 [==============================] - 0s 40ms/step - loss: 1.1556e-05 - accuracy: 1.0000 - val_loss: 0.6769 - val_accuracy: 0.8861\n",
                        "Epoch 403/500\n",
                        "7/7 [==============================] - 0s 44ms/step - loss: 1.1463e-05 - accuracy: 1.0000 - val_loss: 0.6833 - val_accuracy: 0.8889\n",
                        "Epoch 404/500\n",
                        "7/7 [==============================] - 0s 50ms/step - loss: 1.1402e-05 - accuracy: 1.0000 - val_loss: 0.6770 - val_accuracy: 0.8861\n",
                        "Epoch 405/500\n",
                        "7/7 [==============================] - 0s 53ms/step - loss: 1.1323e-05 - accuracy: 1.0000 - val_loss: 0.6759 - val_accuracy: 0.8861\n",
                        "Epoch 406/500\n",
                        "7/7 [==============================] - 0s 46ms/step - loss: 1.1226e-05 - accuracy: 1.0000 - val_loss: 0.6798 - val_accuracy: 0.8861\n",
                        "Epoch 407/500\n",
                        "7/7 [==============================] - 0s 52ms/step - loss: 1.1126e-05 - accuracy: 1.0000 - val_loss: 0.6798 - val_accuracy: 0.8861\n",
                        "Epoch 408/500\n",
                        "7/7 [==============================] - 0s 42ms/step - loss: 1.1067e-05 - accuracy: 1.0000 - val_loss: 0.6757 - val_accuracy: 0.8833\n",
                        "Epoch 409/500\n",
                        "7/7 [==============================] - 0s 47ms/step - loss: 1.1014e-05 - accuracy: 1.0000 - val_loss: 0.6778 - val_accuracy: 0.8861\n",
                        "Epoch 410/500\n",
                        "7/7 [==============================] - 0s 53ms/step - loss: 1.0893e-05 - accuracy: 1.0000 - val_loss: 0.6838 - val_accuracy: 0.8889\n",
                        "Epoch 411/500\n",
                        "7/7 [==============================] - 0s 65ms/step - loss: 1.0825e-05 - accuracy: 1.0000 - val_loss: 0.6794 - val_accuracy: 0.8861\n",
                        "Epoch 412/500\n",
                        "7/7 [==============================] - 0s 49ms/step - loss: 1.0760e-05 - accuracy: 1.0000 - val_loss: 0.6792 - val_accuracy: 0.8861\n",
                        "Epoch 413/500\n",
                        "7/7 [==============================] - 0s 34ms/step - loss: 1.0676e-05 - accuracy: 1.0000 - val_loss: 0.6837 - val_accuracy: 0.8889\n",
                        "Epoch 414/500\n",
                        "7/7 [==============================] - 0s 39ms/step - loss: 1.0630e-05 - accuracy: 1.0000 - val_loss: 0.6797 - val_accuracy: 0.8861\n",
                        "Epoch 415/500\n",
                        "7/7 [==============================] - 0s 46ms/step - loss: 1.0553e-05 - accuracy: 1.0000 - val_loss: 0.6742 - val_accuracy: 0.8833\n",
                        "Epoch 416/500\n",
                        "7/7 [==============================] - 0s 44ms/step - loss: 1.0486e-05 - accuracy: 1.0000 - val_loss: 0.6775 - val_accuracy: 0.8833\n",
                        "Epoch 417/500\n",
                        "7/7 [==============================] - 0s 45ms/step - loss: 1.0390e-05 - accuracy: 1.0000 - val_loss: 0.6863 - val_accuracy: 0.8889\n",
                        "Epoch 418/500\n",
                        "7/7 [==============================] - 0s 52ms/step - loss: 1.0314e-05 - accuracy: 1.0000 - val_loss: 0.6839 - val_accuracy: 0.8889\n",
                        "Epoch 419/500\n",
                        "7/7 [==============================] - 0s 54ms/step - loss: 1.0244e-05 - accuracy: 1.0000 - val_loss: 0.6801 - val_accuracy: 0.8861\n",
                        "Epoch 420/500\n",
                        "7/7 [==============================] - 0s 53ms/step - loss: 1.0190e-05 - accuracy: 1.0000 - val_loss: 0.6829 - val_accuracy: 0.8861\n",
                        "Epoch 421/500\n",
                        "7/7 [==============================] - 0s 50ms/step - loss: 1.0104e-05 - accuracy: 1.0000 - val_loss: 0.6860 - val_accuracy: 0.8889\n",
                        "Epoch 422/500\n",
                        "7/7 [==============================] - 0s 43ms/step - loss: 1.0034e-05 - accuracy: 1.0000 - val_loss: 0.6863 - val_accuracy: 0.8889\n",
                        "Epoch 423/500\n",
                        "7/7 [==============================] - 0s 45ms/step - loss: 9.9652e-06 - accuracy: 1.0000 - val_loss: 0.6874 - val_accuracy: 0.8889\n",
                        "Epoch 424/500\n",
                        "7/7 [==============================] - 0s 52ms/step - loss: 9.9046e-06 - accuracy: 1.0000 - val_loss: 0.6872 - val_accuracy: 0.8889\n",
                        "Epoch 425/500\n",
                        "7/7 [==============================] - 0s 31ms/step - loss: 9.8220e-06 - accuracy: 1.0000 - val_loss: 0.6804 - val_accuracy: 0.8861\n",
                        "Epoch 426/500\n",
                        "7/7 [==============================] - 0s 39ms/step - loss: 9.7523e-06 - accuracy: 1.0000 - val_loss: 0.6821 - val_accuracy: 0.8861\n",
                        "Epoch 427/500\n",
                        "7/7 [==============================] - 0s 45ms/step - loss: 9.6613e-06 - accuracy: 1.0000 - val_loss: 0.6867 - val_accuracy: 0.8889\n",
                        "Epoch 428/500\n",
                        "7/7 [==============================] - 0s 38ms/step - loss: 9.5650e-06 - accuracy: 1.0000 - val_loss: 0.6906 - val_accuracy: 0.8889\n",
                        "Epoch 429/500\n",
                        "7/7 [==============================] - 0s 36ms/step - loss: 9.4701e-06 - accuracy: 1.0000 - val_loss: 0.6865 - val_accuracy: 0.8889\n",
                        "Epoch 430/500\n",
                        "7/7 [==============================] - 0s 36ms/step - loss: 9.3810e-06 - accuracy: 1.0000 - val_loss: 0.6883 - val_accuracy: 0.8889\n",
                        "Epoch 431/500\n",
                        "7/7 [==============================] - 0s 45ms/step - loss: 9.2885e-06 - accuracy: 1.0000 - val_loss: 0.6903 - val_accuracy: 0.8889\n",
                        "Epoch 432/500\n",
                        "7/7 [==============================] - 0s 42ms/step - loss: 9.2353e-06 - accuracy: 1.0000 - val_loss: 0.6890 - val_accuracy: 0.8889\n",
                        "Epoch 433/500\n",
                        "7/7 [==============================] - 0s 42ms/step - loss: 9.1450e-06 - accuracy: 1.0000 - val_loss: 0.6907 - val_accuracy: 0.8889\n",
                        "Epoch 434/500\n",
                        "7/7 [==============================] - 0s 43ms/step - loss: 9.0784e-06 - accuracy: 1.0000 - val_loss: 0.6887 - val_accuracy: 0.8889\n",
                        "Epoch 435/500\n",
                        "7/7 [==============================] - 0s 51ms/step - loss: 9.0136e-06 - accuracy: 1.0000 - val_loss: 0.6873 - val_accuracy: 0.8861\n",
                        "Epoch 436/500\n",
                        "7/7 [==============================] - 0s 63ms/step - loss: 8.9340e-06 - accuracy: 1.0000 - val_loss: 0.6905 - val_accuracy: 0.8889\n",
                        "Epoch 437/500\n",
                        "7/7 [==============================] - 0s 48ms/step - loss: 8.8505e-06 - accuracy: 1.0000 - val_loss: 0.6919 - val_accuracy: 0.8889\n",
                        "Epoch 438/500\n",
                        "7/7 [==============================] - 0s 42ms/step - loss: 8.7922e-06 - accuracy: 1.0000 - val_loss: 0.6923 - val_accuracy: 0.8889\n",
                        "Epoch 439/500\n",
                        "7/7 [==============================] - 0s 37ms/step - loss: 8.7328e-06 - accuracy: 1.0000 - val_loss: 0.6914 - val_accuracy: 0.8889\n",
                        "Epoch 440/500\n",
                        "7/7 [==============================] - 0s 33ms/step - loss: 8.6601e-06 - accuracy: 1.0000 - val_loss: 0.6933 - val_accuracy: 0.8861\n",
                        "Epoch 441/500\n",
                        "7/7 [==============================] - 0s 47ms/step - loss: 8.5873e-06 - accuracy: 1.0000 - val_loss: 0.6929 - val_accuracy: 0.8861\n",
                        "Epoch 442/500\n",
                        "7/7 [==============================] - 0s 42ms/step - loss: 8.5220e-06 - accuracy: 1.0000 - val_loss: 0.6926 - val_accuracy: 0.8861\n",
                        "Epoch 443/500\n",
                        "7/7 [==============================] - 0s 39ms/step - loss: 8.4628e-06 - accuracy: 1.0000 - val_loss: 0.6929 - val_accuracy: 0.8861\n",
                        "Epoch 444/500\n",
                        "7/7 [==============================] - 0s 33ms/step - loss: 8.4021e-06 - accuracy: 1.0000 - val_loss: 0.6870 - val_accuracy: 0.8861\n",
                        "Epoch 445/500\n",
                        "7/7 [==============================] - 0s 27ms/step - loss: 8.3693e-06 - accuracy: 1.0000 - val_loss: 0.6853 - val_accuracy: 0.8861\n",
                        "Epoch 446/500\n",
                        "7/7 [==============================] - 0s 38ms/step - loss: 8.2761e-06 - accuracy: 1.0000 - val_loss: 0.6906 - val_accuracy: 0.8861\n",
                        "Epoch 447/500\n",
                        "7/7 [==============================] - 0s 67ms/step - loss: 8.2603e-06 - accuracy: 1.0000 - val_loss: 0.7004 - val_accuracy: 0.8833\n",
                        "Epoch 448/500\n",
                        "7/7 [==============================] - 0s 42ms/step - loss: 8.1155e-06 - accuracy: 1.0000 - val_loss: 0.6937 - val_accuracy: 0.8833\n",
                        "Epoch 449/500\n",
                        "7/7 [==============================] - 0s 45ms/step - loss: 8.0148e-06 - accuracy: 1.0000 - val_loss: 0.6921 - val_accuracy: 0.8833\n",
                        "Epoch 450/500\n",
                        "7/7 [==============================] - 0s 33ms/step - loss: 7.8959e-06 - accuracy: 1.0000 - val_loss: 0.6969 - val_accuracy: 0.8861\n",
                        "Epoch 451/500\n",
                        "7/7 [==============================] - 0s 30ms/step - loss: 7.8151e-06 - accuracy: 1.0000 - val_loss: 0.6979 - val_accuracy: 0.8861\n",
                        "Epoch 452/500\n",
                        "7/7 [==============================] - 0s 42ms/step - loss: 7.7284e-06 - accuracy: 1.0000 - val_loss: 0.6984 - val_accuracy: 0.8861\n",
                        "Epoch 453/500\n",
                        "7/7 [==============================] - 0s 50ms/step - loss: 7.6556e-06 - accuracy: 1.0000 - val_loss: 0.6991 - val_accuracy: 0.8861\n",
                        "Epoch 454/500\n",
                        "7/7 [==============================] - 0s 32ms/step - loss: 7.5804e-06 - accuracy: 1.0000 - val_loss: 0.6999 - val_accuracy: 0.8861\n",
                        "Epoch 455/500\n",
                        "7/7 [==============================] - 0s 38ms/step - loss: 7.5197e-06 - accuracy: 1.0000 - val_loss: 0.6950 - val_accuracy: 0.8833\n",
                        "Epoch 456/500\n",
                        "7/7 [==============================] - 0s 41ms/step - loss: 7.4587e-06 - accuracy: 1.0000 - val_loss: 0.6902 - val_accuracy: 0.8833\n",
                        "Epoch 457/500\n",
                        "7/7 [==============================] - 0s 39ms/step - loss: 7.3933e-06 - accuracy: 1.0000 - val_loss: 0.6945 - val_accuracy: 0.8833\n",
                        "Epoch 458/500\n",
                        "7/7 [==============================] - 0s 54ms/step - loss: 7.3303e-06 - accuracy: 1.0000 - val_loss: 0.7006 - val_accuracy: 0.8861\n",
                        "Epoch 459/500\n",
                        "7/7 [==============================] - 0s 41ms/step - loss: 7.2765e-06 - accuracy: 1.0000 - val_loss: 0.7028 - val_accuracy: 0.8861\n",
                        "Epoch 460/500\n",
                        "7/7 [==============================] - 0s 33ms/step - loss: 7.2062e-06 - accuracy: 1.0000 - val_loss: 0.7024 - val_accuracy: 0.8861\n",
                        "Epoch 461/500\n",
                        "7/7 [==============================] - 0s 33ms/step - loss: 7.1407e-06 - accuracy: 1.0000 - val_loss: 0.7029 - val_accuracy: 0.8861\n",
                        "Epoch 462/500\n",
                        "7/7 [==============================] - 0s 36ms/step - loss: 7.0909e-06 - accuracy: 1.0000 - val_loss: 0.7036 - val_accuracy: 0.8861\n",
                        "Epoch 463/500\n",
                        "7/7 [==============================] - 0s 43ms/step - loss: 7.0358e-06 - accuracy: 1.0000 - val_loss: 0.7025 - val_accuracy: 0.8861\n",
                        "Epoch 464/500\n",
                        "7/7 [==============================] - 0s 37ms/step - loss: 6.9681e-06 - accuracy: 1.0000 - val_loss: 0.7038 - val_accuracy: 0.8861\n",
                        "Epoch 465/500\n",
                        "7/7 [==============================] - 0s 33ms/step - loss: 6.9343e-06 - accuracy: 1.0000 - val_loss: 0.6882 - val_accuracy: 0.8861\n",
                        "Epoch 466/500\n",
                        "7/7 [==============================] - 0s 40ms/step - loss: 6.9028e-06 - accuracy: 1.0000 - val_loss: 0.6883 - val_accuracy: 0.8861\n",
                        "Epoch 467/500\n",
                        "7/7 [==============================] - 0s 39ms/step - loss: 6.8517e-06 - accuracy: 1.0000 - val_loss: 0.6925 - val_accuracy: 0.8861\n",
                        "Epoch 468/500\n",
                        "7/7 [==============================] - 0s 38ms/step - loss: 6.7818e-06 - accuracy: 1.0000 - val_loss: 0.7016 - val_accuracy: 0.8833\n",
                        "Epoch 469/500\n",
                        "7/7 [==============================] - 0s 49ms/step - loss: 6.7243e-06 - accuracy: 1.0000 - val_loss: 0.7048 - val_accuracy: 0.8861\n",
                        "Epoch 470/500\n",
                        "7/7 [==============================] - 0s 40ms/step - loss: 6.6709e-06 - accuracy: 1.0000 - val_loss: 0.7047 - val_accuracy: 0.8861\n",
                        "Epoch 471/500\n",
                        "7/7 [==============================] - 0s 39ms/step - loss: 6.6129e-06 - accuracy: 1.0000 - val_loss: 0.7065 - val_accuracy: 0.8861\n",
                        "Epoch 472/500\n",
                        "7/7 [==============================] - 0s 35ms/step - loss: 6.5698e-06 - accuracy: 1.0000 - val_loss: 0.7050 - val_accuracy: 0.8861\n",
                        "Epoch 473/500\n",
                        "7/7 [==============================] - 0s 39ms/step - loss: 6.5188e-06 - accuracy: 1.0000 - val_loss: 0.7048 - val_accuracy: 0.8861\n",
                        "Epoch 474/500\n",
                        "7/7 [==============================] - 0s 35ms/step - loss: 6.4763e-06 - accuracy: 1.0000 - val_loss: 0.7043 - val_accuracy: 0.8833\n",
                        "Epoch 475/500\n",
                        "7/7 [==============================] - 0s 49ms/step - loss: 6.4228e-06 - accuracy: 1.0000 - val_loss: 0.7066 - val_accuracy: 0.8861\n",
                        "Epoch 476/500\n",
                        "7/7 [==============================] - 0s 31ms/step - loss: 6.3832e-06 - accuracy: 1.0000 - val_loss: 0.7065 - val_accuracy: 0.8861\n",
                        "Epoch 477/500\n",
                        "7/7 [==============================] - 0s 30ms/step - loss: 6.3368e-06 - accuracy: 1.0000 - val_loss: 0.7069 - val_accuracy: 0.8861\n",
                        "Epoch 478/500\n",
                        "7/7 [==============================] - 0s 31ms/step - loss: 6.2957e-06 - accuracy: 1.0000 - val_loss: 0.7021 - val_accuracy: 0.8861\n",
                        "Epoch 479/500\n",
                        "7/7 [==============================] - 0s 31ms/step - loss: 6.2488e-06 - accuracy: 1.0000 - val_loss: 0.7018 - val_accuracy: 0.8861\n",
                        "Epoch 480/500\n",
                        "7/7 [==============================] - 0s 45ms/step - loss: 6.2027e-06 - accuracy: 1.0000 - val_loss: 0.7062 - val_accuracy: 0.8833\n",
                        "Epoch 481/500\n",
                        "7/7 [==============================] - 0s 37ms/step - loss: 6.1589e-06 - accuracy: 1.0000 - val_loss: 0.7030 - val_accuracy: 0.8861\n",
                        "Epoch 482/500\n",
                        "7/7 [==============================] - 0s 50ms/step - loss: 6.1272e-06 - accuracy: 1.0000 - val_loss: 0.6985 - val_accuracy: 0.8861\n",
                        "Epoch 483/500\n",
                        "7/7 [==============================] - 0s 39ms/step - loss: 6.0668e-06 - accuracy: 1.0000 - val_loss: 0.7039 - val_accuracy: 0.8861\n",
                        "Epoch 484/500\n",
                        "7/7 [==============================] - 0s 29ms/step - loss: 6.0120e-06 - accuracy: 1.0000 - val_loss: 0.7102 - val_accuracy: 0.8861\n",
                        "Epoch 485/500\n",
                        "7/7 [==============================] - 0s 45ms/step - loss: 5.9711e-06 - accuracy: 1.0000 - val_loss: 0.7081 - val_accuracy: 0.8861\n",
                        "Epoch 486/500\n",
                        "7/7 [==============================] - 0s 33ms/step - loss: 5.9161e-06 - accuracy: 1.0000 - val_loss: 0.7080 - val_accuracy: 0.8861\n",
                        "Epoch 487/500\n",
                        "7/7 [==============================] - 0s 32ms/step - loss: 5.8672e-06 - accuracy: 1.0000 - val_loss: 0.7106 - val_accuracy: 0.8861\n",
                        "Epoch 488/500\n",
                        "7/7 [==============================] - 0s 34ms/step - loss: 5.8141e-06 - accuracy: 1.0000 - val_loss: 0.7107 - val_accuracy: 0.8861\n",
                        "Epoch 489/500\n",
                        "7/7 [==============================] - 0s 30ms/step - loss: 5.7706e-06 - accuracy: 1.0000 - val_loss: 0.7102 - val_accuracy: 0.8861\n",
                        "Epoch 490/500\n",
                        "7/7 [==============================] - 0s 36ms/step - loss: 5.7305e-06 - accuracy: 1.0000 - val_loss: 0.7109 - val_accuracy: 0.8889\n",
                        "Epoch 491/500\n",
                        "7/7 [==============================] - 0s 52ms/step - loss: 5.6815e-06 - accuracy: 1.0000 - val_loss: 0.7101 - val_accuracy: 0.8861\n",
                        "Epoch 492/500\n",
                        "7/7 [==============================] - 0s 32ms/step - loss: 5.6365e-06 - accuracy: 1.0000 - val_loss: 0.7136 - val_accuracy: 0.8861\n",
                        "Epoch 493/500\n",
                        "7/7 [==============================] - 0s 43ms/step - loss: 5.5975e-06 - accuracy: 1.0000 - val_loss: 0.7101 - val_accuracy: 0.8861\n",
                        "Epoch 494/500\n",
                        "7/7 [==============================] - 0s 34ms/step - loss: 5.5540e-06 - accuracy: 1.0000 - val_loss: 0.7123 - val_accuracy: 0.8861\n",
                        "Epoch 495/500\n",
                        "7/7 [==============================] - 0s 50ms/step - loss: 5.5173e-06 - accuracy: 1.0000 - val_loss: 0.7021 - val_accuracy: 0.8861\n",
                        "Epoch 496/500\n",
                        "7/7 [==============================] - 0s 62ms/step - loss: 5.4893e-06 - accuracy: 1.0000 - val_loss: 0.6998 - val_accuracy: 0.8861\n",
                        "Epoch 497/500\n",
                        "7/7 [==============================] - 0s 42ms/step - loss: 5.4490e-06 - accuracy: 1.0000 - val_loss: 0.7043 - val_accuracy: 0.8861\n",
                        "Epoch 498/500\n",
                        "7/7 [==============================] - 0s 40ms/step - loss: 5.4014e-06 - accuracy: 1.0000 - val_loss: 0.7123 - val_accuracy: 0.8861\n",
                        "Epoch 499/500\n",
                        "7/7 [==============================] - 0s 33ms/step - loss: 5.3604e-06 - accuracy: 1.0000 - val_loss: 0.7160 - val_accuracy: 0.8889\n",
                        "Epoch 500/500\n",
                        "7/7 [==============================] - 0s 33ms/step - loss: 5.3312e-06 - accuracy: 1.0000 - val_loss: 0.7128 - val_accuracy: 0.8861\n"
                    ]
                }
            ],
            "source": [
                "# your code here\n",
                "'''\n",
                "Build a fully-connected network (FCN) with the architecture given below using tensorflow.keras and assign it to a variable called model_overfit:\n",
                "\n",
                "Number of hidden layers: 3\n",
                "Nodes per hidden layer: 100, 100, 100\n",
                "Activation function: ReLU\n",
                "Loss function: binary_crossentropy\n",
                "Output unit: Sigmoid\n",
                "Optimizer: adam (use the defaults; no other tuning)\n",
                "Epochs: no more than 2,000\n",
                "Batch size: 128\n",
                "Validation size: 0.3\n",
                "'''\n",
                "NN_model = tf.keras.models.Sequential()\n",
                "NN_model.add(tf.keras.layers.Dense(100, input_dim=df.shape[1]-1, activation='relu'))\n",
                "NN_model.add(tf.keras.layers.Dense(100, activation='relu'))\n",
                "NN_model.add(tf.keras.layers.Dense(100, activation='relu'))\n",
                "NN_model.add(tf.keras.layers.Dense(1, activation='sigmoid'))\n",
                "NN_model.compile(loss='binary_crossentropy', optimizer='adam', metrics=['accuracy'])\n",
                "history = NN_model.fit(df.iloc[:,:-1], df.iloc[:,-1], epochs=500, batch_size=128, verbose=1, validation_split=0.3)"
            ]
        },
        {
            "cell_type": "code",
            "execution_count": 122,
            "metadata": {},
            "outputs": [
                {
                    "data": {
                        "text/plain": [
                            "<matplotlib.legend.Legend at 0x7fe65833ff70>"
                        ]
                    },
                    "execution_count": 122,
                    "metadata": {},
                    "output_type": "execute_result"
                },
                {
                    "data": {
                        "image/png": "[encoded data removed]",
                        "text/plain": [
                            "<Figure size 432x288 with 1 Axes>"
                        ]
                    },
                    "metadata": {
                        "needs_background": "light"
                    },
                    "output_type": "display_data"
                }
            ],
            "source": [
                "# Plot the training accuracy and validation accuracy\n",
                "plt.plot(history.history['accuracy'])\n",
                "plt.plot(history.history['val_accuracy'])\n",
                "plt.legend(['train', 'val'], loc='upper left')"
            ]
        },
        {
            "cell_type": "code",
            "execution_count": 169,
            "metadata": {},
            "outputs": [],
            "source": [
                "df_test = pd.read_csv('kmnist_test.csv/kmnist_test.csv')"
            ]
        },
        {
            "cell_type": "code",
            "execution_count": 173,
            "metadata": {},
            "outputs": [
                {
                    "name": "stdout",
                    "output_type": "stream",
                    "text": [
                        "63/63 [==============================] - 0s 4ms/step\n"
                    ]
                }
            ],
            "source": [
                "# fit on test data\n",
                "y_cap = NN_model.predict(df_test.iloc[:,:])"
            ]
        },
        {
            "cell_type": "code",
            "execution_count": 180,
            "metadata": {},
            "outputs": [
                {
                    "data": {
                        "text/plain": [
                            "<matplotlib.image.AxesImage at 0x7fe648718370>"
                        ]
                    },
                    "execution_count": 180,
                    "metadata": {},
                    "output_type": "execute_result"
                },
                {
                    "data": {
                        "image/png": "[encoded data removed]",
                        "text/plain": [
                            "<Figure size 432x288 with 1 Axes>"
                        ]
                    },
                    "metadata": {
                        "needs_background": "light"
                    },
                    "output_type": "display_data"
                }
            ],
            "source": [
                "plt.imshow(df_test.iloc[-1,:].values.reshape(28,28))"
            ]
        },
        {
            "cell_type": "code",
            "execution_count": 181,
            "metadata": {},
            "outputs": [],
            "source": [
                "pred = y_cap > 0.5"
            ]
        },
        {
            "cell_type": "code",
            "execution_count": 190,
            "metadata": {},
            "outputs": [],
            "source": [
                "pd.DataFrame(pred.astype(int)).to_csv('submission.csv', index=True)"
            ]
        },
        {
            "attachments": {},
            "cell_type": "markdown",
            "metadata": {},
            "source": [
                "**INTERPRETATION:**"
            ]
        },
        {
            "attachments": {},
            "cell_type": "markdown",
            "metadata": {},
            "source": [
                "*your answer here*"
            ]
        },
        {
            "attachments": {},
            "cell_type": "markdown",
            "metadata": {},
            "source": [
                "<div class='exercise-r'>\n",
                "\n",
                "**2.1.3** \n",
                "\n",
                "**2.1.3.1**\n",
                "    \n",
                "</div>"
            ]
        },
        {
            "cell_type": "code",
            "execution_count": null,
            "metadata": {
                "collapsed": true
            },
            "outputs": [
                {
                    "name": "stdout",
                    "output_type": "stream",
                    "text": [
                        "Model: \"sequential_3\"\n",
                        "_________________________________________________________________\n",
                        " Layer (type)                Output Shape              Param #   \n",
                        "=================================================================\n",
                        " dense_11 (Dense)            (None, 100)               78500     \n",
                        "                                                                 \n",
                        " dense_12 (Dense)            (None, 100)               10100     \n",
                        "                                                                 \n",
                        " dense_13 (Dense)            (None, 100)               10100     \n",
                        "                                                                 \n",
                        " dense_14 (Dense)            (None, 1)                 101       \n",
                        "                                                                 \n",
                        "=================================================================\n",
                        "Total params: 98,801\n",
                        "Trainable params: 98,801\n",
                        "Non-trainable params: 0\n",
                        "_________________________________________________________________\n"
                    ]
                }
            ],
            "source": [
                "# your code here\n",
                "#  Display your model summary and your training and validation accuracy and loss.\n",
                "NN_model.summary()\n"
            ]
        },
        {
            "cell_type": "code",
            "execution_count": null,
            "metadata": {},
            "outputs": [
                {
                    "name": "stdout",
                    "output_type": "stream",
                    "text": [
                        "38/38 [==============================] - 1s 8ms/step\n",
                        "NN_model_train_auc: 0.9938521684244479\n",
                        "38/38 [==============================] - 0s 7ms/step\n",
                        "NN_model_test_auc: 0.9938521684244479\n"
                    ]
                }
            ],
            "source": [
                "print(\"NN_model_train_auc:\", roc_auc_score(df.iloc[:,-1], NN_model.predict(df.iloc[:,:-1])))\n",
                "print(\"NN_model_test_auc:\", roc_auc_score(df.iloc[:,-1], NN_model.predict(df.iloc[:,:-1])))"
            ]
        },
        {
            "attachments": {},
            "cell_type": "markdown",
            "metadata": {},
            "source": [
                "<div class='exercise-r'>\n",
                "\n",
                "**2.1.3.2**\n",
                "    \n",
                "</div>"
            ]
        },
        {
            "cell_type": "code",
            "execution_count": null,
            "metadata": {
                "collapsed": true
            },
            "outputs": [],
            "source": [
                "# your code here"
            ]
        },
        {
            "attachments": {},
            "cell_type": "markdown",
            "metadata": {},
            "source": [
                "<div class='exercise-r'>\n",
                "\n",
                "**2.1.3.3**\n",
                "    \n",
                "</div>"
            ]
        },
        {
            "cell_type": "code",
            "execution_count": null,
            "metadata": {
                "collapsed": true
            },
            "outputs": [],
            "source": [
                "# your code here"
            ]
        },
        {
            "attachments": {},
            "cell_type": "markdown",
            "metadata": {},
            "source": [
                "<div class='exercise-r'>\n",
                "\n",
                "**2.1.3.4**\n",
                "    \n",
                "</div>"
            ]
        },
        {
            "cell_type": "code",
            "execution_count": null,
            "metadata": {
                "collapsed": true
            },
            "outputs": [],
            "source": [
                "# your code here"
            ]
        },
        {
            "attachments": {},
            "cell_type": "markdown",
            "metadata": {},
            "source": [
                "<div class='exercise-r'>\n",
                "\n",
                "**2.1.3.5**\n",
                "    \n",
                "</div>"
            ]
        },
        {
            "attachments": {},
            "cell_type": "markdown",
            "metadata": {},
            "source": [
                "**YOUR KAGGLE LEADERBOARD NAME:**"
            ]
        },
        {
            "attachments": {},
            "cell_type": "markdown",
            "metadata": {},
            "source": [
                "*your answer here*"
            ]
        },
        {
            "attachments": {},
            "cell_type": "markdown",
            "metadata": {},
            "source": [
                "<div class=\"alert alert-block alert-danger\" style=\"color:black;background-color:#E7F4FA\">\n",
                "\n",
                "<h1>PART 2.2 [30points]: KMNIST Classification using CNNs</h1>\n",
                "\n",
                "[Return to contents](#contents)\n",
                "\n",
                "In this part of Homework, you will now contruct a CNN-based model in order to best classify the Kannada MNIST dataset.\n",
                "\n",
                "**2.2.1 [5 points]** Examine the dataset and prepare the data by appropriately standardizing, reshaping and type-checking. \n",
                "\n",
                "**2.2.2 [20 points]** Construct a simple CNN model - with not more than 10 layers. Please ensure that you use the following layers/parameters in order to contruct the model -\n",
                "1. Maxpooling\n",
                "2. Dense layers\n",
                "3. Regularization methods such as Adam, Drop out, Batch Normalization etc. \n",
                "\n",
                "**2.2.3 [5 points]** Perform error analysis on the predictions of your model and report classification accuracy. This should also include loss plots that allow for comparision of the model performance across the epochs. Conclusively, provide a detailed inference of why certain misclassifications would have taken place.\n",
                "\n",
                "\n",
                "\n",
                "</div>"
            ]
        },
        {
            "attachments": {},
            "cell_type": "markdown",
            "metadata": {},
            "source": [
                "<a id=\"part2.2solutions\"></a>\n",
                "\n",
                "\n",
                "## PART 2.2 Solutions\n",
                "\n",
                "[Return to contents](#contents)\n"
            ]
        },
        {
            "attachments": {},
            "cell_type": "markdown",
            "metadata": {},
            "source": [
                "**2.2.1**"
            ]
        },
        {
            "cell_type": "code",
            "execution_count": null,
            "metadata": {},
            "outputs": [],
            "source": [
                "#your code here\n",
                "#  prepare the data by appropriately standardizing, reshaping and type-checking\n",
                "df_train = pd.read_csv('kmnist_train.csv/kmnist_train.csv')\n",
                "df_test = pd.read_csv('kmnist_test.csv/kmnist_test.csv')"
            ]
        },
        {
            "attachments": {},
            "cell_type": "markdown",
            "metadata": {},
            "source": [
                "**2.2.2**"
            ]
        },
        {
            "cell_type": "code",
            "execution_count": null,
            "metadata": {},
            "outputs": [
                {
                    "name": "stdout",
                    "output_type": "stream",
                    "text": [
                        "Model: \"sequential_9\"\n",
                        "_________________________________________________________________\n",
                        " Layer (type)                Output Shape              Param #   \n",
                        "=================================================================\n",
                        " conv2d_14 (Conv2D)          (None, 26, 26, 32)        320       \n",
                        "                                                                 \n",
                        " max_pooling2d_14 (MaxPoolin  (None, 13, 13, 32)       0         \n",
                        " g2D)                                                            \n",
                        "                                                                 \n",
                        " conv2d_15 (Conv2D)          (None, 11, 11, 64)        18496     \n",
                        "                                                                 \n",
                        " max_pooling2d_15 (MaxPoolin  (None, 5, 5, 64)         0         \n",
                        " g2D)                                                            \n",
                        "                                                                 \n",
                        " conv2d_16 (Conv2D)          (None, 3, 3, 128)         73856     \n",
                        "                                                                 \n",
                        " max_pooling2d_16 (MaxPoolin  (None, 1, 1, 128)        0         \n",
                        " g2D)                                                            \n",
                        "                                                                 \n",
                        " flatten_4 (Flatten)         (None, 128)               0         \n",
                        "                                                                 \n",
                        " dense_23 (Dense)            (None, 128)               16512     \n",
                        "                                                                 \n",
                        " dense_24 (Dense)            (None, 1)                 129       \n",
                        "                                                                 \n",
                        "=================================================================\n",
                        "Total params: 109,313\n",
                        "Trainable params: 109,313\n",
                        "Non-trainable params: 0\n",
                        "_________________________________________________________________\n"
                    ]
                }
            ],
            "source": [
                "#your code here\n",
                "'''\n",
                "Construct a simple CNN model - with not more than 10 layers. Please ensure that you use the following layers/parameters in order to contruct the model -\n",
                "\n",
                "Maxpooling\n",
                "Dense layers\n",
                "Regularization methods such as Adam, Drop out, Batch Normalization etc.\n",
                "'''\n",
                "CNN_model = tf.keras.models.Sequential()\n",
                "CNN_model.add(tf.keras.layers.Conv2D(32, kernel_size=(3, 3), activation='relu', input_shape=(28,28,1)))\n",
                "# Add more regulaization layers as well\n",
                "CNN_model.add(tf.keras.layers.MaxPooling2D(pool_size=(2, 2)))\n",
                "CNN_model.add(tf.keras.layers.Conv2D(64, kernel_size=(3, 3), activation='relu'))\n",
                "CNN_model.add(tf.keras.layers.MaxPooling2D(pool_size=(2, 2)))\n",
                "CNN_model.add(tf.keras.layers.Conv2D(128, kernel_size=(3, 3), activation='relu'))\n",
                "CNN_model.add(tf.keras.layers.MaxPooling2D(pool_size=(2, 2)))\n",
                "CNN_model.add(tf.keras.layers.Flatten())\n",
                "CNN_model.add(tf.keras.layers.Dense(128, activation='relu'))\n",
                "CNN_model.add(tf.keras.layers.Dense(1, activation='sigmoid'))\n",
                "#binary cross entropy\n",
                "CNN_model.compile(loss='binary_crossentropy', optimizer='adam', metrics=['accuracy'])\n",
                "CNN_model.summary()"
            ]
        },
        {
            "cell_type": "code",
            "execution_count": null,
            "metadata": {},
            "outputs": [],
            "source": [
                "#prepare the train data for the above neural network\n",
                "X = df_train.iloc[:,:-1].values.reshape(-1,28,28,1)\n",
                "y = df_train.iloc[:,-1].values.astype('float32').reshape((-1,1))"
            ]
        },
        {
            "cell_type": "code",
            "execution_count": null,
            "metadata": {},
            "outputs": [
                {
                    "name": "stdout",
                    "output_type": "stream",
                    "text": [
                        "Epoch 1/100\n",
                        "7/7 [==============================] - 4s 184ms/step - loss: 2.7099 - accuracy: 0.4893 - val_loss: 0.8160 - val_accuracy: 0.4944\n",
                        "Epoch 2/100\n",
                        "7/7 [==============================] - 0s 66ms/step - loss: 0.9776 - accuracy: 0.5107 - val_loss: 0.6826 - val_accuracy: 0.5583\n",
                        "Epoch 3/100\n",
                        "7/7 [==============================] - 0s 71ms/step - loss: 0.7211 - accuracy: 0.5214 - val_loss: 0.6873 - val_accuracy: 0.5611\n",
                        "Epoch 4/100\n",
                        "7/7 [==============================] - 0s 66ms/step - loss: 0.6829 - accuracy: 0.5429 - val_loss: 0.6724 - val_accuracy: 0.5556\n",
                        "Epoch 5/100\n",
                        "7/7 [==============================] - 0s 68ms/step - loss: 0.6640 - accuracy: 0.6298 - val_loss: 0.6721 - val_accuracy: 0.5083\n",
                        "Epoch 6/100\n",
                        "7/7 [==============================] - 0s 65ms/step - loss: 0.6508 - accuracy: 0.6012 - val_loss: 0.6554 - val_accuracy: 0.6583\n",
                        "Epoch 7/100\n",
                        "7/7 [==============================] - 0s 70ms/step - loss: 0.6387 - accuracy: 0.6655 - val_loss: 0.6666 - val_accuracy: 0.5028\n",
                        "Epoch 8/100\n",
                        "7/7 [==============================] - 0s 65ms/step - loss: 0.6261 - accuracy: 0.6917 - val_loss: 0.6269 - val_accuracy: 0.6417\n",
                        "Epoch 9/100\n",
                        "7/7 [==============================] - 0s 73ms/step - loss: 0.6034 - accuracy: 0.6869 - val_loss: 0.6072 - val_accuracy: 0.7167\n",
                        "Epoch 10/100\n",
                        "7/7 [==============================] - 1s 76ms/step - loss: 0.5834 - accuracy: 0.7512 - val_loss: 0.5868 - val_accuracy: 0.7000\n",
                        "Epoch 11/100\n",
                        "7/7 [==============================] - 0s 74ms/step - loss: 0.5594 - accuracy: 0.7488 - val_loss: 0.5821 - val_accuracy: 0.7417\n",
                        "Epoch 12/100\n",
                        "7/7 [==============================] - 1s 86ms/step - loss: 0.5574 - accuracy: 0.7262 - val_loss: 0.5578 - val_accuracy: 0.7556\n",
                        "Epoch 13/100\n",
                        "7/7 [==============================] - 1s 93ms/step - loss: 0.5332 - accuracy: 0.7393 - val_loss: 0.5451 - val_accuracy: 0.6972\n",
                        "Epoch 14/100\n",
                        "7/7 [==============================] - 0s 67ms/step - loss: 0.4997 - accuracy: 0.7905 - val_loss: 0.5400 - val_accuracy: 0.7083\n",
                        "Epoch 15/100\n",
                        "7/7 [==============================] - 0s 53ms/step - loss: 0.4717 - accuracy: 0.7893 - val_loss: 0.4963 - val_accuracy: 0.7444\n",
                        "Epoch 16/100\n",
                        "7/7 [==============================] - 0s 48ms/step - loss: 0.4466 - accuracy: 0.8107 - val_loss: 0.5072 - val_accuracy: 0.7667\n",
                        "Epoch 17/100\n",
                        "7/7 [==============================] - 0s 54ms/step - loss: 0.4533 - accuracy: 0.7857 - val_loss: 0.4560 - val_accuracy: 0.7722\n",
                        "Epoch 18/100\n",
                        "7/7 [==============================] - 0s 48ms/step - loss: 0.4115 - accuracy: 0.8167 - val_loss: 0.5075 - val_accuracy: 0.7278\n",
                        "Epoch 19/100\n",
                        "7/7 [==============================] - 0s 44ms/step - loss: 0.3874 - accuracy: 0.8369 - val_loss: 0.4311 - val_accuracy: 0.8056\n",
                        "Epoch 20/100\n",
                        "7/7 [==============================] - 0s 50ms/step - loss: 0.3552 - accuracy: 0.8595 - val_loss: 0.4618 - val_accuracy: 0.8000\n",
                        "Epoch 21/100\n",
                        "7/7 [==============================] - 0s 43ms/step - loss: 0.3622 - accuracy: 0.8381 - val_loss: 0.4144 - val_accuracy: 0.8222\n",
                        "Epoch 22/100\n",
                        "7/7 [==============================] - 0s 52ms/step - loss: 0.3670 - accuracy: 0.8321 - val_loss: 0.4297 - val_accuracy: 0.7861\n",
                        "Epoch 23/100\n",
                        "7/7 [==============================] - 0s 45ms/step - loss: 0.3045 - accuracy: 0.8750 - val_loss: 0.4043 - val_accuracy: 0.8056\n",
                        "Epoch 24/100\n",
                        "7/7 [==============================] - 0s 51ms/step - loss: 0.2911 - accuracy: 0.8929 - val_loss: 0.4174 - val_accuracy: 0.7861\n",
                        "Epoch 25/100\n",
                        "7/7 [==============================] - 0s 44ms/step - loss: 0.2817 - accuracy: 0.8833 - val_loss: 0.4060 - val_accuracy: 0.7944\n",
                        "Epoch 26/100\n",
                        "7/7 [==============================] - 0s 45ms/step - loss: 0.2708 - accuracy: 0.8952 - val_loss: 0.3845 - val_accuracy: 0.8333\n",
                        "Epoch 27/100\n",
                        "7/7 [==============================] - 0s 46ms/step - loss: 0.2390 - accuracy: 0.9190 - val_loss: 0.3768 - val_accuracy: 0.8417\n",
                        "Epoch 28/100\n",
                        "7/7 [==============================] - 0s 45ms/step - loss: 0.2176 - accuracy: 0.9274 - val_loss: 0.3734 - val_accuracy: 0.8444\n",
                        "Epoch 29/100\n",
                        "7/7 [==============================] - 0s 51ms/step - loss: 0.1979 - accuracy: 0.9381 - val_loss: 0.3775 - val_accuracy: 0.8528\n",
                        "Epoch 30/100\n",
                        "7/7 [==============================] - 0s 54ms/step - loss: 0.1836 - accuracy: 0.9500 - val_loss: 0.3693 - val_accuracy: 0.8278\n",
                        "Epoch 31/100\n",
                        "7/7 [==============================] - 0s 51ms/step - loss: 0.1764 - accuracy: 0.9452 - val_loss: 0.3665 - val_accuracy: 0.8472\n",
                        "Epoch 32/100\n",
                        "7/7 [==============================] - 0s 48ms/step - loss: 0.1535 - accuracy: 0.9571 - val_loss: 0.3681 - val_accuracy: 0.8444\n",
                        "Epoch 33/100\n",
                        "7/7 [==============================] - 0s 56ms/step - loss: 0.1802 - accuracy: 0.9310 - val_loss: 0.3674 - val_accuracy: 0.8500\n",
                        "Epoch 34/100\n",
                        "7/7 [==============================] - 0s 44ms/step - loss: 0.1328 - accuracy: 0.9679 - val_loss: 0.3678 - val_accuracy: 0.8556\n",
                        "Epoch 35/100\n",
                        "7/7 [==============================] - 0s 46ms/step - loss: 0.1221 - accuracy: 0.9762 - val_loss: 0.4273 - val_accuracy: 0.8472\n",
                        "Epoch 36/100\n",
                        "7/7 [==============================] - 0s 48ms/step - loss: 0.1345 - accuracy: 0.9512 - val_loss: 0.3691 - val_accuracy: 0.8361\n",
                        "Epoch 37/100\n",
                        "7/7 [==============================] - 0s 50ms/step - loss: 0.1068 - accuracy: 0.9726 - val_loss: 0.4507 - val_accuracy: 0.8472\n",
                        "Epoch 38/100\n",
                        "7/7 [==============================] - 0s 49ms/step - loss: 0.1438 - accuracy: 0.9357 - val_loss: 0.4417 - val_accuracy: 0.7889\n",
                        "Epoch 39/100\n",
                        "7/7 [==============================] - 0s 66ms/step - loss: 0.1387 - accuracy: 0.9488 - val_loss: 0.4408 - val_accuracy: 0.7944\n",
                        "Epoch 40/100\n",
                        "7/7 [==============================] - 0s 63ms/step - loss: 0.1071 - accuracy: 0.9750 - val_loss: 0.3817 - val_accuracy: 0.8444\n",
                        "Epoch 41/100\n",
                        "7/7 [==============================] - 0s 64ms/step - loss: 0.0841 - accuracy: 0.9833 - val_loss: 0.3887 - val_accuracy: 0.8472\n",
                        "Epoch 42/100\n",
                        "7/7 [==============================] - 0s 52ms/step - loss: 0.0699 - accuracy: 0.9929 - val_loss: 0.3918 - val_accuracy: 0.8444\n",
                        "Epoch 43/100\n",
                        "7/7 [==============================] - 0s 68ms/step - loss: 0.0577 - accuracy: 0.9940 - val_loss: 0.3943 - val_accuracy: 0.8417\n",
                        "Epoch 44/100\n",
                        "7/7 [==============================] - 1s 80ms/step - loss: 0.0559 - accuracy: 0.9940 - val_loss: 0.3953 - val_accuracy: 0.8528\n",
                        "Epoch 45/100\n",
                        "7/7 [==============================] - 0s 63ms/step - loss: 0.0491 - accuracy: 0.9964 - val_loss: 0.4145 - val_accuracy: 0.8333\n",
                        "Epoch 46/100\n",
                        "7/7 [==============================] - 0s 62ms/step - loss: 0.0484 - accuracy: 0.9976 - val_loss: 0.4030 - val_accuracy: 0.8444\n",
                        "Epoch 47/100\n",
                        "7/7 [==============================] - 0s 72ms/step - loss: 0.0476 - accuracy: 0.9976 - val_loss: 0.4154 - val_accuracy: 0.8556\n",
                        "Epoch 48/100\n",
                        "7/7 [==============================] - 0s 64ms/step - loss: 0.0427 - accuracy: 0.9976 - val_loss: 0.4196 - val_accuracy: 0.8417\n",
                        "Epoch 49/100\n",
                        "7/7 [==============================] - 0s 65ms/step - loss: 0.0390 - accuracy: 0.9988 - val_loss: 0.4321 - val_accuracy: 0.8222\n",
                        "Epoch 50/100\n",
                        "7/7 [==============================] - 0s 62ms/step - loss: 0.0325 - accuracy: 0.9976 - val_loss: 0.4416 - val_accuracy: 0.8278\n",
                        "Epoch 51/100\n",
                        "7/7 [==============================] - 0s 57ms/step - loss: 0.0243 - accuracy: 0.9988 - val_loss: 0.4432 - val_accuracy: 0.8278\n",
                        "Epoch 52/100\n",
                        "7/7 [==============================] - 0s 61ms/step - loss: 0.0193 - accuracy: 1.0000 - val_loss: 0.4503 - val_accuracy: 0.8417\n",
                        "Epoch 53/100\n",
                        "7/7 [==============================] - 0s 56ms/step - loss: 0.0170 - accuracy: 1.0000 - val_loss: 0.4542 - val_accuracy: 0.8472\n",
                        "Epoch 54/100\n",
                        "7/7 [==============================] - 0s 67ms/step - loss: 0.0153 - accuracy: 1.0000 - val_loss: 0.4631 - val_accuracy: 0.8444\n",
                        "Epoch 55/100\n",
                        "7/7 [==============================] - 0s 58ms/step - loss: 0.0133 - accuracy: 1.0000 - val_loss: 0.4856 - val_accuracy: 0.8583\n",
                        "Epoch 56/100\n",
                        "7/7 [==============================] - 0s 60ms/step - loss: 0.0136 - accuracy: 1.0000 - val_loss: 0.4754 - val_accuracy: 0.8444\n",
                        "Epoch 57/100\n",
                        "7/7 [==============================] - 0s 61ms/step - loss: 0.0113 - accuracy: 1.0000 - val_loss: 0.4827 - val_accuracy: 0.8306\n",
                        "Epoch 58/100\n",
                        "7/7 [==============================] - 0s 61ms/step - loss: 0.0104 - accuracy: 1.0000 - val_loss: 0.4884 - val_accuracy: 0.8528\n",
                        "Epoch 59/100\n",
                        "7/7 [==============================] - 1s 90ms/step - loss: 0.0088 - accuracy: 1.0000 - val_loss: 0.4914 - val_accuracy: 0.8500\n",
                        "Epoch 60/100\n",
                        "7/7 [==============================] - 0s 51ms/step - loss: 0.0081 - accuracy: 1.0000 - val_loss: 0.4969 - val_accuracy: 0.8417\n",
                        "Epoch 61/100\n",
                        "7/7 [==============================] - 0s 48ms/step - loss: 0.0077 - accuracy: 1.0000 - val_loss: 0.5003 - val_accuracy: 0.8444\n",
                        "Epoch 62/100\n",
                        "7/7 [==============================] - 0s 45ms/step - loss: 0.0072 - accuracy: 1.0000 - val_loss: 0.5191 - val_accuracy: 0.8639\n",
                        "Epoch 63/100\n",
                        "7/7 [==============================] - 0s 46ms/step - loss: 0.0067 - accuracy: 1.0000 - val_loss: 0.5098 - val_accuracy: 0.8472\n",
                        "Epoch 64/100\n",
                        "7/7 [==============================] - 0s 54ms/step - loss: 0.0058 - accuracy: 1.0000 - val_loss: 0.5169 - val_accuracy: 0.8444\n",
                        "Epoch 65/100\n",
                        "7/7 [==============================] - 0s 49ms/step - loss: 0.0053 - accuracy: 1.0000 - val_loss: 0.5205 - val_accuracy: 0.8444\n",
                        "Epoch 66/100\n",
                        "7/7 [==============================] - 0s 50ms/step - loss: 0.0050 - accuracy: 1.0000 - val_loss: 0.5320 - val_accuracy: 0.8444\n",
                        "Epoch 67/100\n",
                        "7/7 [==============================] - 0s 43ms/step - loss: 0.0046 - accuracy: 1.0000 - val_loss: 0.5366 - val_accuracy: 0.8444\n",
                        "Epoch 68/100\n",
                        "7/7 [==============================] - 0s 54ms/step - loss: 0.0043 - accuracy: 1.0000 - val_loss: 0.5402 - val_accuracy: 0.8444\n",
                        "Epoch 69/100\n",
                        "7/7 [==============================] - 0s 51ms/step - loss: 0.0039 - accuracy: 1.0000 - val_loss: 0.5435 - val_accuracy: 0.8472\n",
                        "Epoch 70/100\n",
                        "7/7 [==============================] - 0s 51ms/step - loss: 0.0037 - accuracy: 1.0000 - val_loss: 0.5520 - val_accuracy: 0.8472\n",
                        "Epoch 71/100\n",
                        "7/7 [==============================] - 0s 50ms/step - loss: 0.0035 - accuracy: 1.0000 - val_loss: 0.5582 - val_accuracy: 0.8472\n",
                        "Epoch 72/100\n",
                        "7/7 [==============================] - 0s 42ms/step - loss: 0.0033 - accuracy: 1.0000 - val_loss: 0.5585 - val_accuracy: 0.8500\n",
                        "Epoch 73/100\n",
                        "7/7 [==============================] - 0s 48ms/step - loss: 0.0031 - accuracy: 1.0000 - val_loss: 0.5688 - val_accuracy: 0.8500\n",
                        "Epoch 74/100\n",
                        "7/7 [==============================] - 0s 54ms/step - loss: 0.0029 - accuracy: 1.0000 - val_loss: 0.5682 - val_accuracy: 0.8472\n",
                        "Epoch 75/100\n",
                        "7/7 [==============================] - 0s 49ms/step - loss: 0.0027 - accuracy: 1.0000 - val_loss: 0.5734 - val_accuracy: 0.8444\n",
                        "Epoch 76/100\n",
                        "7/7 [==============================] - 0s 53ms/step - loss: 0.0024 - accuracy: 1.0000 - val_loss: 0.5856 - val_accuracy: 0.8500\n",
                        "Epoch 77/100\n",
                        "7/7 [==============================] - 0s 46ms/step - loss: 0.0024 - accuracy: 1.0000 - val_loss: 0.5854 - val_accuracy: 0.8472\n",
                        "Epoch 78/100\n",
                        "7/7 [==============================] - 0s 50ms/step - loss: 0.0023 - accuracy: 1.0000 - val_loss: 0.5911 - val_accuracy: 0.8472\n",
                        "Epoch 79/100\n",
                        "7/7 [==============================] - 0s 64ms/step - loss: 0.0021 - accuracy: 1.0000 - val_loss: 0.6081 - val_accuracy: 0.8556\n",
                        "Epoch 80/100\n",
                        "7/7 [==============================] - 0s 69ms/step - loss: 0.0019 - accuracy: 1.0000 - val_loss: 0.6070 - val_accuracy: 0.8500\n",
                        "Epoch 81/100\n",
                        "7/7 [==============================] - 0s 62ms/step - loss: 0.0017 - accuracy: 1.0000 - val_loss: 0.6145 - val_accuracy: 0.8472\n",
                        "Epoch 82/100\n",
                        "7/7 [==============================] - 0s 51ms/step - loss: 0.0015 - accuracy: 1.0000 - val_loss: 0.6203 - val_accuracy: 0.8472\n",
                        "Epoch 83/100\n",
                        "7/7 [==============================] - 0s 57ms/step - loss: 0.0014 - accuracy: 1.0000 - val_loss: 0.6266 - val_accuracy: 0.8472\n",
                        "Epoch 84/100\n",
                        "7/7 [==============================] - 1s 104ms/step - loss: 0.0013 - accuracy: 1.0000 - val_loss: 0.6291 - val_accuracy: 0.8472\n",
                        "Epoch 85/100\n",
                        "7/7 [==============================] - 0s 51ms/step - loss: 0.0013 - accuracy: 1.0000 - val_loss: 0.6344 - val_accuracy: 0.8472\n",
                        "Epoch 86/100\n",
                        "7/7 [==============================] - 0s 57ms/step - loss: 0.0012 - accuracy: 1.0000 - val_loss: 0.6399 - val_accuracy: 0.8472\n",
                        "Epoch 87/100\n",
                        "7/7 [==============================] - 0s 48ms/step - loss: 0.0012 - accuracy: 1.0000 - val_loss: 0.6415 - val_accuracy: 0.8472\n",
                        "Epoch 88/100\n",
                        "7/7 [==============================] - 0s 47ms/step - loss: 0.0011 - accuracy: 1.0000 - val_loss: 0.6488 - val_accuracy: 0.8444\n",
                        "Epoch 89/100\n",
                        "7/7 [==============================] - 0s 51ms/step - loss: 0.0010 - accuracy: 1.0000 - val_loss: 0.6489 - val_accuracy: 0.8472\n",
                        "Epoch 90/100\n",
                        "7/7 [==============================] - 0s 67ms/step - loss: 0.0010 - accuracy: 1.0000 - val_loss: 0.6549 - val_accuracy: 0.8472\n",
                        "Epoch 91/100\n",
                        "7/7 [==============================] - 0s 50ms/step - loss: 9.3856e-04 - accuracy: 1.0000 - val_loss: 0.6573 - val_accuracy: 0.8472\n",
                        "Epoch 92/100\n",
                        "7/7 [==============================] - 0s 45ms/step - loss: 8.9950e-04 - accuracy: 1.0000 - val_loss: 0.6623 - val_accuracy: 0.8444\n",
                        "Epoch 93/100\n",
                        "7/7 [==============================] - 0s 40ms/step - loss: 8.6559e-04 - accuracy: 1.0000 - val_loss: 0.6662 - val_accuracy: 0.8472\n",
                        "Epoch 94/100\n",
                        "7/7 [==============================] - 0s 45ms/step - loss: 8.2879e-04 - accuracy: 1.0000 - val_loss: 0.6683 - val_accuracy: 0.8472\n",
                        "Epoch 95/100\n",
                        "7/7 [==============================] - 0s 51ms/step - loss: 8.0619e-04 - accuracy: 1.0000 - val_loss: 0.6736 - val_accuracy: 0.8444\n",
                        "Epoch 96/100\n",
                        "7/7 [==============================] - 0s 47ms/step - loss: 7.7646e-04 - accuracy: 1.0000 - val_loss: 0.6755 - val_accuracy: 0.8472\n",
                        "Epoch 97/100\n",
                        "7/7 [==============================] - 0s 47ms/step - loss: 7.3885e-04 - accuracy: 1.0000 - val_loss: 0.6788 - val_accuracy: 0.8472\n",
                        "Epoch 98/100\n",
                        "7/7 [==============================] - 0s 56ms/step - loss: 7.1828e-04 - accuracy: 1.0000 - val_loss: 0.6816 - val_accuracy: 0.8472\n",
                        "Epoch 99/100\n",
                        "7/7 [==============================] - 0s 44ms/step - loss: 6.8366e-04 - accuracy: 1.0000 - val_loss: 0.6859 - val_accuracy: 0.8444\n",
                        "Epoch 100/100\n",
                        "7/7 [==============================] - 0s 44ms/step - loss: 6.6004e-04 - accuracy: 1.0000 - val_loss: 0.6887 - val_accuracy: 0.8472\n"
                    ]
                }
            ],
            "source": [
                "history = CNN_model.fit(X, y, epochs=100, batch_size=128, verbose=1, validation_split=0.3)"
            ]
        },
        {
            "cell_type": "code",
            "execution_count": null,
            "metadata": {},
            "outputs": [
                {
                    "data": {
                        "text/plain": [
                            "<matplotlib.legend.Legend at 0x7fe6b51cc100>"
                        ]
                    },
                    "execution_count": 166,
                    "metadata": {},
                    "output_type": "execute_result"
                },
                {
                    "data": {
                        "image/png": "[encoded data removed]",
                        "text/plain": [
                            "<Figure size 432x288 with 1 Axes>"
                        ]
                    },
                    "metadata": {
                        "needs_background": "light"
                    },
                    "output_type": "display_data"
                }
            ],
            "source": [
                "# plot the training accuracy and validation accuracy\n",
                "plt.plot(history.history['accuracy'])\n",
                "plt.plot(history.history['val_accuracy'])\n",
                "plt.legend(['train', 'val'], loc='upper left')"
            ]
        },
        {
            "attachments": {},
            "cell_type": "markdown",
            "metadata": {},
            "source": [
                "**2.2.3**"
            ]
        },
        {
            "cell_type": "code",
            "execution_count": null,
            "metadata": {},
            "outputs": [],
            "source": [
                "#your code here"
            ]
        },
        {
            "attachments": {},
            "cell_type": "markdown",
            "metadata": {},
            "source": [
                "**Error Analysis Inference:**\n",
                "\n",
                "*your answer here*"
            ]
        }
    ],
    "metadata": {
        "kernelspec": {
            "display_name": "Python 3 (ipykernel)",
            "language": "python",
            "name": "python3"
        },
        "language_info": {
            "codemirror_mode": {
                "name": "ipython",
                "version": 3
            },
            "file_extension": ".py",
            "mimetype": "text/x-python",
            "name": "python",
            "nbconvert_exporter": "python",
            "pygments_lexer": "ipython3",
            "version": "3.10.6"
        }
    },
    "nbformat": 4,
    "nbformat_minor": 4
}
